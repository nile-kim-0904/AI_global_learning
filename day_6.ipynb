{
 "cells": [
  {
   "cell_type": "code",
   "execution_count": 1,
   "id": "5b7563a2",
   "metadata": {},
   "outputs": [],
   "source": [
    "import requests\n",
    "from bs4 import BeautifulSoup"
   ]
  },
  {
   "cell_type": "code",
   "execution_count": 24,
   "id": "f216bf77",
   "metadata": {},
   "outputs": [],
   "source": [
    "# 네이버 영화 순위 url\n",
    "url = \"https://movie.naver.com/movie/sdb/rank/rmovie.naver?sel=cur&date=20211229\"\n",
    "\n",
    "# url에서 데이터 가져옴\n",
    "resp = requests.get(url)\n",
    "soup = BeautifulSoup(resp.text)"
   ]
  },
  {
   "cell_type": "code",
   "execution_count": 26,
   "id": "b5128cc9",
   "metadata": {},
   "outputs": [
    {
     "name": "stdout",
     "output_type": "stream",
     "text": [
      "1 : 매트릭스 = 9.40\n",
      "2 : 코다 = 9.24\n",
      "3 : 꽃다발 같은 사랑을 했다 = 9.03\n",
      "4 : 스파이더맨: 노 웨이 홈 = 9.03\n",
      "5 : 러브 액츄얼리 = 8.93\n",
      "6 : 기쿠지로의 여름 = 8.92\n",
      "7 : 아멜리에 = 8.81\n",
      "8 : 고양이를 부탁해 = 8.81\n",
      "9 : 너의 이름은. = 8.80\n",
      "10 : 공각기동대 = 8.72\n",
      "11 : 돈 룩 업 = 8.65\n",
      "12 : 너와 파도를 탈 수 있다면 = 8.53\n",
      "13 : 태일이 = 8.49\n",
      "14 : 초속5센티미터 = 8.35\n",
      "15 : 엔칸토: 마법의 세계 = 8.32\n",
      "16 : 연애 빠진 로맨스 = 8.31\n",
      "17 : 킹스맨: 퍼스트 에이전트 = 8.22\n",
      "18 : 프렌치 디스패치 = 8.03\n",
      "19 : 날씨의 아이 = 7.96\n",
      "20 : 라스트 나잇 인 소호 = 7.84\n",
      "21 : 유체이탈자 = 7.59\n",
      "22 : 디어 에반 핸슨 = 7.50\n",
      "23 : 아네트 = 7.28\n",
      "24 : 장르만 로맨스 = 6.66\n",
      "25 : 베놈 2: 렛 데어 비 카니지 = 6.11\n",
      "26 : 매트릭스: 리저렉션 = 5.65\n",
      "27 : 이터널스 = 5.57\n"
     ]
    }
   ],
   "source": [
    "idx = 0\n",
    "for line in soup.find_all('tr'):\n",
    "    if (line.find('td',class_='title')):\n",
    "        #pass\n",
    "        idx += 1\n",
    "        print(\"{} : {} = {}\".format(idx,line.find('a').text,line.find('td',class_='point').text))"
   ]
  },
  {
   "cell_type": "code",
   "execution_count": null,
   "id": "c2bbf689",
   "metadata": {},
   "outputs": [],
   "source": []
  },
  {
   "cell_type": "code",
   "execution_count": 34,
   "id": "cdfa138d",
   "metadata": {},
   "outputs": [
    {
     "name": "stdout",
     "output_type": "stream",
     "text": [
      "1. 매트릭스: 9.40\n",
      "2. 코다: 9.24\n",
      "3. 꽃다발 같은 사랑을 했다: 9.03\n",
      "4. 스파이더맨: 노 웨이 홈: 9.03\n",
      "5. 러브 액츄얼리: 8.93\n",
      "6. 기쿠지로의 여름: 8.92\n",
      "7. 아멜리에: 8.81\n",
      "8. 고양이를 부탁해: 8.81\n",
      "9. 너의 이름은.: 8.80\n",
      "10. 공각기동대: 8.72\n",
      "11. 돈 룩 업: 8.65\n",
      "12. 너와 파도를 탈 수 있다면: 8.53\n",
      "13. 태일이: 8.49\n",
      "14. 초속5센티미터: 8.35\n",
      "15. 엔칸토: 마법의 세계: 8.32\n",
      "16. 연애 빠진 로맨스: 8.31\n",
      "17. 킹스맨: 퍼스트 에이전트: 8.22\n",
      "18. 프렌치 디스패치: 8.03\n",
      "19. 날씨의 아이: 7.96\n",
      "20. 라스트 나잇 인 소호: 7.84\n",
      "21. 유체이탈자: 7.59\n",
      "22. 디어 에반 핸슨: 7.50\n",
      "23. 아네트: 7.28\n",
      "24. 장르만 로맨스: 6.66\n",
      "25. 베놈 2: 렛 데어 비 카니지: 6.11\n",
      "26. 매트릭스: 리저렉션: 5.65\n",
      "27. 이터널스: 5.57\n"
     ]
    }
   ],
   "source": [
    "movie_title = []\n",
    "movie_point = []\n",
    "\n",
    "# 영화제목, 평점 검색\n",
    "for line in soup.find_all('tr'):\n",
    "    title = line.find('div', class_='tit5')\n",
    "    #title = line.select_one('div.tit5') 와 동일\n",
    "    if title:\n",
    "        movie_title.append(title.get_text().strip('\\n'))\n",
    "    point = line.find('td', class_='point')\n",
    "    if point:\n",
    "        movie_point.append(point.get_text())\n",
    "        \n",
    "# 순위, 영화제목, 평점 출력\n",
    "for idx, (title,point) in enumerate(zip(movie_title,movie_point)):\n",
    "    print(\"{}. {}: {}\".format(idx+1,title,point))"
   ]
  },
  {
   "cell_type": "code",
   "execution_count": 73,
   "id": "d13aa3c5",
   "metadata": {},
   "outputs": [
    {
     "name": "stdout",
     "output_type": "stream",
     "text": [
      "학생 이름 입력 > 김남우\n",
      "국어, 영어, 수학 점수 입력 > 10 20 30\n",
      "학생 이름 입력 > 조용희\n",
      "국어, 영어, 수학 점수 입력 > 20 30 40\n",
      "학생 이름 입력 > 신계호\n",
      "국어, 영어, 수학 점수 입력 > 30 40 50\n",
      "학생 이름 입력 > 이성찬\n",
      "국어, 영어, 수학 점수 입력 > 40 50 60\n",
      "학생 이름 입력 > q\n"
     ]
    }
   ],
   "source": [
    "# 학생, 국어, 영어, 수학 점수를 입력 받아 student_dict{}에 저장한 후 출력\n",
    "def create_student():\n",
    "    student = {}\n",
    "    name = input(\"학생 이름 입력 > \")\n",
    "    student['name'] = name\n",
    "    if (name=='q'):\n",
    "        return student\n",
    "    score = list(map(int,input(\"국어, 영어, 수학 점수 입력 > \").split()))\n",
    "\n",
    "    for idx, value in enumerate(score):\n",
    "        student[score_name[idx]] = score[idx]\n",
    "    \n",
    "    return student\n",
    "\n",
    "students = []\n",
    "score_name = ['kor','eng','math']\n",
    "while True:\n",
    "    student = create_student()\n",
    "    if(student['name'] == 'q'):\n",
    "        break\n",
    "    students.append(student)"
   ]
  },
  {
   "cell_type": "code",
   "execution_count": 78,
   "id": "67d783ac",
   "metadata": {},
   "outputs": [],
   "source": [
    "def student_get_sum(student):\n",
    "    #print(type(student))\n",
    "    return student['kor']+student['eng']+student['math']\n",
    "\n",
    "def student_get_avg(student):\n",
    "    return student_get_sum(student)/3\n",
    "\n",
    "def student_print(students):\n",
    "    for item in students:\n",
    "        for key in item:\n",
    "            print(\"{}: {}\\t\".format(key,item[key]),end='')\n",
    "        print(\"총점:{}, avg:{}\".format(student_get_sum(item),student_get_avg(item)))\n",
    "        print('\\n')\n",
    "        "
   ]
  },
  {
   "cell_type": "code",
   "execution_count": 80,
   "id": "5e7afba0",
   "metadata": {},
   "outputs": [
    {
     "name": "stdout",
     "output_type": "stream",
     "text": [
      "name: 김남우\tkor: 10\teng: 20\tmath: 30\t총점:60, avg:20.0\n",
      "\n",
      "\n",
      "name: 조용희\tkor: 20\teng: 30\tmath: 40\t총점:90, avg:30.0\n",
      "\n",
      "\n",
      "name: 신계호\tkor: 30\teng: 40\tmath: 50\t총점:120, avg:40.0\n",
      "\n",
      "\n",
      "name: 이성찬\tkor: 40\teng: 50\tmath: 60\t총점:150, avg:50.0\n",
      "\n",
      "\n"
     ]
    }
   ],
   "source": [
    "student_print(students)\n",
    "    \n",
    "# for item in students:\n",
    "#     for key in item:\n",
    "#         print(\"{} : {}\\t\".format(key,item[key]),sep='')\n",
    "#     print(\"\\n\")"
   ]
  },
  {
   "cell_type": "code",
   "execution_count": 83,
   "id": "4210a01b",
   "metadata": {},
   "outputs": [],
   "source": [
    "#class 생성하기 class 클래스명: ~\n",
    "class Student:\n",
    "    def __init__(self,name,kor,eng,math):\n",
    "        self.name = name\n",
    "        self.kor = kor\n",
    "        self.eng = eng\n",
    "        self.math = math\n",
    "    def get_sum(self):\n",
    "        return self.kor + self.eng + self.math\n",
    "    def get_avg(self):\n",
    "        return self.get_sum()/3\n",
    "    def to_print(self):\n",
    "        return \"{}:{}\\t {}\\n\".format(self.name,self.get_sum(),self.get_avg())"
   ]
  },
  {
   "cell_type": "code",
   "execution_count": 90,
   "id": "b7a17508",
   "metadata": {},
   "outputs": [
    {
     "name": "stdout",
     "output_type": "stream",
     "text": [
      "학생 이름 입력 > q\n"
     ]
    }
   ],
   "source": [
    "students = []\n",
    "while True:\n",
    "    name = input(\"학생 이름 입력 > \")\n",
    "    if (name=='q'):\n",
    "        break\n",
    "    score = list(map(int,input(\"국어, 영어, 수학 점수 입력 > \").split()))\n",
    "    kor = score[0]\n",
    "    eng = score[1]\n",
    "    math = score[2]\n",
    "    student = Student(name,kor,eng,math)\n",
    "    students.append(student)\n",
    "\n",
    "for student in students:\n",
    "    #print(student.to_print())\n",
    "    print(type(student))"
   ]
  },
  {
   "cell_type": "code",
   "execution_count": 112,
   "id": "a1809dcb",
   "metadata": {},
   "outputs": [],
   "source": [
    "class Test:\n",
    "    def __init__(self,a,b,c):\n",
    "        self.a = a\n",
    "        self.b = b\n",
    "        self.c = c\n",
    "        print(\"Test class 생성자\")\n",
    "    def class_print(self):\n",
    "        return self.a + self.b + self.c\n",
    "    def class_return(self,a):\n",
    "        return a\n",
    "    def __del__(self):\n",
    "        print(\"Test class 소멸자\")"
   ]
  },
  {
   "cell_type": "code",
   "execution_count": 119,
   "id": "8901d83b",
   "metadata": {},
   "outputs": [
    {
     "name": "stdout",
     "output_type": "stream",
     "text": [
      "Test class 생성자\n",
      "Test class 소멸자\n"
     ]
    }
   ],
   "source": [
    "a = Test(10,20,30)\n",
    "a.class_print()\n",
    "\n",
    "del a"
   ]
  },
  {
   "cell_type": "code",
   "execution_count": 122,
   "id": "fe632d86",
   "metadata": {},
   "outputs": [
    {
     "name": "stdout",
     "output_type": "stream",
     "text": [
      "isinstance(student):  True\n"
     ]
    }
   ],
   "source": [
    "print(\"isinstance(student): \",isinstance(student,Student))"
   ]
  },
  {
   "cell_type": "code",
   "execution_count": 126,
   "id": "66ca6df9",
   "metadata": {},
   "outputs": [
    {
     "name": "stdout",
     "output_type": "stream",
     "text": [
      "공부합니다\n",
      "가르칩니다\n",
      "공부합니다\n",
      "공부합니다\n",
      "가르칩니다\n"
     ]
    }
   ],
   "source": [
    "class Student:\n",
    "    def study(self):\n",
    "        print(\"공부합니다\")\n",
    "class Teacher:\n",
    "    def teach(self):\n",
    "        print(\"가르칩니다\")\n",
    "        \n",
    "classroom = [Student(), Teacher(), Student(), Student(), Teacher()]\n",
    "\n",
    "for person in classroom:\n",
    "    if isinstance(person,Student):\n",
    "        person.study()\n",
    "    else:\n",
    "        person.teach()"
   ]
  },
  {
   "cell_type": "code",
   "execution_count": 4,
   "id": "c5e64e76",
   "metadata": {},
   "outputs": [
    {
     "name": "stdout",
     "output_type": "stream",
     "text": [
      "윤인성\n",
      "연하진\n",
      "나선주\n"
     ]
    }
   ],
   "source": [
    "class Student:\n",
    "    def __init__(self,name,kor,eng,math):\n",
    "        self.name = name\n",
    "        self.kor = kor\n",
    "        self.eng = eng\n",
    "        self.math = math\n",
    "    def get_sum(self):\n",
    "        return self.kor + self.eng + self.math\n",
    "    def get_avg(self):\n",
    "        return self.get_sum() / 3\n",
    "    def __str__(self):\n",
    "        return \"{}\\t{}\\t{}\".format(self.name,self.get_sum(),self.get_avg())\n",
    "    def __eq__(self,value):\n",
    "        return self.get_sum() == value.get_sum()\n",
    "    def __ne__(self,value):\n",
    "        return self.get_sum() != value.get_sum()\n",
    "    def __gt__(self,value):\n",
    "        return self.get_sum() > value.get_sum()\n",
    "    \n",
    "students = [\n",
    "    Student(\"윤인성\", 87, 98, 88),\n",
    "    Student(\"연하진\", 92, 98, 96),\n",
    "    Student(\"구지연\", 76, 96, 94),\n",
    "    Student(\"나선주\", 98, 92, 96),\n",
    "    Student(\"윤아린\", 95, 98, 98),\n",
    "    Student(\"윤명월\", 64, 88, 92)\n",
    "]\n",
    "\n",
    "student_a = Student(\"윤인성\", 87, 98, 88)\n",
    "student_b = Student(\"연하진\", 92, 98, 96)\n",
    "\n",
    "#print(\"student_a == student_b => \",student_a == student_b)\n",
    "#print(\"student_a != student_b => \",student_a != student_b)\n",
    "\n",
    "for student in students:\n",
    "    if student == student_a:\n",
    "        #pass\n",
    "        print(student.name)\n",
    "    elif student == student_b:\n",
    "        #pass\n",
    "        print(student.name)"
   ]
  },
  {
   "cell_type": "code",
   "execution_count": 12,
   "id": "58d1e0a5",
   "metadata": {},
   "outputs": [
    {
     "name": "stdout",
     "output_type": "stream",
     "text": [
      "----------학생 목록----------\n",
      "이름\t총점\t평균\n",
      "윤인성\t273\t91.0\n",
      "연하진\t286\t95.33333333333333\n",
      "구지연\t266\t88.66666666666667\n",
      "나선주\t286\t95.33333333333333\n",
      "윤아린\t291\t97.0\n",
      "윤명월\t244\t81.33333333333333\n",
      "-----------------------------\n",
      "전체 인원 수:  6\n"
     ]
    }
   ],
   "source": [
    "#클래스 변수\n",
    "class Student:\n",
    "    count = 0\n",
    "    students = []\n",
    "    def __init__(self,name,kor,eng,math):\n",
    "        self.name = name\n",
    "        self.kor = kor\n",
    "        self.eng = eng\n",
    "        self.math = math\n",
    "        \n",
    "        Student.count += 1\n",
    "        Student.students.append(self)\n",
    "        \n",
    "    @classmethod\n",
    "    def print(cls):\n",
    "        print(\"----------학생 목록----------\")\n",
    "        print(\"이름\\t총점\\t평균\")\n",
    "        for student in cls.students:\n",
    "            print(str(student))\n",
    "        print(\"-----------------------------\")\n",
    "        \n",
    "    def get_sum(self):\n",
    "        return self.kor + self.eng + self.math\n",
    "    \n",
    "    def get_avg(self):\n",
    "        return self.get_sum() / 3 \n",
    "\n",
    "    def __str__(self):\n",
    "        return \"{}\\t{}\\t{}\".format(self.name,self.get_sum(),self.get_avg())\n",
    "        \n",
    "\n",
    "Student(\"윤인성\", 87, 98, 88)\n",
    "Student(\"연하진\", 92, 98, 96)\n",
    "Student(\"구지연\", 76, 96, 94)\n",
    "Student(\"나선주\", 98, 92, 96)\n",
    "Student(\"윤아린\", 95, 98, 98)\n",
    "Student(\"윤명월\", 64, 88, 92)\n",
    "\n",
    "\n",
    "Student.print()\n",
    "print(\"전체 인원 수: \",Student.count)\n",
    "\n",
    "    "
   ]
  },
  {
   "cell_type": "code",
   "execution_count": 24,
   "id": "5cbb0d0c",
   "metadata": {},
   "outputs": [
    {
     "name": "stdout",
     "output_type": "stream",
     "text": [
      "학생 이름 입력 > 김남우\n",
      "국어, 영어, 수학 점수 입력 > 10 20 30\n",
      "학생 이름 입력 > q\n",
      "----------학생 목록----------\n",
      "이름\t국어\t영어\t수학\t총점\t평균\n",
      "김남우\t10\t20\t30\t60\t20.0\n",
      "-----------------------------\n",
      "전체 인원수: 1, 총점: 60, 평균: 60.000\n"
     ]
    }
   ],
   "source": [
    "#학생 자료를 입력 받아 클래스 리스트에 저장\n",
    "#학생들의 각 과목별 점수와 총점, 평균을 출력\n",
    "#전체 학생의 인원수와 전체 학생의 총점과 평균을 구하세요\n",
    "\n",
    "class Student:\n",
    "    count = 0\n",
    "    students = []\n",
    "    def __init__(self,name,kor,eng,math):\n",
    "        self.name = name\n",
    "        self.kor = kor\n",
    "        self.eng = eng\n",
    "        self.math = math\n",
    "        \n",
    "        Student.count += 1\n",
    "        Student.students.append(self)\n",
    "    @classmethod\n",
    "    def print(cls):\n",
    "        print(\"----------학생 목록----------\")\n",
    "        print(\"이름\\t국어\\t영어\\t수학\\t총점\\t평균\")\n",
    "        for student in cls.students:\n",
    "            print(str(student))\n",
    "        print(\"-----------------------------\")\n",
    "        \n",
    "    def get_sum(self):\n",
    "        return self.kor + self.eng + self.math\n",
    "    \n",
    "    def get_avg(self):\n",
    "        return self.get_sum() / 3 \n",
    "\n",
    "    def __str__(self): # \n",
    "        return \"{}\\t{}\\t{}\\t{}\\t{}\\t{}\".format(self.name,self.kor,self.eng,self.math,self.get_sum(),self.get_avg())\n",
    "\n",
    "while True:\n",
    "    name = input(\"학생 이름 입력 > \")\n",
    "    if (name=='q'):\n",
    "        break\n",
    "    score = list(map(int,input(\"국어, 영어, 수학 점수 입력 > \").split()))\n",
    "    kor = score[0]\n",
    "    eng = score[1]\n",
    "    math = score[2]\n",
    "    \n",
    "    Student(name,kor,eng,math)\n",
    "    \n",
    "Student.print()\n",
    "total = 0\n",
    "for student in Student.students:\n",
    "    total += student.kor + student.eng + student.math\n",
    "print(\"전체 인원수: {}, 총점: {}, 평균: {:.3f}\".format(Student.count,total,total/Student.count))"
   ]
  },
  {
   "cell_type": "code",
   "execution_count": 39,
   "id": "25778d3e",
   "metadata": {},
   "outputs": [],
   "source": [
    "class Circle:\n",
    "    def __init__(self,radius):\n",
    "        self.__radius = radius\n",
    "    def get_circum(self):\n",
    "        return self.__radius*2*3.14\n",
    "    def get_area(self):\n",
    "        return self.__radius * self.__radius*3.14\n",
    "    def get_radius(self): #게터\n",
    "        return self.__radius\n",
    "    def set_radius(self,value): #세터\n",
    "        self.__radius = value"
   ]
  },
  {
   "cell_type": "code",
   "execution_count": 42,
   "id": "63f5e5b6",
   "metadata": {},
   "outputs": [
    {
     "name": "stdout",
     "output_type": "stream",
     "text": [
      "314.0\n",
      "10\n",
      "5\n"
     ]
    }
   ],
   "source": [
    "circle = Circle(10)\n",
    "print(circle.get_area())\n",
    "\n",
    "#print(circle.__radius)\n",
    "print(circle.get_radius())\n",
    "circle.set_radius(5)\n",
    "print(circle.get_radius())"
   ]
  },
  {
   "cell_type": "code",
   "execution_count": null,
   "id": "4d0b93c7",
   "metadata": {},
   "outputs": [],
   "source": [
    "# 학생들의 이름과 점수를 입력 받아 리스트에 저장한 후 자료 출력\n",
    "# 학생들의 이름과 점수를 입력받아 딕셔너리에 저장한 후 출력\n",
    "# 클래스를 생성하여 입력 후 출력\n",
    "\n",
    "while True:\n",
    "    name = input(\"학생 이름 입력 > \")\n",
    "    if (name=='q'):\n",
    "        break\n",
    "    score = list(map(int,input(\"국어, 영어, 수학 점수 입력 > \").split()))\n",
    "    kor = score[0]\n",
    "    eng = score[1]\n",
    "    math = score[2]\n",
    "    Student(name,kor,eng,math)"
   ]
  }
 ],
 "metadata": {
  "kernelspec": {
   "display_name": "Python 3 (ipykernel)",
   "language": "python",
   "name": "python3"
  },
  "language_info": {
   "codemirror_mode": {
    "name": "ipython",
    "version": 3
   },
   "file_extension": ".py",
   "mimetype": "text/x-python",
   "name": "python",
   "nbconvert_exporter": "python",
   "pygments_lexer": "ipython3",
   "version": "3.9.7"
  }
 },
 "nbformat": 4,
 "nbformat_minor": 5
}
