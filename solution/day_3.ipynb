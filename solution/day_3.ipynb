{
 "cells": [
  {
   "cell_type": "code",
   "execution_count": null,
   "id": "fdf575e9",
   "metadata": {},
   "outputs": [],
   "source": [
    "# range([start_no], end_no, [step]) 함수를 사용한 for 반복문 실행\n",
    "# range(5)\n",
    "print(\"range(5)\")\n",
    "for i in range(5):\n",
    "    print(str(i) + ' = 반복횟수')\n",
    "\n",
    "# range(1,5)\n",
    "print(\"range(1,5)\")\n",
    "for i in range(1,5):\n",
    "    print(str(i) + ' = 반복횟수')\n",
    "    \n",
    "# range(1,10,2)\n",
    "print(\"range(1,10,2)\")\n",
    "for i in range(1,10, 2):\n",
    "    print(str(i) + ' = 반복횟수')"
   ]
  },
  {
   "cell_type": "code",
   "execution_count": null,
   "id": "6d837846",
   "metadata": {},
   "outputs": [],
   "source": [
    "# list 와 for 사용하기\n",
    "list_a = [273,32,103,68,90]\n",
    "for element in list_a:\n",
    "    print(element)\n",
    "\n",
    "# list의 길이를 range함수에 적용해서\n",
    "for i in range(len(list_a)):\n",
    "    print(\"{}번째 반복: {}\".format(i, list_a[i]))\n",
    "    \n",
    "# 리스트의 값을 역으로 출력\n",
    "for i in range(len(list_a)-1, -1, -1):\n",
    "    print(\"{}번째 반복: {}\".format(i, list_a[i]))\n",
    "print()\n",
    "# 리스트의 값을 역으로 출력\n",
    "for i in reversed(range(len(list_a))):\n",
    "    print(\"{}번째 반복: {}\".format(i, list_a[i]))\n",
    "print()    \n",
    "# list의 값을 인덱스와 같이 출력\n",
    "for idx, value in enumerate(list_a):\n",
    "    print(\"{}번째 반복: {}\".format(idx, value))"
   ]
  },
  {
   "cell_type": "code",
   "execution_count": null,
   "id": "5d97a2e6",
   "metadata": {},
   "outputs": [],
   "source": [
    "# while 표현식:\n",
    "# while True:\n",
    "#     print(\".\", end=\"\")\n",
    "\n",
    "# while문을 for문처럼 사용하기\n",
    "i = 0\n",
    "while i < len(list_a):  # 반복문을 처리할 수 있는 조건이 True이면 실행\n",
    "    print(list_a[i])\n",
    "    i +=1"
   ]
  },
  {
   "cell_type": "code",
   "execution_count": null,
   "id": "a8afcb63",
   "metadata": {},
   "outputs": [],
   "source": [
    "# 상태를 기반으로 반복문 실행\n",
    "list_b = [1, 2, 1, 2]\n",
    "value = 2\n",
    "while value in list_b:  # True 인지 False인지 판단해서 True이면 실행\n",
    "    list_b.remove(value)\n",
    "print(list_b)"
   ]
  },
  {
   "cell_type": "code",
   "execution_count": null,
   "id": "adee1079",
   "metadata": {},
   "outputs": [],
   "source": [
    "# 이름과 점수를 입력받아 딕셔너리에 저장\n",
    "# 이름에 'q'가 입력되면 입력 종료\n",
    "# 검색할 이름을 입력받아 해당 이름이 있으면 이름과 점수 출력\n",
    "#  검색할 이름이 없으면 '자료 없음'으로 출력\n",
    "dict_score = {}\n",
    "while True:\n",
    "    input_list = input(\"이름 성적 입력 (\\'q\\'를 입력하면 종료)\").split()\n",
    "    if input_list[0] == 'q':   # 입력 종료\n",
    "        break\n",
    "    # 입력 데이터 수가 2가 아니거나 두번째 입력 자료가 숫자가 아니면 다시 입력     \n",
    "    if len(input_list) != 2 or not input_list[1].isdigit(): \n",
    "        continue\n",
    "    \n",
    "    dict_score[input_list[0]] = int(input_list[1])\n",
    "    \n",
    "# 데이터 검색\n",
    "search_name = input(\"검색할 이름 : \")\n",
    "if search_name in dict_score:\n",
    "    print(\"{}의 성적 : {}\".format(search_name, dict_score[search_name]))\n",
    "else:\n",
    "    print(\"자료 없음\")\n"
   ]
  },
  {
   "cell_type": "code",
   "execution_count": null,
   "id": "97c02b99",
   "metadata": {},
   "outputs": [],
   "source": [
    "# 계산식을 입력받아 계산 결과를 출력하는 프로그램 작성\n",
    "# 10 + 20 -> 10 + 20 = 30\n",
    "# +, -, *, /,  % 모두 가능하도록 하세요\n",
    "# 처음 문자에 'q'가 입력되면 프로그램 종료\n",
    "while True:\n",
    "    cal_list = input(\"계산식 입력 ex:10 + 20, q가 입력되면 종료\").split()\n",
    "    if cal_list[0] =='q':\n",
    "        break\n",
    "    if len(cal_list) != 3 or not cal_list[1] in '+-*/%':\n",
    "        continue\n",
    "    if cal_list[1] == '+':\n",
    "        result = int(cal_list[0]) + int(cal_list[2])\n",
    "    elif cal_list[1] == '-':\n",
    "        result = int(cal_list[0]) - int(cal_list[2])\n",
    "    elif cal_list[1] == '*':\n",
    "        result = int(cal_list[0]) * int(cal_list[2])   \n",
    "    elif cal_list[1] == '/':\n",
    "        result = int(cal_list[0]) / int(cal_list[2])\n",
    "    elif cal_list[1] == '%':\n",
    "        result = int(cal_list[0]) % int(cal_list[2])         \n",
    "    \n",
    "    print(\"{} {} {} = {}\".format(cal_list[0],cal_list[1],cal_list[2],result))"
   ]
  },
  {
   "cell_type": "code",
   "execution_count": null,
   "id": "198ebdec",
   "metadata": {},
   "outputs": [],
   "source": [
    "import time\n",
    "\n",
    "number = 0\n",
    "target_time = time.time() + 5\n",
    "while time.time() < target_time:\n",
    "    number += 1\n",
    "print(\"5초동안 {}번 반복 실행 \".format(number))"
   ]
  },
  {
   "cell_type": "code",
   "execution_count": null,
   "id": "c3496a83",
   "metadata": {},
   "outputs": [],
   "source": [
    "# reversed() 함수\n",
    "list_a = [10,20,30,40,50]\n",
    "reverse_a = reversed(list_a)  # 주소를 복사\n",
    "\n",
    "print(reverse_a)\n",
    "for i in reverse_a:\n",
    "    print(\"{}\".format(i))\n",
    "print(\"rever second : \", reverse_a)\n",
    "for i in reverse_a:\n",
    "    print(\"{}\".format(i))    \n",
    "print(\"reverser first\")    \n",
    "for i in reversed(list_a) :\n",
    "    print(\"{}\".format(i))\n",
    "print()\n",
    "for i in reversed(list_a) :\n",
    "    print(\"{}\".format(i))"
   ]
  },
  {
   "cell_type": "code",
   "execution_count": null,
   "id": "674d4601",
   "metadata": {},
   "outputs": [],
   "source": [
    "print(list_a)\n",
    "print(list_a[::-1])  # 뒤에서 부터 자료 가져 옴\n",
    "list_a"
   ]
  },
  {
   "cell_type": "markdown",
   "id": "3e97295e",
   "metadata": {},
   "source": [
    "- list의 idx와 value를 동시에 반환 : enumerate(list)\n",
    "- dict의 key와 value를 동시에 반화 : dit.items()"
   ]
  },
  {
   "cell_type": "code",
   "execution_count": null,
   "id": "b9c89465",
   "metadata": {},
   "outputs": [],
   "source": [
    "# 리스트 내포 : [  i for i in 반복 조건식 ]\n",
    "array = [ i for i in range(10) if i % 2 == 0 ]\n",
    "print(array)\n",
    "\n",
    "array = [ i for i in range(10) if i % 2 ] # 홀수만\n",
    "array"
   ]
  },
  {
   "cell_type": "code",
   "execution_count": null,
   "id": "ed6c46bd",
   "metadata": {},
   "outputs": [],
   "source": [
    "# 1에서 100 까지의 홀수의 합과 짝수의 합을 구하세요\n",
    "odd_sum = sum([ i for i in range(100+1) if i %2])\n",
    "\n",
    "even_sum = sum([ i for i in range(100+1) if not i %2 ])\n",
    "print(odd_sum, even_sum)"
   ]
  },
  {
   "cell_type": "code",
   "execution_count": null,
   "id": "cb2e4c08",
   "metadata": {},
   "outputs": [],
   "source": [
    "# 변수를 선언합니다.\n",
    "number = int(input(\"정수 입력> \"))\n",
    "\n",
    "# if 조건문으로 홀수 짝수를 구분합니다.\n",
    "if number % 2 == 0:\n",
    "    print(\"\"\"\\\n",
    "        입력한 문자열은 {}입니다.\n",
    "        {}는(은) 짝수입니다.\"\"\".format(number, number))\n",
    "else:\n",
    "    print(\"\"\"\\\n",
    "        입력한 문자열은 {}입니다.\n",
    "        {}는(은) 홀수입니다.\"\"\".format(number, number))"
   ]
  },
  {
   "cell_type": "code",
   "execution_count": null,
   "id": "f90ae2ef",
   "metadata": {},
   "outputs": [],
   "source": [
    "test = (\n",
    "\"이렇게 입력해도 \"\n",
    "\" 하나의 문자열 \")\n",
    "print(test)\n",
    "\n",
    "if number % 2 == 0:\n",
    "    print((\n",
    "        \"입력한 문자열은 {}입니다.\\n\"\n",
    "        \"{}는(은) 짝수입니다.\").format(number, number))\n",
    "else:\n",
    "    print((\n",
    "        \"입력한 문자열은 {}입니다.\\n\"\n",
    "        \"{}는(은) 홀수입니다.\").format(number, number))"
   ]
  },
  {
   "cell_type": "code",
   "execution_count": null,
   "id": "57ec90bf",
   "metadata": {},
   "outputs": [],
   "source": [
    "# [] 리스트, {} 딕셔너리, () 튜플 : 데이터 변경 불가능\n",
    "a = (1,2,3,4)\n",
    "a_list = [1,2,3,4]\n",
    "# a[0] =2   # 튜플은 변경 불가 \n",
    "print(a[0])\n",
    "a_list[0] = 5"
   ]
  },
  {
   "cell_type": "code",
   "execution_count": null,
   "id": "a7443fc8",
   "metadata": {},
   "outputs": [],
   "source": [
    "# 문자열 연결 함수 : 문자열.join(리스트)\n",
    "list_a = ['1','2','3','4','5']  # 1-2-3-4-5\n",
    "join_list = \"::\".join(list_a)\n",
    "\n",
    "print(join_list)\n",
    "join_list.split(sep='::')"
   ]
  },
  {
   "cell_type": "code",
   "execution_count": null,
   "id": "096fde91",
   "metadata": {},
   "outputs": [],
   "source": [
    "# 이터레이터 함수 \n",
    "numbers = [1,2,3,4,5]\n",
    "r_num = reversed(numbers)\n",
    "\n",
    "print(\"reversed_numbers :\", r_num)\n",
    "print(next(r_num))\n",
    "print(next(r_num))\n",
    "print(next(r_num))\n",
    "print(next(r_num))\n",
    "print(next(r_num))\n",
    "# print(next(r_num))"
   ]
  },
  {
   "cell_type": "code",
   "execution_count": null,
   "id": "560761a0",
   "metadata": {},
   "outputs": [],
   "source": [
    "# 전화번호부를 작성\n",
    "# 이름, 전화번호 입력 : 홍길동 123 345 7896\n",
    "# 저장은 딕셔너리 이름, 전화번호로 저장-> 전화번호는 123-345-7896의 형식으로\n",
    "# 이름에 'q'가 입력되면 입력 종료\n",
    "# 검색할 이름 입력하면 -> 전화번호를 검색해서 출력, 자료 없음\n",
    "telno_dict = {}\n",
    "while True:\n",
    "    input_data = input(\"이름 전화번호 입력 : 홍길동 010 1234 5678 (종료 : q) >\")\\\n",
    "                .split()\n",
    "    name = input_data[0]\n",
    "    if name == 'q':\n",
    "        break\n",
    "    if len(input_data) != 4:\n",
    "        continue\n",
    "    telno_dict[name] = '-'.join(input_data[1:])\n",
    "    \n",
    "print(telno_dict)"
   ]
  },
  {
   "cell_type": "code",
   "execution_count": null,
   "id": "c979f9ee",
   "metadata": {},
   "outputs": [],
   "source": [
    "# 전화번호 검색\n",
    "search_name = input(\"검색할 이름 : \")\n",
    "if search_name in telno_dict:\n",
    "    print(search_name, \" : \", telno_dict[search_name])\n",
    "else:\n",
    "    print(\"자료 없음\")"
   ]
  },
  {
   "cell_type": "code",
   "execution_count": 18,
   "id": "99c15814",
   "metadata": {},
   "outputs": [],
   "source": [
    "# 함수의 정의 => def 함수명():\n",
    "# 함수의 사용 => 함수명()\n",
    "def print_3_times():\n",
    "    print(\"Hello\"); print(\"Hello\");  print(\"Hello\")\n",
    "# 일반 매개변수    \n",
    "def print_n_times(value, n):\n",
    "    for i in range(n):\n",
    "        print(value)\n",
    "# 가변 매개변수 , 일반 매개변수는 가변뒤에 올 수 없음\n",
    "def print_v_times(n, *values):\n",
    "    for i in range(n):\n",
    "        for value in values:\n",
    "            print(value)\n",
    "        print()        \n",
    "# 기본 매개변수\n",
    "def print_d_times(value, n=2, a=3,b=10):\n",
    "    for i in range(2):\n",
    "        print(value)\n",
    "    print(\"a:{}, b:{}, n:{}\".format(a,b,n))\n",
    "    return a+b+n\n",
    "#  일반 매개변수, 가변 매개변수(오직 하나만), 기본 매개변수 순으로 나열        "
   ]
  },
  {
   "cell_type": "code",
   "execution_count": 19,
   "id": "d3111edf",
   "metadata": {},
   "outputs": [
    {
     "name": "stdout",
     "output_type": "stream",
     "text": [
      "hello\n",
      "hello\n",
      "a:4, b:5, n:2\n",
      "11\n",
      "Hello\n",
      "Hello\n",
      "Hello\n",
      "test\n",
      "test\n",
      "test\n",
      "hello\n",
      "python\n",
      "\n",
      "test\n",
      "hello\n",
      "python\n",
      "\n",
      "test\n",
      "hello\n",
      "python\n",
      "\n",
      "hello\n",
      "hello\n",
      "a:3, b:10, n:2\n"
     ]
    },
    {
     "data": {
      "text/plain": [
       "15"
      ]
     },
     "execution_count": 19,
     "metadata": {},
     "output_type": "execute_result"
    }
   ],
   "source": [
    "print(print_d_times('hello',a=4,b=5)) # 키워드 매개변수\n",
    "print_3_times()\n",
    "print_n_times('test',2)\n",
    "print_v_times(3,'test','hello','python')\n",
    "print_d_times('hello')"
   ]
  },
  {
   "cell_type": "code",
   "execution_count": 24,
   "id": "390cf0be",
   "metadata": {},
   "outputs": [],
   "source": [
    "# 계산 프로그램 작성\n",
    "# +, -, *, / 가 입력되면 작성, 함수로 add, sub, mul, div 함수로 구현\n",
    "def add(num1, num2):\n",
    "    return num1+num2\n",
    "def sub(num1,num2):\n",
    "    return num1 - num2\n",
    "def mul(num1, num2):\n",
    "    return num1 * num2\n",
    "def div(num1,num2):\n",
    "    if num2:\n",
    "        return num1 / num2\n",
    "    else:\n",
    "        return 'ERR'"
   ]
  },
  {
   "cell_type": "code",
   "execution_count": 26,
   "id": "3514293e",
   "metadata": {},
   "outputs": [
    {
     "name": "stdout",
     "output_type": "stream",
     "text": [
      "계산식 입력 ex:10 + 20, q가 입력되면 종료10 + 20\n",
      "10 + 20 = 30\n",
      "계산식 입력 ex:10 + 20, q가 입력되면 종료10 * 20\n",
      "10 * 20 = 200\n",
      "계산식 입력 ex:10 + 20, q가 입력되면 종료0\n",
      "계산식 입력 ex:10 + 20, q가 입력되면 종료q\n"
     ]
    }
   ],
   "source": [
    "# 처음 문자에 'q'가 입력되면 프로그램 종료\n",
    "while True:\n",
    "    cal_list = input(\"계산식 입력 ex:10 + 20, q가 입력되면 종료\").split()\n",
    "    if cal_list[0] =='q':\n",
    "        break\n",
    "    if len(cal_list) != 3 or not cal_list[1] in '+-*/':\n",
    "        continue\n",
    "    \n",
    "    if cal_list[1] == '+':\n",
    "        result = add(int(cal_list[0]),int(cal_list[2]))\n",
    "    elif cal_list[1] == '-':\n",
    "        result = sub(int(cal_list[0]),int(cal_list[2]))\n",
    "    elif cal_list[1] == '*':\n",
    "        result = mul(int(cal_list[0]),int(cal_list[2]))\n",
    "    else:\n",
    "        result = div(int(cal_list[0]),int(cal_list[2]))\n",
    "        \n",
    "    if result == 'ERR':\n",
    "        print(\"처리 불능 \")\n",
    "    else:\n",
    "        print(\"{} {} {} = {}\".format(cal_list[0],cal_list[1],cal_list[2],\n",
    "                                     result))"
   ]
  },
  {
   "cell_type": "code",
   "execution_count": 27,
   "id": "5db821eb",
   "metadata": {},
   "outputs": [
    {
     "name": "stdout",
     "output_type": "stream",
     "text": [
      "계산식 입력 ex:10 + 20, q가 입력되면 종료10 + 20\n",
      "10 + 20 = 30\n",
      "계산식 입력 ex:10 + 20, q가 입력되면 종료10 & 2\n",
      "계산식 입력 ex:10 + 20, q가 입력되면 종료q\n"
     ]
    }
   ],
   "source": [
    "# 처음 문자에 'q'가 입력되면 프로그램 종료\n",
    "cal_dict = {\n",
    "    '+': add,\n",
    "    '-': sub,\n",
    "    '*': mul,\n",
    "    '/': div\n",
    "}\n",
    "while True:\n",
    "    cal_list = input(\"계산식 입력 ex:10 + 20, q가 입력되면 종료\").split()\n",
    "    if cal_list[0] =='q':\n",
    "        break\n",
    "    if len(cal_list) != 3 or not cal_list[1] in cal_dict:\n",
    "        continue\n",
    "    \n",
    "    result = cal_dict[cal_list[1]](int(cal_list[0]),int(cal_list[2]))\n",
    "\n",
    "    if result == 'ERR':\n",
    "        print(\"처리 불능 \")\n",
    "    else:\n",
    "        print(\"{} {} {} = {}\".format(cal_list[0],cal_list[1],cal_list[2],\n",
    "                                     result))    "
   ]
  },
  {
   "cell_type": "code",
   "execution_count": 57,
   "id": "17de4233",
   "metadata": {},
   "outputs": [],
   "source": [
    "def input_data():   # 데이터 입력\n",
    "    stu_dict = {}\n",
    "    while True:\n",
    "        name = input(\"이름 입력 (\\'q\\'를 입력하면 종료)\")\n",
    "        if name == 'q':   # 입력 종료\n",
    "            break\n",
    "        score = input(\"국어 영어 수학 점수 입력 :\").split()\n",
    "        if len(score) != 3:\n",
    "            continue\n",
    "            \n",
    "        score = list(map(int,score))  # 데이터 타입을 int로 변경\n",
    "        stu_dict[name] = score\n",
    "    return stu_dict\n",
    "\n",
    "def input_tot_avg(stu_dict):\n",
    "    for score in stu_dict.values():       \n",
    "        score.append(sum(score))\n",
    "        score.append(sum(score) / len(score))\n",
    "    return stu_dict\n",
    "\n",
    "def max_min(stu_dict):\n",
    "    tot_list = []\n",
    "    name_list = []\n",
    "    for name, score in stu_dict.items():\n",
    "        name_list.append(name)\n",
    "        tot_list.append(score[3])\n",
    "\n",
    "    max_score = max(tot_list)\n",
    "    min_score = min(tot_list)\n",
    "    for idx, score in enumerate(tot_list):\n",
    "        if max_score == score:\n",
    "            max_idx = idx\n",
    "        if min_score == score:\n",
    "            min_idx = idx\n",
    "    return min_idx, max_idx, name_list     \n",
    "\n",
    "def avg_count(stu_dict):\n",
    "    tot_score = 0\n",
    "    for score in stu_dict.values():\n",
    "        tot_score += score[3]\n",
    "    return tot_score"
   ]
  },
  {
   "cell_type": "code",
   "execution_count": 58,
   "id": "8a28680e",
   "metadata": {},
   "outputs": [
    {
     "name": "stdout",
     "output_type": "stream",
     "text": [
      "이름 입력 ('q'를 입력하면 종료)홍길동\n",
      "국어 영어 수학 점수 입력 :99 88 77\n",
      "이름 입력 ('q'를 입력하면 종료)김철수 \n",
      "국어 영어 수학 점수 입력 :88 77 66\n",
      "이름 입력 ('q'를 입력하면 종료)개나리\n",
      "국어 영어 수학 점수 입력 :80 90 70\n",
      "이름 입력 ('q'를 입력하면 종료)진달래\n",
      "국어 영어 수학 점수 입력 :88 99 70\n",
      "이름 입력 ('q'를 입력하면 종료)q\n"
     ]
    }
   ],
   "source": [
    "# 1.이름 국어 영어 수학 점수를 입력받아 dict에 저장하는 함수 \n",
    "#   이름에 'q'가 입력되면 종료\n",
    "# 2. 각 사람의 합계와 평균을 구해서 dict에 추가하는 함수\n",
    "# 3. 전체 학생의 합계가 최고 점수, 최저 점수를 가진 학생의 이름과 점수\n",
    "# 4. 전체 학생의 평균(소수점 미만 2자리까지만), 인원수를 출력\n",
    "stu_dict = input_data()\n",
    "stu_dict = input_tot_avg(stu_dict)\n",
    "(min_idx, max_idx, name_list) = max_min(stu_dict)\n",
    "# 이름 최고점, 최저점 출력\n",
    "print(\"max_name : {}, max_score : {}, min_name : {}, min_score : {}\".\\\n",
    "     format(name_list[max_idx],stu_dict[name_list[max_idx]][3],\n",
    "           name_list[min_idx],stu_dict[name_list[min_idx]][3]))\n",
    "print(\"total_score : {}, 인원수 : {}\".format(avg_count(stu_dict),\n",
    "                                          len(stu_dict)))"
   ]
  },
  {
   "cell_type": "code",
   "execution_count": null,
   "id": "65d55dc7",
   "metadata": {},
   "outputs": [],
   "source": [
    "def "
   ]
  }
 ],
 "metadata": {
  "kernelspec": {
   "display_name": "Python 3 (ipykernel)",
   "language": "python",
   "name": "python3"
  },
  "language_info": {
   "codemirror_mode": {
    "name": "ipython",
    "version": 3
   },
   "file_extension": ".py",
   "mimetype": "text/x-python",
   "name": "python",
   "nbconvert_exporter": "python",
   "pygments_lexer": "ipython3",
   "version": "3.9.7"
  }
 },
 "nbformat": 4,
 "nbformat_minor": 5
}
