{
 "cells": [
  {
   "cell_type": "markdown",
   "id": "34db15bb",
   "metadata": {},
   "source": [
    "# python \n",
    "### 기본 문법 1일차"
   ]
  },
  {
   "cell_type": "code",
   "execution_count": null,
   "id": "d70ff18d",
   "metadata": {},
   "outputs": [],
   "source": [
    "print('hello')\n",
    "print(10 * 20)\n",
    "10 + 20"
   ]
  },
  {
   "cell_type": "code",
   "execution_count": null,
   "id": "cd89e047",
   "metadata": {},
   "outputs": [],
   "source": [
    "import keyword\n",
    "#print(keyword.kwlist)"
   ]
  },
  {
   "cell_type": "code",
   "execution_count": null,
   "id": "395395b6",
   "metadata": {},
   "outputs": [],
   "source": [
    "1 + 1"
   ]
  },
  {
   "cell_type": "code",
   "execution_count": null,
   "id": "cfa0ae54",
   "metadata": {},
   "outputs": [],
   "source": [
    "\"hello\" + ' test'"
   ]
  },
  {
   "cell_type": "code",
   "execution_count": null,
   "id": "edda2f25",
   "metadata": {},
   "outputs": [],
   "source": [
    "print('test print')\n",
    "print(10 + 20)"
   ]
  },
  {
   "cell_type": "code",
   "execution_count": null,
   "id": "373576de",
   "metadata": {},
   "outputs": [],
   "source": [
    "# print() 함수 사용해 보기\n",
    "print('hello python!!')\n",
    "print(\"연산식 : \", 10+20)\n",
    "print(\"여러 자료 출력 : \", 10, 20, ' end')\n",
    "print()  # 빈 라인 출력\n",
    "print(10+20)\n",
    "print(\"test\", \"123\", sep='#')"
   ]
  },
  {
   "cell_type": "code",
   "execution_count": null,
   "id": "5ed4ed45",
   "metadata": {},
   "outputs": [],
   "source": [
    "# 자료형 확인\n",
    "print(type('문자열'))\n",
    "print(type(10))\n",
    "print(type(True))\n",
    "print(type(10.3))\n",
    "print(type('10'))"
   ]
  },
  {
   "cell_type": "code",
   "execution_count": null,
   "id": "cf3d58ae",
   "metadata": {},
   "outputs": [],
   "source": [
    "abc = 10\n",
    "abc"
   ]
  },
  {
   "cell_type": "code",
   "execution_count": null,
   "id": "a7bda67d",
   "metadata": {},
   "outputs": [],
   "source": [
    "# print(\"\"안녕하세요\"\")  # \"을 표현하고자 하는 경우 에러 발생\n",
    "# \"을 출력하고자 할 때 \"을 약속된 문자가 아닌 일반 문자로 인식을 하고자 함\n",
    "# \\\" -> \\뒤에오는 \"은 일반 문자로 인식\n",
    "print(\"\\\"안녕하세요\\\"\")  \n",
    "# \\n : 줄바꿈,   \\t : tab 띄움,  \\\\ : \\를 출력"
   ]
  },
  {
   "cell_type": "code",
   "execution_count": null,
   "id": "5ea870bf",
   "metadata": {},
   "outputs": [],
   "source": [
    "# escape 를 활용한 탭 사용\n",
    "print(\"이름\\t나이\\t지역\")\n",
    "print(\"윤인성\\t25\\t강서구\")"
   ]
  },
  {
   "cell_type": "code",
   "execution_count": null,
   "id": "a22722fa",
   "metadata": {},
   "outputs": [],
   "source": [
    "# 여러 줄 문자열 만들기\n",
    "print(\"동해물과 백두산이 마르고 닳도록\\n하느님이 보우하사 우리나라 만세\")\n",
    "print()\n",
    "print(\"\"\"동해물과 백두산이 마르고 닳도록\n",
    "하느님이 보우하사 우리나라 만세\"\"\")\n",
    "print(\"==========\")\n",
    "print(\"\"\"\n",
    "동해물과 백두산이 마르고 닳도록\n",
    "하느님이 보우하사 우리나라 만세\"\"\")\n",
    "print(\"==========\")\n",
    "print(\"\"\"\\\n",
    "동해물과 백두산이 마르고 닳도록\n",
    "하느님이 보우하사 우리나라 만세\"\"\")\n",
    "print(\"동해물과 백두산이 \\\n",
    "마르고 닳도록\")\n",
    "10 +\\\n",
    "20\n"
   ]
  },
  {
   "cell_type": "code",
   "execution_count": null,
   "id": "705e5436",
   "metadata": {},
   "outputs": [],
   "source": [
    "# 문자열 연산자 : +, *\n",
    "print(\"test\" + \" string\")  # test string\n",
    "print(\"test \" * 3)  # test test test"
   ]
  },
  {
   "cell_type": "code",
   "execution_count": null,
   "id": "27cd8f8d",
   "metadata": {},
   "outputs": [],
   "source": [
    "# 문자열 슬라이싱  [ start : end ]\n",
    "print(\"hello test string\"[0]) # h\n",
    "print(\"hello test string\"[-1]) # g\n",
    "print(\"hello test string\"[1:4]) # ell\n",
    "print(\"hello test string\"[ :-3]) # hello test str\n",
    "print(\"hello test string\"[6 : ]) # test string\n",
    "# print(\"hello test string\"[20])  # error\n",
    "\n",
    "print(len(\"hello test string\"))"
   ]
  },
  {
   "cell_type": "code",
   "execution_count": null,
   "id": "cdc0f718",
   "metadata": {},
   "outputs": [],
   "source": [
    "#  숫자 연산\n",
    "print(10 + 20)  # 30\n",
    "print(10 / 3) # 3.3..\n",
    "print(10 // 3)  # 몫의 정수만 3\n",
    "print(10 % 3) # 나머지 1\n",
    "print(10 ** 3) # 1000\n",
    "# print( \"test\" + 3 )  # error"
   ]
  },
  {
   "cell_type": "code",
   "execution_count": null,
   "id": "55323496",
   "metadata": {},
   "outputs": [],
   "source": [
    "# 변수 활용  변수명 = 값,  변수는 방( 또는 박스)를 의미함 \n",
    "pi = 3.14  # pi 라는 방을 만들고 방의 값은 3.14 이다\n",
    "print(pi)  # 3.14\n",
    "print(pi + 4)  # 7.14\n",
    "print(type(pi))  # float\n",
    "\n",
    "pi = 'string test'  # pi의 값은 'string test'로 변경됨\n",
    "print(pi)  # string test\n",
    "print(type(pi))  # str\n",
    "\n",
    "a = 'str'  \n",
    "a = 10\n",
    "a = True\n",
    "print(\"a : \", a, \" type : \", type(a))   # True, boolean"
   ]
  },
  {
   "cell_type": "code",
   "execution_count": null,
   "id": "4b7c7deb",
   "metadata": {},
   "outputs": [],
   "source": [
    "# input 함수 : 입력된 값의 데이터 타입은 str \n",
    "string = input(\" input data > \")"
   ]
  },
  {
   "cell_type": "code",
   "execution_count": null,
   "id": "01068aa6",
   "metadata": {},
   "outputs": [],
   "source": [
    "string = int(string)\n",
    "string  # 문자를 숫자로 변경 int(변수명 또는 문자), float(문자)\n",
    "# 숫자를 문자로 변경  str(숫자)\n",
    "str(string) + 'test'"
   ]
  },
  {
   "cell_type": "code",
   "execution_count": null,
   "id": "0b5eeebd",
   "metadata": {},
   "outputs": [],
   "source": [
    "# 숫자를 두번 입력받아 두 숫자의 합을 구하세요\n",
    "input_num1 = int(input(\" 숫자 입력 > \"))\n",
    "input_num2 = int(input(\" 숫자 입력 > \"))"
   ]
  },
  {
   "cell_type": "code",
   "execution_count": null,
   "id": "828cc9b1",
   "metadata": {},
   "outputs": [],
   "source": [
    "print(input_num1 + input_num2)\n",
    "print(type(input_num1), type(input_num2))"
   ]
  },
  {
   "cell_type": "code",
   "execution_count": null,
   "id": "f6f831db",
   "metadata": {},
   "outputs": [],
   "source": [
    "# 문자열 관련 함수 : format\n",
    "a_str = \"{} test {}\".format(10, 'add')\n",
    "print(a_str)\n",
    "print(\"{:d} {:f} {:.3f}\".format(10, 10.0, 10.0))  # {:d} {:5d} {:05d}"
   ]
  },
  {
   "cell_type": "code",
   "execution_count": null,
   "id": "3f9c471e",
   "metadata": {},
   "outputs": [],
   "source": [
    "# 문자열 관련함수 : upper(), lower(), srtip(), lstrip(), rstrip()\n",
    "a_str = \"   test str 10 num Abc test DEf  \"\n",
    "print(a_str.upper())  # 모두 대문자로\n",
    "print(a_str.lower())  # 모두 소문자로\n",
    "print(\"/{}/\".format(a_str.strip()))  # 양쪽의 공백 제거\n",
    "print(\"/{}/\".format(a_str.lstrip())) # 왼쪽의 공백 제거\n",
    "print(\"/{}/\".format(a_str.rstrip()))# 오른쪽 공백 제거\n",
    "\n",
    "print(a_str.strip().isalnum())   # false\n",
    "print(a_str.strip()[ : 4].isalnum())   # true -> test"
   ]
  },
  {
   "cell_type": "code",
   "execution_count": null,
   "id": "53afbfc9",
   "metadata": {},
   "outputs": [],
   "source": [
    "print(a_str.find('test'))   #  인덱스 반환 : 처음부터 검색해서 해당 문자가 나오는 \n",
    "print(a_str.rfind('test'))  #  인덱스 반환 : 뒤에서 부터 검색\n",
    "\n",
    "#  '문자' in \"문자열\" -> 문자가 문자열에존재하면 True\n",
    "print('test' in a_str)  # True "
   ]
  },
  {
   "cell_type": "code",
   "execution_count": null,
   "id": "62d4c0d9",
   "metadata": {},
   "outputs": [],
   "source": [
    "# 문자열 관련함수 \n",
    "# format,  lower, upper, strip, lstrip, rstrip, isOO, in , find, rfind\n",
    "# srting.함수명()\n",
    "# split()  : 문자열 자르기 -> 리스트로 반환\n",
    "a_list = a_str.split()\n",
    "print(type(a_list), type(a_list[0]))\n",
    "\n",
    "# a_str = \"   test str 10 num Abc test DEf  \"\n",
    "# a_list의 처음 자료를 검색후 처음 자료의 첫글자 출력\n",
    "a_list[3][1:-1]"
   ]
  },
  {
   "cell_type": "code",
   "execution_count": null,
   "id": "b1575911",
   "metadata": {},
   "outputs": [],
   "source": [
    "# 두 수를 입력받아 두 수의 합과 차를 구하세요\n",
    "input_data = input(\"두 수 입력 > \").split()\n",
    "input_num1 = int(input_data[0])\n",
    "input_num2 = int(input_data[1])\n",
    "print(\"{} + {} = {}\".format(input_num1, input_num2, input_num1+input_num2))\n",
    "print(\"{} - {} = {}\".format(input_num1, input_num2, input_num1-input_num2))"
   ]
  },
  {
   "cell_type": "code",
   "execution_count": null,
   "id": "0b1aeba6",
   "metadata": {},
   "outputs": [],
   "source": [
    "input_data = input(\"두 수 입력 > \").split()\n",
    "input_num1 = int(input_data[0])\n",
    "input_num2 = int(input_data[1])\n",
    "print(\"{} + {} = {}\".format(input_num1, input_num2, input_num1 + input_num2))\n",
    "print(\"{} - {} = {}\".format(input_num1, input_num2, input_num1 - input_num2))"
   ]
  },
  {
   "cell_type": "code",
   "execution_count": null,
   "id": "7b52ba6a",
   "metadata": {},
   "outputs": [],
   "source": [
    "# 영문자를 입력받아 변수에 저장한 후 대문자, 소문자로 출력하세요\n",
    "input_str = input(\"input string > \")\n",
    "print(\"UPPER : {}\".format(input_str.upper()))\n",
    "print(\"lower : {}\".format(input_str.lower()))\n",
    "# isalpha 가 true인지 확인하세요\n",
    "print(\"isalpha : {}\".format(input_str.isalpha()))"
   ]
  },
  {
   "cell_type": "code",
   "execution_count": null,
   "id": "b00655fd",
   "metadata": {},
   "outputs": [],
   "source": [
    "# 숫자를 입력 받아 변수에 저장한 후 isdigit를 확인하세요\n",
    "input_num = input(\"input digit > \")\n",
    "print(\"number ? {}\".format(input_num.isdigit()))"
   ]
  },
  {
   "cell_type": "code",
   "execution_count": null,
   "id": "d014b1db",
   "metadata": {},
   "outputs": [],
   "source": [
    "# 문자를 5개 입력받아 변수에 저장한 후 3번째 문자열의 처음 문자만 출력\n",
    "input_str = input(\"input string > \").split()\n",
    "print(\"3번째 문자열의 처음 문자 : {}\".format(input_str[2][0]))\n",
    "# 5번째 문자의 마지막 문자만 출력\n",
    "print(\"5번째 문자열의 처음 문자 : {}\".format(input_str[-1][-1]))\n",
    "\n",
    "# 문자열의 길이를 출력하세요\n",
    "print(len(input_str[0]))\n",
    "# 문자에 'test' 가 입력 되었는지 확인하세요\n",
    "print('test' in input_str)"
   ]
  },
  {
   "cell_type": "code",
   "execution_count": null,
   "id": "c410c163",
   "metadata": {},
   "outputs": [],
   "source": [
    "print(\"3번째 문자열의 처음 문자 : {}\".format(input_str[2][0]))\n",
    "# 5번째 문자의 마지막 문자만 출력\n",
    "print(\"5번째 문자열의 처음 문자 : {}\".format(input_str[-1][-1]))"
   ]
  },
  {
   "cell_type": "code",
   "execution_count": null,
   "id": "f6b03add",
   "metadata": {},
   "outputs": [],
   "source": [
    "# 숫자 세개를 입력 받아 처음 숫자와 마지막 숫자의 합을,\n",
    "#  두번째 숫자와 마지막 숫자의 곱을 구하세요\n",
    "input_num = input(\"input 3 number > \").split()\n",
    "num1 = int(input_num[0])\n",
    "num2 = int(input_num[1])\n",
    "num3 = int(input_num[2])\n",
    "print(\"{} + {} = {}\".format(num1,num3, num1 + num3))\n",
    "print(\"{} * {} = {}\".format(num2,num3, num2 * num3))"
   ]
  }
 ],
 "metadata": {
  "kernelspec": {
   "display_name": "Python 3 (ipykernel)",
   "language": "python",
   "name": "python3"
  },
  "language_info": {
   "codemirror_mode": {
    "name": "ipython",
    "version": 3
   },
   "file_extension": ".py",
   "mimetype": "text/x-python",
   "name": "python",
   "nbconvert_exporter": "python",
   "pygments_lexer": "ipython3",
   "version": "3.9.7"
  }
 },
 "nbformat": 4,
 "nbformat_minor": 5
}
