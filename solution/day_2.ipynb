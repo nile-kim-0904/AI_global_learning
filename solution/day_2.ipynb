{
 "cells": [
  {
   "cell_type": "code",
   "execution_count": null,
   "id": "03dc52dc",
   "metadata": {},
   "outputs": [],
   "source": [
    "# boolean 연습 : == , !=, > , < , >=, <= \n",
    "print(10 == 100)  # False\n",
    "print(10 < 100)   # True\n",
    "print( 10 != 100) # True\n",
    "print(10 > 100)   # False\n",
    "print(10 >= 100)  # False\n",
    "print(10 <= 100)  # True\n",
    "print( not 10 <= 100)  # False"
   ]
  },
  {
   "cell_type": "code",
   "execution_count": null,
   "id": "b287ca8b",
   "metadata": {},
   "outputs": [],
   "source": [
    "print(\"가방\" == '하마')  # False\n",
    "print(\"가방\" != '하마')  # True\n",
    "print(\"가방\" < '하마')  # True\n",
    "print(\"가방\" > '하마')  # False"
   ]
  },
  {
   "cell_type": "code",
   "execution_count": null,
   "id": "047b4e78",
   "metadata": {},
   "outputs": [],
   "source": [
    "x = 20\n",
    "print(10 < x <25) # True\n",
    "# 조건1 and 조건2 -> 둘다 True일때 True , 나머지는 False\n",
    "print(10 < x and x < 25)  \n",
    "# 조건1 or 조건2 -> 둘다 False일때 False , 나머지는 True"
   ]
  },
  {
   "cell_type": "code",
   "execution_count": null,
   "id": "906682f9",
   "metadata": {},
   "outputs": [],
   "source": [
    "# 조건식 : if 표현식:\n",
    "#             처리문장\n",
    "if True:\n",
    "    print('True!!')\n",
    "print(\"-----\")\n",
    "if False:\n",
    "    print('False!!')"
   ]
  },
  {
   "cell_type": "code",
   "execution_count": null,
   "id": "627ef488",
   "metadata": {},
   "outputs": [],
   "source": [
    "# 정수를 입력받아 양수이면 '양수입니다' 음수이면 '음수입니다' \n",
    "# 0이면 '0입니다'를 출력 하세요\n",
    "input_num = input(\"정수 입력 : \")\n",
    "input_num = int(input_num)\n",
    "if input_num > 0:\n",
    "    print('양수입니다')\n",
    "if input_num < 0 :\n",
    "    print('음수입니다')\n",
    "if input_num == 0 :\n",
    "    print('0입니다')"
   ]
  },
  {
   "cell_type": "code",
   "execution_count": null,
   "id": "0c516c63",
   "metadata": {},
   "outputs": [],
   "source": [
    "# 정수를 입력받아 짝수인지 홀수인지 출력하세요\n",
    "input_num = input(\"정수 입력 : \")\n",
    "# 마지막 입력한 글자가 \"02468\"중의 하나이면 짝수, \"13579\"중의 하나이면 홀수\n",
    "last_char = input_num[-1]\n",
    "if input_num[-1] == '0' or input_num[-1] == '2'\\\n",
    "    or input_num[-1] == '4' or input_num[-1] == '6'\\\n",
    "    or input_num[-1] == '8':\n",
    "    print(\"짝수\")\n",
    "if last_char in '13579':\n",
    "    print('홀수')\n",
    "    \n",
    "int_num = int(input_num)\n",
    "if int_num % 2 == 0:\n",
    "    print(\"짝수\")\n",
    "if int_num % 2 == 1:\n",
    "    print(\"홀수\")"
   ]
  },
  {
   "cell_type": "code",
   "execution_count": null,
   "id": "1236acdc",
   "metadata": {},
   "outputs": [],
   "source": [
    "# 시간을 다루는 모듈 datetime\n",
    "import datetime\n",
    "\n",
    "now = datetime.datetime.now()\n",
    "print(\"{}년 {}월 {}일 {}시 {}분 {}초 \"\\\n",
    "      .format(now.year, now.month, now.day, now.hour, \n",
    "              now.minute, now.second))"
   ]
  },
  {
   "cell_type": "code",
   "execution_count": null,
   "id": "2171df2e",
   "metadata": {},
   "outputs": [],
   "source": [
    "#지금 시간이 오전인지 오후인지 출력\n",
    "if now.hour > 12 :\n",
    "    print(\"오후\")\n",
    "if now.hour <= 12 :\n",
    "    print(\"오전\")\n",
    "# 지금이 겨울(1~2,12), 봄(3~5), 여름(6 ~8), 가을(9 ~ 11) 계절 출력\n",
    "if 3 <= now.month <= 5:\n",
    "    print(\"봄\")\n",
    "if 6 <= now.month <= 8:\n",
    "    print(\"여름\")\n",
    "if 9 <= now.month <= 11:\n",
    "    print(\"가을\")\n",
    "if 1 <= now.month <= 2 or now.month == 12:\n",
    "    print(\"겨울\")"
   ]
  },
  {
   "cell_type": "code",
   "execution_count": null,
   "id": "84c37c0d",
   "metadata": {},
   "outputs": [],
   "source": [
    "# if ~ else\n",
    "# if 표현식:\n",
    "#    처리문1\n",
    "# else:\n",
    "#    처리문2\n",
    "\n",
    "if now.hour > 12 :\n",
    "    print(\"오후\")\n",
    "    print(\"Happy !!\")\n",
    "else:\n",
    "    print(\"오전\")\n",
    "    print(\"Happy111!!\")\n",
    "    print(\"end\")\n",
    "print(\"program end\")"
   ]
  },
  {
   "cell_type": "code",
   "execution_count": null,
   "id": "e2a11e83",
   "metadata": {},
   "outputs": [],
   "source": [
    "# 정수를 입력받아 짝수인지 홀수인지 출력 하세요\n",
    "input_num = input(\"정수 입력 > \")\n",
    "input_num = int(input_num)\n",
    "if input_num % 2 == 0:\n",
    "    print(\"짝수\")\n",
    "else:\n",
    "    print(\"홀수\")\n",
    "\n",
    "if input_num % 2 :   # 숫자인 경우 0이 아니면 True \n",
    "    print(\"홀수1\")\n",
    "else:\n",
    "    print(\"짝수1\")\n",
    "    \n",
    "if \"\" :\n",
    "    print(\"True\")\n",
    "else:\n",
    "    print(\"False\")"
   ]
  },
  {
   "cell_type": "code",
   "execution_count": null,
   "id": "f51fb6a5",
   "metadata": {},
   "outputs": [],
   "source": [
    "# 계산식을 입력 받아 처음 문자와 마지막 문자가 숫자가 입력되지 않으면 '계산불가'\n",
    "# 아니면 계산 결과를 출력  10 + 20 = 30, 10 * 20 = 200\n",
    "# 1. 계산식을 입력 받는다\n",
    "input_data = input(\"계산식 입력 ( ex: 10 + 20 ) >\")\n",
    "# 2. 입력받은 문자열을 분리한다\n",
    "input_data = input_data.split()\n",
    "if len(input_data) != 3:\n",
    "    print('입력 갯수 error !! ')\n",
    "else:\n",
    "    num1 = input_data[0]; num2 = input_data[2]; buho = input_data[1]\n",
    "    # 3. 처음 문자와 마지막 문자가 숫자인지 확인한다\n",
    "    if num1.isdigit() and num2.isdigit() :\n",
    "        # 4. 3의 결과가 True이면 계산 식을 처리한다\n",
    "        if buho in '+-*/':\n",
    "            #   4.1 두번째 문자가 '+'면 +를, '*'면 *을 '-', '/'\n",
    "            num1 = int(num1); num2 = int(num2)\n",
    "            if buho == '+':\n",
    "                result = num1 + num2\n",
    "            elif buho == '-':\n",
    "                result = num1 - num2\n",
    "            elif buho == '*':\n",
    "                result = num1 * num2     \n",
    "            else:\n",
    "                result = num1 / num2  \n",
    "            print(\"{} {} {} = {}\".format(num1, buho, num2, result))\n",
    "        else:\n",
    "            #   4.2 4.1의 부호가 아니면 '계산불가' 츨력\n",
    "            print(\"계산 불가\")\n",
    "    # 5. 3의 결과가 False이면 '계산불가' 츨력\n",
    "    else:\n",
    "        print(\"계산불가\")\n",
    "if False:\n",
    "    pass\n",
    "else:\n",
    "    pass\n",
    "#     raise NotImplementedError\n"
   ]
  },
  {
   "cell_type": "code",
   "execution_count": null,
   "id": "c8e4c84f",
   "metadata": {},
   "outputs": [],
   "source": [
    "# list : +, * \n",
    "# list -> [ , , , ] 요소를 나열\n",
    "list_a = [1, 2, 3]\n",
    "list_b = [4, 5, 6]\n",
    "print(\"list_a + list_b : \", list_a + list_b)\n",
    "print(\"list_a * 3 : \", list_a * 3)\n",
    "\n",
    "# 리스트에 요소 추가하기 :  list.append(요소),  list.insert(위치, 요소)\n",
    "# 리스트에 리스트의 각 요소 추가 : list.extend(리스트)\n",
    "list_a.append('학생')\n",
    "print(\"list_a : \", list_a)\n",
    "list_a.append(list_b)\n",
    "print(\"list_a : \", list_a)\n",
    "print(\"list_a.append : \", list_a.append('추가'))\n",
    "print(list_a)\n",
    "\n",
    "list_a.insert(1,'1추가')\n",
    "print(list_a)\n",
    "print(len(list_a))\n",
    "print(list_a[1:-1])"
   ]
  },
  {
   "cell_type": "code",
   "execution_count": 1,
   "id": "544a17fc",
   "metadata": {},
   "outputs": [
    {
     "name": "stdout",
     "output_type": "stream",
     "text": [
      "[1, 2, 3, 4, 5, 6]\n"
     ]
    },
    {
     "data": {
      "text/plain": [
       "[1, 2, 3, 4, 5, 6]"
      ]
     },
     "execution_count": 1,
     "metadata": {},
     "output_type": "execute_result"
    }
   ],
   "source": [
    "list_a = [1, 2, 3]\n",
    "list_b = [4, 5, 6]\n",
    "print(list_a + list_b)\n",
    "# list_a.append(list_b)\n",
    "list_a.extend(list_b)   # list_b의 각각의 요소가 list_a의 각각의 요소로 삽입\n",
    "list_a"
   ]
  },
  {
   "cell_type": "code",
   "execution_count": 12,
   "id": "acade250",
   "metadata": {},
   "outputs": [
    {
     "name": "stdout",
     "output_type": "stream",
     "text": [
      "[4, 5, 6]\n",
      "first list_a :  [1, 2, 3, 4, 5, 6]\n",
      "second list_a :  [1, 3, 4, 5, 6]\n",
      "third list_a :  [1, 3, 4, 6]\n",
      "end list_a :  []\n"
     ]
    }
   ],
   "source": [
    "# 리스트 요소 제거 : del 리스트[인덱스], list.pop(인덱스), list.remove(값)\n",
    "# 모두 지우기 : list.clear()\n",
    "list_b = [4, 5, 6]\n",
    "print(list_b)  \n",
    "\n",
    "list_a = [1, 2, 3]\n",
    "list_a.extend(list_b)\n",
    "print(\"first list_a : \", list_a)\n",
    "# 두번째 위치의 요소 제거 : list_a.pop(1) 을 이용\n",
    "list_a.pop(1)\n",
    "list_a\n",
    "print(\"second list_a : \", list_a)\n",
    "\n",
    "list_a.remove(5)\n",
    "print(\"third list_a : \", list_a)\n",
    "\n",
    "list_a.clear()\n",
    "print(\"end list_a : \", list_a)"
   ]
  },
  {
   "cell_type": "markdown",
   "id": "bfc7a379",
   "metadata": {},
   "source": [
    "list의 요소 추가 : 리스트.append(요소),  리스트.insert(위치, 요소)\n",
    "\n",
    "list의 요소 제거 : del 리스트[인덱스], 리스트.pop(인덱스), 리스트.remove(값)\n",
    "\n",
    "list의 전체 데이처 제거 : 리스트.clear()"
   ]
  },
  {
   "cell_type": "code",
   "execution_count": 20,
   "id": "8efaad81",
   "metadata": {},
   "outputs": [
    {
     "name": "stdout",
     "output_type": "stream",
     "text": [
      "[4, 5, 6] [4, 5, 6]\n"
     ]
    }
   ],
   "source": [
    "list_c = list_b.copy()\n",
    "list_d = list_b\n",
    "print(list_c, list_b)"
   ]
  },
  {
   "cell_type": "code",
   "execution_count": 22,
   "id": "c59609dd",
   "metadata": {},
   "outputs": [
    {
     "name": "stdout",
     "output_type": "stream",
     "text": [
      "[10, 5, 6]\n"
     ]
    },
    {
     "data": {
      "text/plain": [
       "[4, 5, 6]"
      ]
     },
     "execution_count": 22,
     "metadata": {},
     "output_type": "execute_result"
    }
   ],
   "source": [
    "list_d[0] = 10\n",
    "print(list_b)\n",
    "\n",
    "list_c"
   ]
  },
  {
   "cell_type": "code",
   "execution_count": 26,
   "id": "1e2d23d5",
   "metadata": {},
   "outputs": [
    {
     "name": "stdout",
     "output_type": "stream",
     "text": [
      " i의 값 : 1\n",
      " i의 값 : 6\n",
      " i의 값 : 11\n",
      " i의 값 : 16\n",
      " i의 값 : 21\n",
      " i의 값 : 26\n",
      " i의 값 : 31\n",
      " i의 값 : 36\n",
      " i의 값 : 41\n",
      " i의 값 : 46\n",
      " i의 값 : 51\n",
      " i의 값 : 56\n",
      " i의 값 : 61\n",
      " i의 값 : 66\n",
      " i의 값 : 71\n",
      " i의 값 : 76\n",
      " i의 값 : 81\n",
      " i의 값 : 86\n",
      " i의 값 : 91\n",
      " i의 값 : 96\n",
      "10\n",
      "5\n",
      "6\n",
      "- H\n",
      "- e\n",
      "- l\n",
      "- l\n",
      "- o\n"
     ]
    }
   ],
   "source": [
    "# 반복문 : for 반복자 in 반복할 수 있는 것 :  \n",
    "#             처리문\n",
    "for i in range(1,100,5):  # 1 부터 99까지의 수 : 5씩 증가\n",
    "    print(\" i의 값 : {}\".format(i))\n",
    "\n",
    "for value in list_b:\n",
    "    print(value)\n",
    "\n",
    "for char in \"Hello\":\n",
    "    print('-',char)\n"
   ]
  },
  {
   "cell_type": "code",
   "execution_count": 41,
   "id": "023483e9",
   "metadata": {},
   "outputs": [
    {
     "name": "stdout",
     "output_type": "stream",
     "text": [
      "두 수 입력 : 10 a\n",
      "입력된 자료가 숫자가 아님~\n"
     ]
    }
   ],
   "source": [
    "# 두 숫자를 입력받아 두 수 사이의 합을 구하세요\n",
    "# 20 10 -> 10부터 20까지의 합 10 +11 +12 +13... +20\n",
    "input_data = input(\"두 수 입력 : \").split()\n",
    "\n",
    "if input_data[0].isdigit() and input_data[1].isdigit():\n",
    "    start_num  = int(input_data[0])\n",
    "    end_num = int(input_data[1])\n",
    "    if start_num > end_num:\n",
    "        start_num = int(input_data[1])\n",
    "        end_num = int(input_data[0])\n",
    "    total = 0\n",
    "    for value in range(start_num, end_num+1) :\n",
    "        total += value\n",
    "    print(\"{}에서 {}의 합은 : {}\".format(start_num,end_num,total))\n",
    "else:\n",
    "    print(\"입력된 자료가 숫자가 아님~\")\n",
    "    "
   ]
  },
  {
   "cell_type": "code",
   "execution_count": 46,
   "id": "a91ad041",
   "metadata": {},
   "outputs": [
    {
     "name": "stdout",
     "output_type": "stream",
     "text": [
      "first for 문장 :  [1, 2, 3]\n",
      "second for 문장 :  0\n",
      "1\n",
      "second for 문장 :  1\n",
      "2\n",
      "second for 문장 :  2\n",
      "3\n",
      "first for 문장 :  [4, 5, 6, 7]\n",
      "second for 문장 :  0\n",
      "4\n",
      "second for 문장 :  1\n",
      "5\n",
      "second for 문장 :  2\n",
      "6\n",
      "second for 문장 :  3\n",
      "7\n",
      "first for 문장 :  [8, 9]\n",
      "second for 문장 :  0\n",
      "8\n",
      "second for 문장 :  1\n",
      "9\n",
      "[[1, 4, 7], [2, 5, 8], [3, 6, 9]]\n"
     ]
    }
   ],
   "source": [
    "# 159p 연습문제 4\n",
    "list_a = [[1,2,3], [4,5,6,7], [8,9]] # 1,2,3,4,5,6,7,8,9 형식으로 출력\n",
    "for list_v in list_a:\n",
    "#     print(\"first for 문장 : \",list_v)\n",
    "    for idx in range(len(list_v)):\n",
    "#         print(\"second for 문장 : \",idx)\n",
    "        print(list_v[idx])  # [1,2,3][0]\n",
    "        \n",
    "# 연습문제 5\n",
    "numbers = [1,2,3,4,5,6,7,8,9]\n",
    "output = [[],[],[]]\n",
    "for number in numbers:\n",
    "    idx = number%3 -1\n",
    "    output[idx].append(number)\n",
    "#     output[number%3 - 1].append(number)\n",
    "print(output)"
   ]
  },
  {
   "cell_type": "code",
   "execution_count": 61,
   "id": "78169e46",
   "metadata": {},
   "outputs": [
    {
     "name": "stdout",
     "output_type": "stream",
     "text": [
      "{'name': '7D 건조 망고', 'type': '당절임'}\n",
      "7D 건조 망고\n",
      "존재하지 않는 키\n",
      "name : 7D 건조 망고\n",
      "ingredient : ['망고', '설탕', '나트륨']\n",
      "type : 당절임\n",
      "<class 'list'> <class 'dict'> <class 'str'>\n",
      "---------dict.items()----\n"
     ]
    }
   ],
   "source": [
    "# dictionary : { 키:값, ...}, 요소 접근은 딕셔너리[키]\n",
    "dict_a = {\n",
    "    \"name\":\"7D 건조 망고\",\n",
    "    \"type\":\"당절임\"\n",
    "}\n",
    "print(dict_a)\n",
    "print(dict_a['name'])  # 7D 건조 망고\n",
    "\n",
    "dict_a[\"ingredient\"] = [\"망고\",\"설탕\",\"나트륨\"]\n",
    "dict_a\n",
    "\n",
    "del dict_a['type']\n",
    "\n",
    "dict_a['type'] = '당절임'\n",
    "dict_a\n",
    "\n",
    "key = 'abcd'\n",
    "if key in dict_a:\n",
    "    print(\"type key 존재함\")\n",
    "else:\n",
    "    print(\"존재하지 않는 키\")\n",
    "\n",
    "# for 반복문으로 각 요소의 값 출력\n",
    "for key in dict_a:\n",
    "    print(\"{} : {}\".format(key, dict_a[key]))\n",
    "print(type(list_a), type(dict_a), type(dict_a['name']))\n",
    "print(\"---------dict.items()----\")\n",
    "for key, value in dict_a.items():\n",
    "    if key == 'name':\n",
    "        break\n",
    "    print(\"{} : {}\".format(key, value))\n"
   ]
  },
  {
   "cell_type": "code",
   "execution_count": 62,
   "id": "2f4481b8",
   "metadata": {},
   "outputs": [],
   "source": [
    "list_a = []\n",
    "dict_a = {}\n",
    "\n",
    "list_a.append(10)\n",
    "dict_a['name'] = '홍길동'"
   ]
  },
  {
   "cell_type": "code",
   "execution_count": 63,
   "id": "3addf636",
   "metadata": {},
   "outputs": [
    {
     "name": "stdout",
     "output_type": "stream",
     "text": [
      "숫자 입력 10\n",
      "숫자 입력 20\n",
      "숫자 입력 30\n",
      "숫자 입력 40\n",
      "숫자 입력 50\n",
      "list  [10, 20, 30, 40, 50]\n",
      "list의 합 :  150\n"
     ]
    }
   ],
   "source": [
    "# 1. 키보드에서 숫자를 입력받아 리스트에 저장한후 입력한 전체 데이터의 합을 출력\n",
    "#    5회 입력\n",
    "input_list = []\n",
    "total = 0\n",
    "for i in range(5):\n",
    "    input_num = int(input(\"숫자 입력 \"))\n",
    "    input_list.append(input_num)\n",
    "    total += input_num\n",
    "print(\"list \", input_list)\n",
    "print(\"list의 합 : \", total)"
   ]
  },
  {
   "cell_type": "code",
   "execution_count": 71,
   "id": "ec793e97",
   "metadata": {},
   "outputs": [
    {
     "name": "stdout",
     "output_type": "stream",
     "text": [
      "이름 국어 영어 수학 점수 입력 >홍길동 99 88 77\n",
      "이름 국어 영어 수학 점수 입력 >김철수 88 99 60\n",
      "이름 국어 영어 수학 점수 입력 >개나리 55 66 77\n",
      "이름 국어 영어 수학 점수 입력 >바난 66 77 77\n",
      "이름 국어 영어 수학 점수 입력 >quit\n",
      "{'홍길동': [99, 88, 77, 264], '김철수': [88, 99, 60, 247], '개나리': [55, 66, 77, 198], '바난': [66, 77, 77, 220]}\n"
     ]
    }
   ],
   "source": [
    "score_name = {}\n",
    "for i in range(100):\n",
    "    input_str = input(\"이름 국어 영어 수학 점수 입력 >\").split()\n",
    "    name = input_str[0]\n",
    "    if name == \"quit\":  # 이름에 quit가 입력되면 입력 종료\n",
    "        break\n",
    "        \n",
    "    score_list = []  \n",
    "    for i in range(1,4):   \n",
    "        score_list.append(int(input_str[i]))   #  각 점수 리스트 생성\n",
    "    tot = 0\n",
    "    for i in range(3):\n",
    "        tot += score_list[i]\n",
    "    score_list.append(tot)  # 합계 추가,   국어, 영어, 수학, 합계\n",
    "    score_name[name] = score_list   # 이름을 key로 점수를 값으로   \n",
    "print(score_name)"
   ]
  },
  {
   "cell_type": "code",
   "execution_count": 74,
   "id": "73c03d69",
   "metadata": {},
   "outputs": [
    {
     "name": "stdout",
     "output_type": "stream",
     "text": [
      "검색할 이름 입력 : 김철수\n",
      "김철수  :  [88, 99, 60, 247]\n"
     ]
    }
   ],
   "source": [
    "# 3. 키보드에서 이름을 입력받아 저장된 딕셔너리의 이름이 있는지 확인하고\n",
    "#    있으면 점수를 출력, 없으면 '자료 없음' 으로 출력\n",
    "search_name = input(\"검색할 이름 입력 : \")\n",
    "if search_name in score_name:\n",
    "    print(search_name , \" : \", score_name[search_name])\n",
    "else:\n",
    "    print(\"자료 없음\")"
   ]
  },
  {
   "cell_type": "code",
   "execution_count": 77,
   "id": "936176c2",
   "metadata": {},
   "outputs": [
    {
     "name": "stdout",
     "output_type": "stream",
     "text": [
      "{1: 3, 2: 4, 6: 1, 8: 2, 4: 3, 3: 3, 9: 2, 5: 2, 7: 2}\n"
     ]
    }
   ],
   "source": [
    "# 172p 연습문제 3\n",
    "numbers = [1,2,6,8,4,3,2,1,9,5,4,7,2,1,3,5,4,8,9,7,2,3]\n",
    "counter = {}\n",
    "\n",
    "for number in  numbers:\n",
    "    if number in counter:\n",
    "        counter[number] += 1\n",
    "    else:\n",
    "        counter[number] = 1\n",
    "print(counter)"
   ]
  },
  {
   "cell_type": "code",
   "execution_count": 78,
   "id": "82176e86",
   "metadata": {},
   "outputs": [
    {
     "name": "stdout",
     "output_type": "stream",
     "text": [
      "name : 기사\n",
      "level : 12\n",
      "sword : 불꽃의 검\n",
      "srmor : 풀플레이트\n",
      "skill : 배기\n",
      "skill : 세게 베기\n",
      "skill : 아주 세게 베기\n"
     ]
    }
   ],
   "source": [
    "# 173p 연습문제 4\n",
    "character = {\n",
    "    \"name\" : \"기사\",\n",
    "    \"level\": 12,\n",
    "    \"items\":{\n",
    "        \"sword\": \"불꽃의 검\",\n",
    "        \"srmor\": \"풀플레이트\"\n",
    "    },\n",
    "    \"skill\" : [\"베기\", \"세게 베기\", \"아주 세게 베기\"]\n",
    "}\n",
    "\n",
    "for key in character:\n",
    "    if type(character[key]) == list:\n",
    "        for value in character[key]:\n",
    "            print(\"{} : {}\".format(key, value))\n",
    "    elif type(character[key]) == dict:\n",
    "        for key1, value1 in character[key].items():\n",
    "            print(\"{} : {}\".format(key1, value1))\n",
    "    else:\n",
    "        print(\"{} : {}\".format(key, character[key])) \n",
    "        "
   ]
  }
 ],
 "metadata": {
  "kernelspec": {
   "display_name": "Python 3 (ipykernel)",
   "language": "python",
   "name": "python3"
  },
  "language_info": {
   "codemirror_mode": {
    "name": "ipython",
    "version": 3
   },
   "file_extension": ".py",
   "mimetype": "text/x-python",
   "name": "python",
   "nbconvert_exporter": "python",
   "pygments_lexer": "ipython3",
   "version": "3.9.7"
  }
 },
 "nbformat": 4,
 "nbformat_minor": 5
}
