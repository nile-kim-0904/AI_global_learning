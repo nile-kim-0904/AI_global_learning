{
 "cells": [
  {
   "cell_type": "code",
   "execution_count": 1,
   "id": "69c39b8f",
   "metadata": {},
   "outputs": [],
   "source": [
    "# 팩토리얼 함수 구현\n",
    "def factorial(n):\n",
    "    output = 1\n",
    "    for i in range(1, n+1):\n",
    "        output *= i\n",
    "    return output"
   ]
  },
  {
   "cell_type": "code",
   "execution_count": 4,
   "id": "8280b301",
   "metadata": {},
   "outputs": [],
   "source": [
    "# 팩토리얼 함수 구현\n",
    "def factorial1(n):\n",
    "    # n이 0이면 1을 return 아니면 n*f(n-1)\n",
    "    if n == 0:\n",
    "        return 1\n",
    "    else:\n",
    "        return n * factorial1(n-1)"
   ]
  },
  {
   "cell_type": "code",
   "execution_count": 5,
   "id": "c21868ff",
   "metadata": {},
   "outputs": [
    {
     "name": "stdout",
     "output_type": "stream",
     "text": [
      "120\n"
     ]
    },
    {
     "data": {
      "text/plain": [
       "120"
      ]
     },
     "execution_count": 5,
     "metadata": {},
     "output_type": "execute_result"
    }
   ],
   "source": [
    "print(factorial(5))   # fatorial 실행\n",
    "factorial1(5)"
   ]
  },
  {
   "cell_type": "code",
   "execution_count": 14,
   "id": "6017d529",
   "metadata": {},
   "outputs": [],
   "source": [
    "# 피보나치 수열 -> f(n) = f(n-1) + f(n-2), n==1, n==2\n",
    "def fibo(n):\n",
    "    global count \n",
    "    count += 1\n",
    "    if n == 1 or n == 2:\n",
    "        return 1\n",
    "    else:\n",
    "        return fibo(n-1) + fibo(n-2)"
   ]
  },
  {
   "cell_type": "code",
   "execution_count": 17,
   "id": "84ba993f",
   "metadata": {},
   "outputs": [],
   "source": [
    "# 피보나치 수열 -> f(n) = f(n-1) + f(n-2), n==1, n==2\n",
    "dictionary = {1:1,2:1}\n",
    "def fibo_m(n):\n",
    "    global count \n",
    "    count += 1  # 계산횟수 증가\n",
    "\n",
    "    if n in dictionary:  # 메모 되어 있으면 메모된 값을 사용\n",
    "        return dictionary[n]\n",
    "    else:               # 아니면 메모 시킴\n",
    "        output = fibo_m(n-1) + fibo_m(n-2)\n",
    "        dictionary[n] = output\n",
    "        return output"
   ]
  },
  {
   "cell_type": "code",
   "execution_count": 22,
   "id": "f539ac0c",
   "metadata": {},
   "outputs": [
    {
     "name": "stdout",
     "output_type": "stream",
     "text": [
      "count :  1219\n",
      "count :  171\n",
      "{1: 1, 2: 1, 3: 2, 4: 3, 5: 5, 6: 8, 7: 13, 8: 21, 9: 34, 10: 55, 11: 89, 12: 144, 13: 233, 14: 377, 15: 610, 16: 987, 17: 1597, 18: 2584, 19: 4181, 20: 6765, 21: 10946, 22: 17711, 23: 28657, 24: 46368, 25: 75025, 26: 121393, 27: 196418, 28: 317811, 29: 514229, 30: 832040, 31: 1346269, 32: 2178309, 33: 3524578, 34: 5702887, 35: 9227465, 36: 14930352, 37: 24157817, 38: 39088169, 39: 63245986, 40: 102334155, 41: 165580141, 42: 267914296, 43: 433494437, 44: 701408733, 45: 1134903170, 46: 1836311903, 47: 2971215073, 48: 4807526976, 49: 7778742049, 50: 12586269025, 51: 20365011074, 52: 32951280099, 53: 53316291173, 54: 86267571272, 55: 139583862445, 56: 225851433717, 57: 365435296162, 58: 591286729879, 59: 956722026041, 60: 1548008755920, 61: 2504730781961, 62: 4052739537881, 63: 6557470319842, 64: 10610209857723, 65: 17167680177565, 66: 27777890035288, 67: 44945570212853, 68: 72723460248141, 69: 117669030460994, 70: 190392490709135, 71: 308061521170129, 72: 498454011879264, 73: 806515533049393, 74: 1304969544928657, 75: 2111485077978050, 76: 3416454622906707, 77: 5527939700884757, 78: 8944394323791464, 79: 14472334024676221, 80: 23416728348467685, 81: 37889062373143906, 82: 61305790721611591, 83: 99194853094755497, 84: 160500643816367088, 85: 259695496911122585, 86: 420196140727489673, 87: 679891637638612258, 88: 1100087778366101931, 89: 1779979416004714189, 90: 2880067194370816120, 91: 4660046610375530309, 92: 7540113804746346429, 93: 12200160415121876738, 94: 19740274219868223167, 95: 31940434634990099905, 96: 51680708854858323072, 97: 83621143489848422977, 98: 135301852344706746049, 99: 218922995834555169026, 100: 354224848179261915075}\n"
     ]
    }
   ],
   "source": [
    "count = 0\n",
    "fibo(15)\n",
    "print(\"count : \", count)\n",
    "count = 0\n",
    "fibo_m(100)\n",
    "print(\"count : \", count)\n",
    "print(dictionary)"
   ]
  },
  {
   "cell_type": "code",
   "execution_count": 27,
   "id": "4b0984a3",
   "metadata": {},
   "outputs": [
    {
     "name": "stdout",
     "output_type": "stream",
     "text": [
      "10\n",
      "20\n",
      "30\n",
      "40\n",
      "10\n",
      "a:10, b:20, c:30\n",
      "before => a:10, b:20\n",
      "after => a:20, b:10\n"
     ]
    }
   ],
   "source": [
    "# tuple : 수정할 수 없는 자료 ( ), \n",
    "tuple_test = (10,20,30,40)\n",
    "for value in tuple_test:\n",
    "    print(value)\n",
    "print(tuple_test[0])\n",
    "# tuple_test[0] = 10  # error\n",
    "a,b,c = 10,20,30\n",
    "print(\"a:{}, b:{}, c:{}\".format(a,b,c))\n",
    "\n",
    "(a,b) = 10, 20\n",
    "print(\"before => a:{}, b:{}\".format(a,b))\n",
    "a,b = b,a  # a와 b의 값이 바뀜\n",
    "print(\"after => a:{}, b:{}\".format(a,b))"
   ]
  },
  {
   "cell_type": "code",
   "execution_count": 29,
   "id": "f1946bb1",
   "metadata": {},
   "outputs": [
    {
     "name": "stdout",
     "output_type": "stream",
     "text": [
      "0번째 값 : 1\n",
      "1번째 값 : 2\n",
      "2번째 값 : 3\n",
      "3번째 값 : 4\n",
      "4번째 값 : 5\n",
      "88 / 3 = 29, 1\n"
     ]
    }
   ],
   "source": [
    "for idx, value in enumerate([1,2,3,4,5]):   # 튜플을 리턴하는 함수 enumerate\n",
    "    print(\"{}번째 값 : {}\".format(idx, value))\n",
    "\n",
    "a, b = divmod(88,3)\n",
    "print(\"88 / 3 = {}, {}\".format(a,b))"
   ]
  },
  {
   "cell_type": "code",
   "execution_count": 33,
   "id": "86e31454",
   "metadata": {},
   "outputs": [
    {
     "name": "stdout",
     "output_type": "stream",
     "text": [
      "[1, 4, 9, 16, 25]\n",
      "\n",
      " [1, 2]\n"
     ]
    }
   ],
   "source": [
    "# map과  filter 함수 => map(함수, 리스트), filter(함수, 리스트)\n",
    "# def power(x):\n",
    "#     return x*x\n",
    "# def under_3(x):\n",
    "#     return x < 3\n",
    "# lambda 함수로 변경 -> lambda 매개변수 : 리턴값\n",
    "power = lambda x: x*x\n",
    "under_3 = lambda x: x < 3\n",
    "\n",
    "a_list = [1,2,3,4,5]\n",
    "b_list = list(map(power, a_list))\n",
    "print(b_list)\n",
    "c_list = list(filter(under_3, a_list))\n",
    "print(\"\\n\",c_list)"
   ]
  },
  {
   "cell_type": "code",
   "execution_count": 34,
   "id": "9ab952b3",
   "metadata": {},
   "outputs": [
    {
     "data": {
      "text/plain": [
       "[1, 4, 9, 16, 25]"
      ]
     },
     "execution_count": 34,
     "metadata": {},
     "output_type": "execute_result"
    }
   ],
   "source": [
    "b_list = list(map(lambda x: x*x, a_list))\n",
    "b_list"
   ]
  },
  {
   "cell_type": "code",
   "execution_count": 35,
   "id": "c038903a",
   "metadata": {},
   "outputs": [
    {
     "data": {
      "text/plain": [
       "[1, 2]"
      ]
     },
     "execution_count": 35,
     "metadata": {},
     "output_type": "execute_result"
    }
   ],
   "source": [
    "c_list = list(filter(lambda x: x < 3, a_list))\n",
    "c_list"
   ]
  },
  {
   "cell_type": "code",
   "execution_count": 36,
   "id": "ab55df96",
   "metadata": {},
   "outputs": [],
   "source": [
    "# file 처리 : open, close, write, read ..\n",
    "file = open(\"a.txt\", \"w\")\n",
    "file.write(\"Hello Python file write !!\")\n",
    "file.close()"
   ]
  },
  {
   "cell_type": "code",
   "execution_count": 38,
   "id": "2a6a4eca",
   "metadata": {},
   "outputs": [
    {
     "name": "stdout",
     "output_type": "stream",
     "text": [
      "Hello Python file write !!\n"
     ]
    }
   ],
   "source": [
    "# file 처리 : open, close, write, read ..\n",
    "file = open(\"a.txt\", \"r\")\n",
    "file_data = file.read()\n",
    "print(file_data)\n",
    "file.close()"
   ]
  },
  {
   "cell_type": "code",
   "execution_count": 42,
   "id": "01d260bb",
   "metadata": {},
   "outputs": [],
   "source": [
    "# 파일을 자동으로 close() 시킴\n",
    "with open(\"a.txt\", \"w\") as file:\n",
    "    file.write(\"with python file open!!\\n\")\n",
    "    file.write(\"with python file open!!\\n\")\n",
    "    file.write(\"with python file open!!\\n\")    \n",
    "# file_data = file.read()  # error    "
   ]
  },
  {
   "cell_type": "code",
   "execution_count": 43,
   "id": "6ec4e24a",
   "metadata": {},
   "outputs": [
    {
     "name": "stdout",
     "output_type": "stream",
     "text": [
      "with python file open!!\n",
      "\n",
      "with python file open!!\n",
      "\n",
      "with python file open!!\n",
      "\n"
     ]
    }
   ],
   "source": [
    "# 저장된 파일의 내용을 라인 단위로 읽어옴\n",
    "with open(\"a.txt\", \"r\") as file:\n",
    "    for line in file:\n",
    "        print(line)"
   ]
  },
  {
   "cell_type": "code",
   "execution_count": null,
   "id": "4a3da3ad",
   "metadata": {},
   "outputs": [],
   "source": [
    "# 키보드에서 이름 성적을 입력받아 파일에 저장\n",
    "with open(\"score.txt\", \"w+\") as file:\n",
    "    name, score = input(\"이름 성적 입력 > \").split()\n",
    "    file.write(name + ',' + score)"
   ]
  },
  {
   "cell_type": "code",
   "execution_count": 47,
   "id": "0cbcdf2c",
   "metadata": {},
   "outputs": [
    {
     "name": "stdout",
     "output_type": "stream",
     "text": [
      "홍길동 :  90\n"
     ]
    }
   ],
   "source": [
    "with open(\"score.txt\", \"r\") as file:\n",
    "    for line in file:\n",
    "        name, score = line.split(',')\n",
    "        print(name, ': ', score)"
   ]
  },
  {
   "cell_type": "code",
   "execution_count": 55,
   "id": "0e68900b",
   "metadata": {},
   "outputs": [
    {
     "name": "stdout",
     "output_type": "stream",
     "text": [
      "이름 성적 입력 > abcd 88\n",
      "홍길동 :  90\n",
      "\n",
      "김철수 :  100\n",
      "\n",
      "abcd :  88\n",
      "\n"
     ]
    }
   ],
   "source": [
    "file = open(\"score.txt\", \"a+\")  # w, a, r\n",
    "name, score = input(\"이름 성적 입력 > \").split()\n",
    "file.write(name + ',' + score + '\\n')  #  파일의 마지막 위치를 가리킴\n",
    "\n",
    "file.seek(0, 0)  # 파일의 처음 위치로 이동\n",
    "for line in file:\n",
    "    name, score = line.split(',')\n",
    "    print(name, ': ', score)\n",
    "file.close()"
   ]
  },
  {
   "cell_type": "code",
   "execution_count": null,
   "id": "1fbc0a9c",
   "metadata": {},
   "outputs": [],
   "source": [
    "# 이름, 국어, 영어, 수학 성적을 입력받아 파일 저장한 후 file_write()\n",
    "# 이름에 'q'가 입력되면 입력 종료\n",
    "# 검색할 이름을 입력받아 파일에서 데이터 검색   file_search()\n",
    "  # 검색한 이름과 성적 출력\n",
    "# 전체 학생의 인원수와 총점 평균을 구함  file_total()"
   ]
  },
  {
   "cell_type": "code",
   "execution_count": 73,
   "id": "55162a52",
   "metadata": {},
   "outputs": [],
   "source": [
    "# file_write() : 입력된 자료를 파일에 저장\n",
    "def file_write(file):\n",
    "    while True:\n",
    "        name = input(\"이름 입력 >\")\n",
    "        if name == 'q':\n",
    "            return\n",
    "        # 30 40 50 -> 문자열 분리 후 \"30,40,50\" 의 형식으로 join \n",
    "        score = ','.join(input(\"점수 3과목 입력 >\").split()) \n",
    "        file.write(name + ',' + score + '\\n')\n",
    "        \n",
    "# 검색할 이름의 점수 출력\n",
    "def file_search(file):\n",
    "    s_name = input(\"검색할 이름 입력 > \")\n",
    "    file.seek(0,0)  # 파일의 위치를 처음으로 이동    \n",
    "    for line in file:\n",
    "        f_data = line.split(',')  # f_data = ['name','90','80','100']\n",
    "        if f_data[0] == s_name:\n",
    "            return s_name, f_data[1:]\n",
    "    return None, None\n",
    "\n",
    "def file_total(file):   \n",
    "    total = 0\n",
    "    count = 0\n",
    "    file.seek(0,0)\n",
    "    for line in file:\n",
    "        count += 1\n",
    "        f_data = line.split(',')\n",
    "#         f_score = list(map(lambda x: int(x), [ x for x in f_data[1:] ]))\n",
    "        f_score = [ int(x) for x in f_data[1:] ]      \n",
    "        total += sum(f_score)\n",
    "    return total, count"
   ]
  },
  {
   "cell_type": "code",
   "execution_count": null,
   "id": "0812cce4",
   "metadata": {},
   "outputs": [],
   "source": [
    "# file open\n",
    "file = open(\"score.txt\", \"a+\")\n",
    "file_write(file)  # file write "
   ]
  },
  {
   "cell_type": "code",
   "execution_count": 74,
   "id": "c31466e3",
   "metadata": {},
   "outputs": [
    {
     "name": "stdout",
     "output_type": "stream",
     "text": [
      "검색할 이름 입력 > a\n",
      "검색된 자료 없음\n",
      "총 인원수 : 5\t 총 점 : 1313.00,  평 균 : 262.60\n"
     ]
    }
   ],
   "source": [
    "name, score = file_search(file)   # 이름, 점수 검색\n",
    "if name:\n",
    "    print(\"{}의 성적은 {}, {}, {}\".format(name, score[0],score[1],score[2]))\n",
    "else:\n",
    "    print('검색된 자료 없음')\n",
    "    \n",
    "total, count = file_total(file)  #  총점, 인원수 \n",
    "print(\"총 인원수 : {}\\t 총 점 : {:5.2f},  평 균 : {:5.2f}\".format(count,\n",
    "                                              total, total/count))"
   ]
  },
  {
   "cell_type": "code",
   "execution_count": 81,
   "id": "ab9f9729",
   "metadata": {},
   "outputs": [
    {
     "name": "stdout",
     "output_type": "stream",
     "text": [
      "이름 입력 >a\n",
      "점수 입력 >9 89 88\n",
      "이름 입력 >Q\n",
      "점수 입력 >A\n",
      "이름 입력 >q\n",
      "검색할 이름 입력 >q\n"
     ]
    },
    {
     "ename": "ValueError",
     "evalue": "invalid literal for int() with base 10: 'A\\n'",
     "output_type": "error",
     "traceback": [
      "\u001b[1;31m---------------------------------------------------------------------------\u001b[0m",
      "\u001b[1;31mValueError\u001b[0m                                Traceback (most recent call last)",
      "\u001b[1;32m~\\AppData\\Local\\Temp/ipykernel_11504/71765038.py\u001b[0m in \u001b[0;36m<module>\u001b[1;34m\u001b[0m\n\u001b[0;32m      9\u001b[0m \u001b[1;32mif\u001b[0m \u001b[0ms_data\u001b[0m\u001b[1;33m:\u001b[0m\u001b[1;33m\u001b[0m\u001b[1;33m\u001b[0m\u001b[0m\n\u001b[0;32m     10\u001b[0m     \u001b[0mprint\u001b[0m\u001b[1;33m(\u001b[0m\u001b[0ms_data\u001b[0m\u001b[1;33m[\u001b[0m\u001b[1;36m0\u001b[0m\u001b[1;33m]\u001b[0m\u001b[1;33m,\u001b[0m \u001b[1;34m\" : \"\u001b[0m\u001b[1;33m,\u001b[0m \u001b[0ms_data\u001b[0m\u001b[1;33m[\u001b[0m\u001b[1;36m1\u001b[0m\u001b[1;33m:\u001b[0m\u001b[1;33m]\u001b[0m\u001b[1;33m)\u001b[0m\u001b[1;33m\u001b[0m\u001b[1;33m\u001b[0m\u001b[0m\n\u001b[1;32m---> 11\u001b[1;33m \u001b[0mtotal\u001b[0m\u001b[1;33m,\u001b[0m \u001b[0mcount\u001b[0m \u001b[1;33m=\u001b[0m \u001b[0mtotal_comp\u001b[0m\u001b[1;33m(\u001b[0m\u001b[0mfile1\u001b[0m\u001b[1;33m)\u001b[0m\u001b[1;33m\u001b[0m\u001b[1;33m\u001b[0m\u001b[0m\n\u001b[0m\u001b[0;32m     12\u001b[0m \u001b[0mprint\u001b[0m\u001b[1;33m(\u001b[0m\u001b[1;34m\"total : {}, count :{}\"\u001b[0m\u001b[1;33m.\u001b[0m\u001b[0mformat\u001b[0m\u001b[1;33m(\u001b[0m\u001b[0mtotal\u001b[0m\u001b[1;33m,\u001b[0m \u001b[0mcount\u001b[0m\u001b[1;33m)\u001b[0m\u001b[1;33m)\u001b[0m\u001b[1;33m\u001b[0m\u001b[1;33m\u001b[0m\u001b[0m\n\u001b[0;32m     13\u001b[0m \u001b[1;33m\u001b[0m\u001b[0m\n",
      "\u001b[1;32m~\\AppData\\Local\\Temp/ipykernel_11504/2849315491.py\u001b[0m in \u001b[0;36mtotal_comp\u001b[1;34m(file1)\u001b[0m\n\u001b[0;32m     25\u001b[0m         \u001b[0mline_data\u001b[0m \u001b[1;33m=\u001b[0m \u001b[0mline\u001b[0m\u001b[1;33m.\u001b[0m\u001b[0msplit\u001b[0m\u001b[1;33m(\u001b[0m\u001b[1;34m','\u001b[0m\u001b[1;33m)\u001b[0m\u001b[1;33m\u001b[0m\u001b[1;33m\u001b[0m\u001b[0m\n\u001b[0;32m     26\u001b[0m         \u001b[0mcount\u001b[0m \u001b[1;33m+=\u001b[0m \u001b[1;36m1\u001b[0m\u001b[1;33m\u001b[0m\u001b[1;33m\u001b[0m\u001b[0m\n\u001b[1;32m---> 27\u001b[1;33m         \u001b[0mtotal\u001b[0m \u001b[1;33m+=\u001b[0m \u001b[0msum\u001b[0m\u001b[1;33m(\u001b[0m\u001b[0mlist\u001b[0m\u001b[1;33m(\u001b[0m\u001b[0mmap\u001b[0m\u001b[1;33m(\u001b[0m\u001b[1;32mlambda\u001b[0m \u001b[0mx\u001b[0m\u001b[1;33m:\u001b[0m \u001b[0mint\u001b[0m\u001b[1;33m(\u001b[0m\u001b[0mx\u001b[0m\u001b[1;33m)\u001b[0m\u001b[1;33m,\u001b[0m \u001b[0mline_data\u001b[0m\u001b[1;33m[\u001b[0m\u001b[1;36m1\u001b[0m\u001b[1;33m:\u001b[0m\u001b[1;33m]\u001b[0m\u001b[1;33m)\u001b[0m\u001b[1;33m)\u001b[0m\u001b[1;33m)\u001b[0m\u001b[1;33m\u001b[0m\u001b[1;33m\u001b[0m\u001b[0m\n\u001b[0m\u001b[0;32m     28\u001b[0m     \u001b[1;32mreturn\u001b[0m \u001b[0mtotal\u001b[0m\u001b[1;33m,\u001b[0m \u001b[0mcount\u001b[0m\u001b[1;33m\u001b[0m\u001b[1;33m\u001b[0m\u001b[0m\n",
      "\u001b[1;32m~\\AppData\\Local\\Temp/ipykernel_11504/2849315491.py\u001b[0m in \u001b[0;36m<lambda>\u001b[1;34m(x)\u001b[0m\n\u001b[0;32m     25\u001b[0m         \u001b[0mline_data\u001b[0m \u001b[1;33m=\u001b[0m \u001b[0mline\u001b[0m\u001b[1;33m.\u001b[0m\u001b[0msplit\u001b[0m\u001b[1;33m(\u001b[0m\u001b[1;34m','\u001b[0m\u001b[1;33m)\u001b[0m\u001b[1;33m\u001b[0m\u001b[1;33m\u001b[0m\u001b[0m\n\u001b[0;32m     26\u001b[0m         \u001b[0mcount\u001b[0m \u001b[1;33m+=\u001b[0m \u001b[1;36m1\u001b[0m\u001b[1;33m\u001b[0m\u001b[1;33m\u001b[0m\u001b[0m\n\u001b[1;32m---> 27\u001b[1;33m         \u001b[0mtotal\u001b[0m \u001b[1;33m+=\u001b[0m \u001b[0msum\u001b[0m\u001b[1;33m(\u001b[0m\u001b[0mlist\u001b[0m\u001b[1;33m(\u001b[0m\u001b[0mmap\u001b[0m\u001b[1;33m(\u001b[0m\u001b[1;32mlambda\u001b[0m \u001b[0mx\u001b[0m\u001b[1;33m:\u001b[0m \u001b[0mint\u001b[0m\u001b[1;33m(\u001b[0m\u001b[0mx\u001b[0m\u001b[1;33m)\u001b[0m\u001b[1;33m,\u001b[0m \u001b[0mline_data\u001b[0m\u001b[1;33m[\u001b[0m\u001b[1;36m1\u001b[0m\u001b[1;33m:\u001b[0m\u001b[1;33m]\u001b[0m\u001b[1;33m)\u001b[0m\u001b[1;33m)\u001b[0m\u001b[1;33m)\u001b[0m\u001b[1;33m\u001b[0m\u001b[1;33m\u001b[0m\u001b[0m\n\u001b[0m\u001b[0;32m     28\u001b[0m     \u001b[1;32mreturn\u001b[0m \u001b[0mtotal\u001b[0m\u001b[1;33m,\u001b[0m \u001b[0mcount\u001b[0m\u001b[1;33m\u001b[0m\u001b[1;33m\u001b[0m\u001b[0m\n",
      "\u001b[1;31mValueError\u001b[0m: invalid literal for int() with base 10: 'A\\n'"
     ]
    }
   ],
   "source": [
    "# 이름, 국어, 영어, 수학 성적을 입력받아 파일 저장한 후 file_write()\n",
    "# 이름에 'q'가 입력되면 입력 종료\n",
    "# 검색할 이름을 입력받아 파일에서 데이터 검색   file_search()\n",
    "  # 검색한 이름과 성적 출력\n",
    "# 전체 학생의 인원수와 총점 평균을 구함  file_total()\n",
    "file1  = open(\"score_1.txt\", \"w+\")\n",
    "file1_write(file1)\n",
    "s_data = file1_search(file1)\n",
    "if s_data:\n",
    "    print(s_data[0], \" : \", s_data[1:])\n",
    "total, count = total_comp(file1)\n",
    "print(\"total : {}, count :{}\".format(total, count))\n",
    "\n",
    "file1.close()"
   ]
  },
  {
   "cell_type": "code",
   "execution_count": 77,
   "id": "0d3ea4a4",
   "metadata": {},
   "outputs": [],
   "source": [
    "def file1_write(file1):\n",
    "    while True:\n",
    "        name = input(\"이름 입력 >\")\n",
    "        if name == 'q':\n",
    "            break\n",
    "\n",
    "        score = input(\"점수 입력 >\").split()\n",
    "        write_score = ','.join(score)\n",
    "        file1.write(name + ',' + write_score + '\\n')\n",
    "\n",
    "def file1_search(file1):\n",
    "    s_name = input(\"검색할 이름 입력 >\")\n",
    "    file1.seek(0,0)\n",
    "    for line in file1:\n",
    "        line_data = line.split(',')\n",
    "        if line_data[0] == s_name:\n",
    "            return line_data\n",
    "    return None\n",
    "\n",
    "def total_comp(file1):\n",
    "    total = 0\n",
    "    count = 0\n",
    "    file1.seek(0,0)\n",
    "    for line in file1:\n",
    "        line_data = line.split(',')\n",
    "        count += 1\n",
    "        total += sum(list(map(lambda x: int(x), line_data[1:])))\n",
    "    return total, count"
   ]
  },
  {
   "cell_type": "code",
   "execution_count": null,
   "id": "891d4fc5",
   "metadata": {},
   "outputs": [],
   "source": [
    "def file_write(file):\n",
    "    while True:\n",
    "        name = input(\"이름 입력 (\\'q\\'를 입력하면 종료)\")\n",
    "        if name == 'q':   # 입력 종료\n",
    "            break\n",
    "        score = input(\"국어 영어 수학 점수 입력 :\").split()\n",
    "        if len(score) != 3:\n",
    "            continue\n",
    "        file.write(name + ' ' + score + '\\n')\n",
    "#         score = list(map(int,score))  # 데이터 타입을 int로 변경\n",
    "#         stu_dict[name] = score    "
   ]
  },
  {
   "cell_type": "code",
   "execution_count": null,
   "id": "01652519",
   "metadata": {},
   "outputs": [],
   "source": [
    "# 이름, 국어, 영어, 수학 성적을 입력받아 파일 저장한 후 file_write()\n",
    "# 이름에 'q'가 입력되면 입력 종료\n",
    "# 검색할 이름을 입력받아 파일에서 데이터 검색   file_search()\n",
    "  # 검색한 이름과 성적 출력\n",
    "# 전체 학생의 인원수와 총점 평균을 구함  file_total()\n",
    "file = open(\"score_tot.txt\", \"w+\")\n",
    "file_write(file)\n",
    "file_search(file)\n",
    "file_total(file)"
   ]
  },
  {
   "cell_type": "code",
   "execution_count": 90,
   "id": "37fd9f2e",
   "metadata": {},
   "outputs": [
    {
     "name": "stdout",
     "output_type": "stream",
     "text": [
      "first call function\n",
      "second call function\n",
      "함수 호출 !!\n",
      "test\n",
      "next --- \n",
      "함수 2222\n",
      "222\n"
     ]
    }
   ],
   "source": [
    "# 제너레이터 함수 실행 : next(함수명), 함수 내부에 return 대신 yield 사용\n",
    "def test():\n",
    "    print(\"함수 호출 !!\")\n",
    "    yield \"test\"\n",
    "    print(\"함수 2222\")\n",
    "    yield \"222\"\n",
    "    \n",
    "# 함수 호출\n",
    "print(\"first call function\")\n",
    "test()   # 제너레이터 함수는 일반적인 호출로 실행 안됨\n",
    "\n",
    "print(\"second call function\")\n",
    "test()\n",
    "\n",
    "file_name = test()\n",
    "a = next(file_name)\n",
    "print(a)\n",
    "print(\"next --- \")\n",
    "b = next(file_name)\n",
    "print(b)"
   ]
  },
  {
   "cell_type": "code",
   "execution_count": 91,
   "id": "102d56e6",
   "metadata": {},
   "outputs": [
    {
     "name": "stdout",
     "output_type": "stream",
     "text": [
      "홀수만 출력 \n",
      "[1, 3, 5, 7, 9]\n",
      "3이상 7미만 자료만 출력 \n",
      "[3, 4, 5, 6]\n",
      "제곱헤서 50미만 자료만 출력 \n",
      "[1, 2, 3, 4, 5, 6, 7]\n"
     ]
    }
   ],
   "source": [
    "# 269 page  연습문제 2\n",
    "numbers = list(range(1, 10+1))\n",
    "\n",
    "print(\"홀수만 출력 \")\n",
    "print(list(filter(lambda x: x%2 , numbers)))\n",
    "\n",
    "print(\"3이상 7미만 자료만 출력 \")\n",
    "print(list(filter(lambda x: 3<= x < 7 , numbers)))\n",
    "\n",
    "print(\"제곱헤서 50미만 자료만 출력 \")\n",
    "print(list(filter(lambda x:x*x <50 , numbers)))"
   ]
  },
  {
   "cell_type": "code",
   "execution_count": 94,
   "id": "18d4a7f9",
   "metadata": {},
   "outputs": [
    {
     "name": "stdout",
     "output_type": "stream",
     "text": [
      "정수 입력 >a\n"
     ]
    }
   ],
   "source": [
    "# try ~ except  예외상황 발생시 처리\n",
    "try:\n",
    "    input_number = int(input(\"정수 입력 >\"))\n",
    "    \n",
    "    print(\"원의 반지름 : \", input_number)\n",
    "    print(\"원의 둘레 : \", input_number * 3.14 * 2)    \n",
    "    print(\"원의 넓이 : \", input_number * input_number * 3.14)    \n",
    "except:\n",
    "    pass\n",
    "#     print(\"입력 오류 !!\")"
   ]
  },
  {
   "cell_type": "code",
   "execution_count": 95,
   "id": "cee7804b",
   "metadata": {},
   "outputs": [
    {
     "name": "stdout",
     "output_type": "stream",
     "text": [
      "['52', '345', '123', '44']\n"
     ]
    }
   ],
   "source": [
    "# try except: pass\n",
    "list_data = ['52','345','test','123','44']\n",
    "# 숫자만 리스트에 추가\n",
    "list_number = []\n",
    "for item in list_data:\n",
    "    try:\n",
    "        float(item)   # 숫자는 float으로 변환\n",
    "        list_number.append(item)\n",
    "    except:\n",
    "        pass\n",
    "\n",
    "print(list_number)"
   ]
  },
  {
   "cell_type": "code",
   "execution_count": 98,
   "id": "49705e23",
   "metadata": {},
   "outputs": [
    {
     "name": "stdout",
     "output_type": "stream",
     "text": [
      "에러 발생 :  test\n",
      "['52', '345', '123', '44']\n"
     ]
    }
   ],
   "source": [
    "# try ~ except ~ else\n",
    "list_data = ['52','345','test','123','44']\n",
    "# 숫자만 리스트에 추가\n",
    "list_number = []\n",
    "for item in list_data:\n",
    "    try:   # 에라 발생 가능 코드 구현\n",
    "        float(item)   # 숫자는 float으로 변환\n",
    "    except:   # 에러 발생시 실현하고자 하는 코드 구현\n",
    "        print(\"에러 발생 : \", item)\n",
    "    else:     # 에러 발생이 없을 때 코드 구현\n",
    "        list_number.append(item)\n",
    "\n",
    "print(list_number)"
   ]
  },
  {
   "cell_type": "code",
   "execution_count": 99,
   "id": "3df9e7fd",
   "metadata": {},
   "outputs": [
    {
     "name": "stdout",
     "output_type": "stream",
     "text": [
      "무조건 실행 !!\n",
      "무조건 실행 !!\n",
      "에러 발생 :  test\n",
      "무조건 실행 !!\n",
      "무조건 실행 !!\n",
      "무조건 실행 !!\n",
      "['52', '345', '123', '44']\n"
     ]
    }
   ],
   "source": [
    "# try ~ except ~ else ~ finally \n",
    "list_data = ['52','345','test','123','44']\n",
    "# 숫자만 리스트에 추가\n",
    "list_number = []\n",
    "for item in list_data:\n",
    "    try:   # 에러 발생 가능 코드 구현\n",
    "        float(item)   # 숫자는 float으로 변환\n",
    "    except:   # 에러 발생시 실현하고자 하는 코드 구현\n",
    "        print(\"에러 발생 : \", item)\n",
    "    else:     # 에러 발생이 없을 때 코드 구현\n",
    "        list_number.append(item)\n",
    "    finally:\n",
    "        print(\"무조건 실행 !!\")\n",
    "\n",
    "print(list_number)"
   ]
  },
  {
   "cell_type": "code",
   "execution_count": 104,
   "id": "97949e8e",
   "metadata": {},
   "outputs": [
    {
     "name": "stdout",
     "output_type": "stream",
     "text": [
      "정수 입력 >a\n",
      "invalid literal for int() with base 10: 'a'\n",
      "프로그램 종료 !!\n"
     ]
    }
   ],
   "source": [
    "# try ~ except ~ else ~ finally \n",
    "try:\n",
    "    input_number = int(input(\"정수 입력 >\"))\n",
    "    print(\"원의 반지름 : \", input_number)\n",
    "    print(\"원의 둘레 : \", input_number * 3.14 * 2)    \n",
    "    print(\"원의 넓이 : \", input_number * input_number * 3.14)  \n",
    "except Exception as e:\n",
    "    print(e)\n",
    "finally:\n",
    "    print(\"프로그램 종료 !!\")"
   ]
  },
  {
   "cell_type": "code",
   "execution_count": 109,
   "id": "18cd6b61",
   "metadata": {},
   "outputs": [
    {
     "name": "stdout",
     "output_type": "stream",
     "text": [
      "not readable\n",
      "file.closed :  True\n"
     ]
    }
   ],
   "source": [
    "# try ~ except ~ finally\n",
    "try:\n",
    "    file = open(\"info.txt\", \"w\")\n",
    "    file.read()   # error 발생\n",
    "    file.close()\n",
    "except Exception as e:\n",
    "    print(e)\n",
    "finally:\n",
    "    file.close()\n",
    "    \n",
    "print(\"file.closed : \", file.closed)  "
   ]
  },
  {
   "cell_type": "code",
   "execution_count": 110,
   "id": "b310e932",
   "metadata": {},
   "outputs": [
    {
     "name": "stdout",
     "output_type": "stream",
     "text": [
      "test 함수 시작 !!! \n",
      "test try start \n",
      "finally 구문 \n"
     ]
    }
   ],
   "source": [
    "def test():\n",
    "    print(\"test 함수 시작 !!! \")\n",
    "    try:\n",
    "        print(\"test try start \")\n",
    "        return\n",
    "        print(\"try 구문 return 다음 문장 \")\n",
    "    except:\n",
    "        print(\"except 구문 \")\n",
    "    finally:\n",
    "        print(\"finally 구문 \")\n",
    "    print(\"test 함수 end !!\")\n",
    "\n",
    "test()"
   ]
  },
  {
   "cell_type": "code",
   "execution_count": 112,
   "id": "088900ca",
   "metadata": {},
   "outputs": [
    {
     "name": "stdout",
     "output_type": "stream",
     "text": [
      "while  시작 !!! \n",
      "while try start \n",
      "finally 구문 \n",
      "while end !!\n"
     ]
    }
   ],
   "source": [
    "while True:\n",
    "    print(\"while  시작 !!! \")\n",
    "    try:\n",
    "        print(\"while try start \")\n",
    "        break\n",
    "        print(\"try 구문 break 다음 문장 \")\n",
    "    except:\n",
    "        print(\"except 구문 \")\n",
    "    finally:\n",
    "        print(\"finally 구문 \")  # 무조건 실행 \n",
    "    print(\"while end end ~~\")  # 실행 안함\n",
    "        \n",
    "print(\"while end !!\")"
   ]
  },
  {
   "cell_type": "code",
   "execution_count": 119,
   "id": "ccf49f21",
   "metadata": {},
   "outputs": [
    {
     "name": "stdout",
     "output_type": "stream",
     "text": [
      "정수 입력 >print()\n",
      "정수를 입력하세요 :  invalid literal for int() with base 10: 'print()'\n"
     ]
    }
   ],
   "source": [
    "# 여러 가지 에러 발생시 에러 종류별로 처리하는 방법\n",
    "list_number = [52, 273, 45, 66, 88]\n",
    "\n",
    "try:   # 에러 발생 가능 코드 구현\n",
    "    input_number = int(input(\"정수 입력 >\"))\n",
    "    # 리스트의 요소 출력\n",
    "    print(\"{}번째 요소 : {}\".format(input_number, list_number[input_number]))\n",
    "except ValueError as ex:\n",
    "    print(\"정수를 입력하세요 : \", ex)\n",
    "except IndexError as ex:\n",
    "    print(\"리스트의 인덱스 범위 오류 : \", ex)\n",
    "except Exception as ex:\n",
    "    print(\"알 수 없는 오류 : \", ex)\n"
   ]
  },
  {
   "cell_type": "code",
   "execution_count": 123,
   "id": "1ea53e84",
   "metadata": {},
   "outputs": [
    {
     "name": "stdout",
     "output_type": "stream",
     "text": [
      "정수 입력 >10\n"
     ]
    }
   ],
   "source": [
    "# raise 객체 : 강제로 에러 발생 시킴\n",
    "number = int(input(\"정수 입력 >\"))\n",
    "\n",
    "if number > 0:\n",
    "    # 양수일 때 아직 미구현 상태\n",
    "#     raise NotImplementedError\n",
    "    pass\n",
    "else:\n",
    "    # 미구현 상태\n",
    "    raise NotImplementedError"
   ]
  },
  {
   "cell_type": "code",
   "execution_count": 144,
   "id": "aa4a3eaf",
   "metadata": {},
   "outputs": [],
   "source": [
    "# 이름 전화번호를 파일에 저장하는 프로그램 작성\n",
    "# 파일 이름은 \"dataset/telno.txt\", 기존에 파일이 존재하면 데이터 추가로\n",
    "# 전화번호 입력은 숫자 3개를 입력받아 123-456-789 형식으로 저장, \n",
    "# 이름과 전화번호는 ' '분리해서 저장 \n",
    "# 저장이 끝나면 파일을 닫고\n",
    "# 다시 파일을 open -> 'r'\n",
    "# 파일의 내용을 화면에 출력 \n",
    "# -- 홍길동 123-456-7897\n",
    "# try ~ except ~ finally 사용해서 작성을 해 보세요\n",
    "def file_open(file_path,file_name, file_mode):\n",
    "    try:\n",
    "        f_name = file_path + file_name\n",
    "        file = open(f_name, file_mode)\n",
    "        return file\n",
    "    except Exception as ex:    \n",
    "        import os\n",
    "        os.mkdir(file_path)\n",
    "        file = open(f_name, file_mode)\n",
    "        return file\n",
    "#         print(\"file open error \", ex)\n",
    "\n",
    "def file_write(file):\n",
    "    try:\n",
    "        while True:\n",
    "            name = input(\"이름 입력 \")\n",
    "            if name == 'q':\n",
    "                break\n",
    "            tel_no = '-'.join(input(\"전화 번호 입력 \").split())\n",
    "            file.write(name + ' ' + tel_no+ '\\n')\n",
    "            \n",
    "    except Exception as ex:\n",
    "        print(\"file_wrtie error : \", ex)\n",
    "    finally:\n",
    "        file.close()\n",
    "\n",
    "def file_read(file):\n",
    "    try:\n",
    "        for line in file:\n",
    "            name,telno = line.split()\n",
    "            print(\"{}의 전화번호는  {}\".format(name, telno))            \n",
    "    except Exception as ex:\n",
    "        print(\"file_read error : \",ex)\n",
    "    finally:\n",
    "        file.close()\n"
   ]
  },
  {
   "cell_type": "code",
   "execution_count": 145,
   "id": "a92d6a2e",
   "metadata": {},
   "outputs": [
    {
     "name": "stdout",
     "output_type": "stream",
     "text": [
      "이름 입력 a\n",
      "전화 번호 입력 11 22 33\n",
      "이름 입력 b\n",
      "전화 번호 입력 22 33 44\n",
      "이름 입력 q\n",
      "a의 전화번호는  11-22-33\n",
      "b의 전화번호는  22-33-44\n"
     ]
    }
   ],
   "source": [
    "file_path = 'dataset'\n",
    "file_name = '/telno.txt'\n",
    "file = file_open(file_path, file_name, 'a+')\n",
    "file_write(file)\n",
    "file = file_open(file_path, file_name, 'r')\n",
    "file_read(file)"
   ]
  }
 ],
 "metadata": {
  "kernelspec": {
   "display_name": "Python 3 (ipykernel)",
   "language": "python",
   "name": "python3"
  },
  "language_info": {
   "codemirror_mode": {
    "name": "ipython",
    "version": 3
   },
   "file_extension": ".py",
   "mimetype": "text/x-python",
   "name": "python",
   "nbconvert_exporter": "python",
   "pygments_lexer": "ipython3",
   "version": "3.9.7"
  }
 },
 "nbformat": 4,
 "nbformat_minor": 5
}
