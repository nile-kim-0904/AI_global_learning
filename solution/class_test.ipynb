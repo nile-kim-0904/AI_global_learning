{
 "cells": [
  {
   "cell_type": "code",
   "execution_count": 1,
   "id": "f4519911",
   "metadata": {},
   "outputs": [],
   "source": [
    "# class 생성 하기  class 클래스명 :  ~~~\n",
    "class Student:\n",
    "    def __init__(self, name, kor, eng, math):\n",
    "        self.name = name\n",
    "        self.kor = kor\n",
    "        self.eng = eng\n",
    "        self.math = math\n",
    "    def get_sum(self):\n",
    "        return self.kor + self.eng + self.math\n",
    "    def get_avg(self):\n",
    "        return self.get_sum()/3\n",
    "    def to_print(self):\n",
    "        return \"{}:{}\\t {}\\n\".format(self.name, self.get_sum(),self.get_avg())"
   ]
  },
  {
   "cell_type": "code",
   "execution_count": 4,
   "id": "6d8e5add",
   "metadata": {},
   "outputs": [
    {
     "name": "stdout",
     "output_type": "stream",
     "text": [
      "학생 이름 입력 >a\n",
      "국어 , 영어, 수학 점수 입력 > 909 88 88\n",
      "학생 이름 입력 >b\n",
      "국어 , 영어, 수학 점수 입력 > 88 77 99\n",
      "학생 이름 입력 >c\n",
      "국어 , 영어, 수학 점수 입력 > 88 77 77\n",
      "학생 이름 입력 >q\n"
     ]
    }
   ],
   "source": [
    "students = []\n",
    "while True:\n",
    "    name = input(\"학생 이름 입력 >\")\n",
    "    if name == 'q':\n",
    "        break\n",
    "    score = list(map(int, input(\"국어 , 영어, 수학 점수 입력 > \").split()))\n",
    "    kor = score[0]\n",
    "    eng = score[1]\n",
    "    math = score[2]\n",
    "    student = Student(name, kor, eng, math)\n",
    "    students.append(student)"
   ]
  },
  {
   "cell_type": "code",
   "execution_count": 5,
   "id": "23bc5ee4",
   "metadata": {},
   "outputs": [
    {
     "name": "stdout",
     "output_type": "stream",
     "text": [
      "a:1085\t 361.6666666666667\n",
      "\n",
      "b:264\t 88.0\n",
      "\n",
      "c:242\t 80.66666666666667\n",
      "\n"
     ]
    }
   ],
   "source": [
    "for idx, student in enumerate(students):\n",
    "    print(students[idx].name)\n",
    "    print(student.to_print())"
   ]
  },
  {
   "cell_type": "code",
   "execution_count": 33,
   "id": "745c5e1d",
   "metadata": {},
   "outputs": [],
   "source": [
    "class Test:\n",
    "    def __init__(self, a,b,c):\n",
    "        self.a = a\n",
    "        self.b = b\n",
    "        self.c = c\n",
    "        print(\"Test class 생성자 \")\n",
    "        \n",
    "    def class_print(self):\n",
    "        return self.a + self. b + self. c\n",
    "        \n",
    "    def class_return(self, a):\n",
    "        return a\n",
    "    \n",
    "    def __del__(self):\n",
    "        print(\"Test class 소멸자 \")"
   ]
  },
  {
   "cell_type": "code",
   "execution_count": 36,
   "id": "8be779eb",
   "metadata": {},
   "outputs": [
    {
     "name": "stdout",
     "output_type": "stream",
     "text": [
      "Test class 생성자 \n",
      "Test class 소멸자 \n"
     ]
    }
   ],
   "source": [
    "a = Test(10,20,30)\n",
    "a.class_print()\n",
    "\n",
    "del a"
   ]
  },
  {
   "cell_type": "code",
   "execution_count": null,
   "id": "df9f7321",
   "metadata": {},
   "outputs": [],
   "source": [
    "class Store:\n",
    "    def __init__(self, 이름, 전화번호, 주소):\n",
    "        self.이름 = 이름\n",
    "        self.전화번호 = 전화번호\n",
    "    def order(self)"
   ]
  },
  {
   "cell_type": "code",
   "execution_count": 37,
   "id": "ba1389dc",
   "metadata": {},
   "outputs": [
    {
     "name": "stdout",
     "output_type": "stream",
     "text": [
      "isinstance(student) : True\n"
     ]
    }
   ],
   "source": [
    "print(\"isinstance(student) :\", isinstance(student, Student))"
   ]
  },
  {
   "cell_type": "code",
   "execution_count": 38,
   "id": "93804ef6",
   "metadata": {},
   "outputs": [],
   "source": [
    "class Student:\n",
    "    def study(self):\n",
    "        print(\"공부를 합니다\")\n",
    "class Teacher:\n",
    "    def teacher(self):\n",
    "        print(\"가르칩니다\")"
   ]
  },
  {
   "cell_type": "code",
   "execution_count": 39,
   "id": "3044d61d",
   "metadata": {},
   "outputs": [
    {
     "name": "stdout",
     "output_type": "stream",
     "text": [
      "공부를 합니다\n",
      "가르칩니다\n",
      "공부를 합니다\n",
      "공부를 합니다\n",
      "가르칩니다\n"
     ]
    }
   ],
   "source": [
    "classroom = [Student(), Teacher(), Student(), Student(), Teacher()]\n",
    "\n",
    "for person in classroom:\n",
    "    if isinstance(person, Student):\n",
    "        person.study()\n",
    "    else:\n",
    "        person.teacher()"
   ]
  },
  {
   "cell_type": "code",
   "execution_count": 42,
   "id": "fa97e707",
   "metadata": {},
   "outputs": [],
   "source": [
    "class Student:\n",
    "    def __init__(self, name, kor, eng, math):\n",
    "        self.name = name\n",
    "        self.kor = kor\n",
    "        self.eng = eng\n",
    "        self.math = math\n",
    "    def get_sum(self):\n",
    "        return self.kor + self.eng + self.math\n",
    "    def get_avg(self):\n",
    "        return self.get_sum() / 3\n",
    "    def __str__(self):\n",
    "        return \"{}\\t{}\\t{}\".format(self.name, self.get_sum(), self.get_avg())\n",
    "    def __eq__(self, value):\n",
    "        return self.get_sum() == value.get_sum()\n",
    "    def __ne__(self, value):\n",
    "        return self.get_sum() != value.get_sum()\n",
    "    def __gt__(self, value):\n",
    "        return self.get_sum() > value.get_sum()    "
   ]
  },
  {
   "cell_type": "code",
   "execution_count": 48,
   "id": "43336c53",
   "metadata": {},
   "outputs": [
    {
     "name": "stdout",
     "output_type": "stream",
     "text": [
      "student_a == student_b =>  False\n",
      "student_a != student_b =>  True\n",
      "윤인성\t273\t91.0\n",
      "윤인성 273\n",
      "연하진\t286\t95.33333333333333\n",
      "연하진 286\n",
      "구지연\t266\t88.66666666666667\n",
      "나선주\t286\t95.33333333333333\n",
      "나선주 286\n",
      "윤아린\t291\t97.0\n",
      "윤명월\t244\t81.33333333333333\n"
     ]
    }
   ],
   "source": [
    "students = [\n",
    "    Student(\"윤인성\", 87, 98, 88),\n",
    "    Student(\"연하진\", 92, 98, 96),\n",
    "    Student(\"구지연\", 76, 96, 94),\n",
    "    Student(\"나선주\", 98, 92, 96),\n",
    "    Student(\"윤아린\", 95, 98, 98),\n",
    "    Student(\"윤명월\", 64, 88, 92)\n",
    "]\n",
    "student_a = Student(\"윤인성\", 87, 98, 88)\n",
    "student_b = Student(\"연하진\", 92, 98, 96)\n",
    "print(\"student_a == student_b => \", student_a == student_b)\n",
    "print(\"student_a != student_b => \", student_a != student_b)\n",
    "\n",
    "for student in students:\n",
    "    print(str(student))\n",
    "    if student == student_a or student == student_b :\n",
    "        print(student.name, student.get_sum())"
   ]
  },
  {
   "cell_type": "code",
   "execution_count": 66,
   "id": "c42ad1c4",
   "metadata": {},
   "outputs": [],
   "source": [
    "# 클래스 변수\n",
    "class Student:\n",
    "    count = 0\n",
    "    students = []\n",
    "    def __init__(self, name, kor, eng, math):\n",
    "        self.name = name\n",
    "        self.kor = kor\n",
    "        self.eng = eng\n",
    "        self.math = math   \n",
    "        \n",
    "        Student.count += 1\n",
    "        Student.students.append(self)\n",
    "        \n",
    "    @classmethod\n",
    "    def print(cls):\n",
    "        print(\"--------학생 목록------------\")\n",
    "        print(\"이름\\t총점\\t평균\")\n",
    "        for student in cls.students:\n",
    "            print(str(student))\n",
    "        print(\"----------------------------\")\n",
    "\n",
    "    def get_sum(self):\n",
    "        return self.kor + self.eng + self.math\n",
    "    def get_avg(self):\n",
    "        return self.get_sum()/3\n",
    "    def __str__(self):\n",
    "        return \"{}\\t{}\\t{:0.3f}\".format(self.name, self.get_sum(), self.get_avg())            "
   ]
  },
  {
   "cell_type": "code",
   "execution_count": 67,
   "id": "95b8c204",
   "metadata": {},
   "outputs": [
    {
     "name": "stdout",
     "output_type": "stream",
     "text": [
      "--------학생 목록------------\n",
      "이름\t총점\t평균\n",
      "윤인성\t273\t91.000\n",
      "연하진\t286\t95.333\n",
      "구지연\t266\t88.667\n",
      "나선주\t286\t95.333\n",
      "윤아린\t291\t97.000\n",
      "윤명월\t244\t81.333\n",
      "----------------------------\n",
      "전체 인원 수 :  6\n"
     ]
    }
   ],
   "source": [
    "Student(\"윤인성\", 87, 98, 88)\n",
    "Student(\"연하진\", 92, 98, 96)\n",
    "Student(\"구지연\", 76, 96, 94)\n",
    "Student(\"나선주\", 98, 92, 96)\n",
    "Student(\"윤아린\", 95, 98, 98)\n",
    "Student(\"윤명월\", 64, 88, 92)\n",
    "\n",
    "Student.print()   # 클래스의 매서드 또는 함수\n",
    "print(\"전체 인원 수 : \", Student.count) # Student 클래 전체의 global 변수"
   ]
  },
  {
   "cell_type": "code",
   "execution_count": null,
   "id": "fcd9e73b",
   "metadata": {},
   "outputs": [],
   "source": []
  }
 ],
 "metadata": {
  "kernelspec": {
   "display_name": "Python 3 (ipykernel)",
   "language": "python",
   "name": "python3"
  },
  "language_info": {
   "codemirror_mode": {
    "name": "ipython",
    "version": 3
   },
   "file_extension": ".py",
   "mimetype": "text/x-python",
   "name": "python",
   "nbconvert_exporter": "python",
   "pygments_lexer": "ipython3",
   "version": "3.9.7"
  }
 },
 "nbformat": 4,
 "nbformat_minor": 5
}
