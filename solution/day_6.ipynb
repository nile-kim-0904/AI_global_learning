{
 "cells": [
  {
   "cell_type": "code",
   "execution_count": 24,
   "id": "55640a0d",
   "metadata": {},
   "outputs": [],
   "source": [
    "# 학생, 국어, 영어, 수학 점수를 입력 받아 student_dict{} 에 저장한 후 출력\n",
    "# student = {'name': , 'kor': , 'eng':  ,  'math':   }\n",
    "def create_student():\n",
    "    student = {}\n",
    "    name = input(\"학생 이름 입력 >\")\n",
    "    student['name'] = name    \n",
    "    if name == 'q':\n",
    "        return student\n",
    "    score = list(map(int, input(\"국어 , 영어, 수학 점수 입력 > \").split()))\n",
    "\n",
    "    for idx, value in enumerate(score):\n",
    "        student[score_name[idx]] = value\n",
    "    return student"
   ]
  },
  {
   "cell_type": "code",
   "execution_count": null,
   "id": "bfc516ac",
   "metadata": {},
   "outputs": [],
   "source": [
    "students = []   # [ {'name':'홍길동', 'kor':90, 'eng':80, 'math':90},  ]\n",
    "score_name = ['kor','eng','math']\n",
    "while True:\n",
    "    student = create_student()\n",
    "    if  student['name'] == 'q':\n",
    "        break\n",
    "    students.append(student)"
   ]
  },
  {
   "cell_type": "code",
   "execution_count": 36,
   "id": "214ef8ec",
   "metadata": {},
   "outputs": [],
   "source": [
    "def student_get_sum(student):\n",
    "    return student['kor']+student['eng']+student['math']\n",
    "\n",
    "def student_get_avg(student):\n",
    "    return student_get_sum(student)/3\n",
    "      \n",
    "def student_print(students):\n",
    "    for item in students:\n",
    "        for key in item:\n",
    "            print(\"{}:{}\\t\".format(key,item[key] ), end='')\n",
    "            \n",
    "        print(\"총점:{}\\t,avg:{}\".format(student_get_sum(item),\n",
    "                                student_get_avg(item)))    \n",
    "        print(\"\\n\")\n"
   ]
  },
  {
   "cell_type": "code",
   "execution_count": 37,
   "id": "a5b07cb3",
   "metadata": {},
   "outputs": [
    {
     "name": "stdout",
     "output_type": "stream",
     "text": [
      "name:a\tkor:44\teng:55\tmath:66\t총점:165\t,avg:55.0\n",
      "\n",
      "\n",
      "name:b \tkor:5\teng:6\tmath:7\t총점:18\t,avg:6.0\n",
      "\n",
      "\n"
     ]
    }
   ],
   "source": [
    "student_print(students)"
   ]
  }
 ],
 "metadata": {
  "kernelspec": {
   "display_name": "Python 3 (ipykernel)",
   "language": "python",
   "name": "python3"
  },
  "language_info": {
   "codemirror_mode": {
    "name": "ipython",
    "version": 3
   },
   "file_extension": ".py",
   "mimetype": "text/x-python",
   "name": "python",
   "nbconvert_exporter": "python",
   "pygments_lexer": "ipython3",
   "version": "3.9.7"
  }
 },
 "nbformat": 4,
 "nbformat_minor": 5
}
