{
 "cells": [
  {
   "cell_type": "code",
   "execution_count": 3,
   "id": "4339a549",
   "metadata": {},
   "outputs": [
    {
     "name": "stdout",
     "output_type": "stream",
     "text": [
      "False\n",
      "True\n",
      "True\n"
     ]
    }
   ],
   "source": [
    "print(10 == 100)\n",
    "print(10 < 100)\n",
    "x = 20\n",
    "print(10 < x < 25)"
   ]
  },
  {
   "cell_type": "code",
   "execution_count": 5,
   "id": "0d8f9186",
   "metadata": {},
   "outputs": [
    {
     "name": "stdout",
     "output_type": "stream",
     "text": [
      "True!!\n",
      "-------\n"
     ]
    }
   ],
   "source": [
    "if True:\n",
    "    print(\"True!!\")\n",
    "print(\"-------\")\n",
    "if False:\n",
    "    print(\"False!!\")"
   ]
  },
  {
   "cell_type": "code",
   "execution_count": 11,
   "id": "a6d78a28",
   "metadata": {},
   "outputs": [
    {
     "name": "stdout",
     "output_type": "stream",
     "text": [
      "input number > -5\n",
      "음수입니다\n"
     ]
    }
   ],
   "source": [
    "num = int(input(\"input number > \"))\n",
    "if(num > 0):\n",
    "    print(\"양수입니다\")\n",
    "elif(num < 0):\n",
    "    print(\"음수입니다\")\n",
    "else:\n",
    "    print(\"0입니다\")"
   ]
  },
  {
   "cell_type": "code",
   "execution_count": 16,
   "id": "00675c63",
   "metadata": {},
   "outputs": [
    {
     "name": "stdout",
     "output_type": "stream",
     "text": [
      "input number > 6\n",
      "짝수입니다\n"
     ]
    }
   ],
   "source": [
    "num = int(input(\"input number > \"))\n",
    "if(num%2==0):\n",
    "    print(\"짝수입니다\")\n",
    "else:\n",
    "    print(\"홀수입니다\")"
   ]
  },
  {
   "cell_type": "code",
   "execution_count": 1,
   "id": "a70723ca",
   "metadata": {},
   "outputs": [
    {
     "name": "stdout",
     "output_type": "stream",
     "text": [
      "input number > 6\n",
      "짝수입니다\n"
     ]
    }
   ],
   "source": [
    "num = input(\"input number > \")\n",
    "if num[-1] in '13579':\n",
    "    print(\"홀수입니다\")\n",
    "else:\n",
    "    print(\"짝수입니다\")"
   ]
  },
  {
   "cell_type": "code",
   "execution_count": 11,
   "id": "e0f35fa3",
   "metadata": {},
   "outputs": [
    {
     "name": "stdout",
     "output_type": "stream",
     "text": [
      "2021-12-24 10:08:25.543655\n",
      "2021년 12월 24일 10시 8분 25초\n"
     ]
    }
   ],
   "source": [
    "import datetime\n",
    "\n",
    "now = datetime.datetime.now()\n",
    "print(now)\n",
    "print(\"{}년 {}월 {}일 {}시 {}분 {}초\".format(now.year,now.month,now.day,now.hour,now.minute,now.second))"
   ]
  },
  {
   "cell_type": "code",
   "execution_count": 13,
   "id": "52f87855",
   "metadata": {},
   "outputs": [
    {
     "name": "stdout",
     "output_type": "stream",
     "text": [
      "오전입니다\n",
      "겨울입니다\n"
     ]
    }
   ],
   "source": [
    "import datetime\n",
    "\n",
    "now = datetime.datetime.now()\n",
    "\n",
    "if(0 <= now.hour < 12):\n",
    "    print(\"오전입니다\")\n",
    "else:\n",
    "    print(\"오후입니다\")\n",
    "    \n",
    "if(3<=now.month<=5):\n",
    "    print(\"봄입니다\")\n",
    "elif(6<=now.month<=8):\n",
    "    print(\"여름입니다\")\n",
    "elif(9<=now.month<=11):\n",
    "    print(\"가을입니다\")\n",
    "else:\n",
    "    print(\"겨울입니다\")"
   ]
  },
  {
   "cell_type": "code",
   "execution_count": 25,
   "id": "29a15b50",
   "metadata": {},
   "outputs": [
    {
     "name": "stdout",
     "output_type": "stream",
     "text": [
      "input > 5 * 9\n",
      "5\n",
      "3\n",
      "45\n"
     ]
    }
   ],
   "source": [
    "num = input(\"input > \")\n",
    "print(len(num))\n",
    "num_arr = num.split()\n",
    "print(len(num_arr))\n",
    "\n",
    "if (num_arr[0].isdigit()==False or num_arr[2].isdigit()==False):\n",
    "    print(\"계산불가\")\n",
    "elif(num_arr[1] in \"+-*/\"):\n",
    "    if(num_arr[1]=='+'):\n",
    "        print(int(num_arr[0])+int(num_arr[2]))\n",
    "    elif(num_arr[1]=='-'):\n",
    "        print(int(num_arr[0])-int(num_arr[2]))\n",
    "    elif(num_arr[1]=='*'):\n",
    "        print(int(num_arr[0])*int(num_arr[2]))\n",
    "    else:\n",
    "        print(int(num_arr[0])/int(num_arr[2]))\n",
    "else:\n",
    "    print(\"오류\")\n"
   ]
  },
  {
   "cell_type": "code",
   "execution_count": 29,
   "id": "62e6ca24",
   "metadata": {},
   "outputs": [
    {
     "name": "stdout",
     "output_type": "stream",
     "text": [
      "[1, '1추가', 2, 3, 4]\n",
      "None\n",
      "[1, '1추가', '2추가', 2, 3, 4]\n"
     ]
    }
   ],
   "source": [
    "list_a = [1,2,3,4]\n",
    "list_a.insert(1,'1추가')\n",
    "print(list_a)\n",
    "print(list_a.insert(2,'2추가'))\n",
    "print(list_a)"
   ]
  },
  {
   "cell_type": "code",
   "execution_count": 31,
   "id": "65180ee8",
   "metadata": {},
   "outputs": [
    {
     "name": "stdout",
     "output_type": "stream",
     "text": [
      "[1, 2, 3, 4, 5, 6]\n"
     ]
    }
   ],
   "source": [
    "list_a = [1,2,3]\n",
    "list_b = [4,5,6]\n",
    "list_a += list_b\n",
    "print(list_a)"
   ]
  },
  {
   "cell_type": "code",
   "execution_count": 33,
   "id": "32fbf38a",
   "metadata": {},
   "outputs": [
    {
     "name": "stdout",
     "output_type": "stream",
     "text": [
      "[6]\n",
      "[1, 4, 5, 6]\n"
     ]
    }
   ],
   "source": [
    "# 리스트 요소 제거: del list[인덱스], list.pop(인덱스), list.remove(값)\n",
    "# 모두 지우기: list.clear()\n",
    "# 처음 위치의 요소 제거\n",
    "del list_b[0]\n",
    "print(list_b)\n",
    "\n",
    "list_a.pop(1)\n",
    "print(list_a)"
   ]
  },
  {
   "cell_type": "code",
   "execution_count": 38,
   "id": "82e27e6c",
   "metadata": {},
   "outputs": [
    {
     "data": {
      "text/plain": [
       "[1, 2, 2, 3]"
      ]
     },
     "execution_count": 38,
     "metadata": {},
     "output_type": "execute_result"
    }
   ],
   "source": [
    "list_a = [1,2,2,2,3]\n",
    "list_b = [3,4,5]\n",
    "list_a.remove(2)\n",
    "list_a\n"
   ]
  },
  {
   "cell_type": "code",
   "execution_count": 49,
   "id": "bbb228ca",
   "metadata": {},
   "outputs": [
    {
     "name": "stdout",
     "output_type": "stream",
     "text": [
      "input data a b > 20 30\n",
      "20\n",
      "21\n",
      "22\n",
      "23\n",
      "24\n",
      "25\n",
      "26\n",
      "27\n",
      "28\n",
      "29\n",
      "30\n",
      "275\n"
     ]
    }
   ],
   "source": [
    "num = input(\"input data a b > \")\n",
    "num = num.split()\n",
    "num_a = int(num[0])\n",
    "num_b = int(num[1])\n",
    "sum_ab = 0\n",
    "\n",
    "if(num_a > num_b):\n",
    "    for i in range(num_b,num_a+1,1):\n",
    "        sum_ab += i\n",
    "        print(i)\n",
    "else:\n",
    "    for i in range(num_a,num_b+1,1):\n",
    "        sum_ab += i\n",
    "        print(i)\n",
    "\n",
    "print(sum_ab)\n",
    "        "
   ]
  },
  {
   "cell_type": "code",
   "execution_count": 53,
   "id": "e15d28ab",
   "metadata": {},
   "outputs": [
    {
     "name": "stdout",
     "output_type": "stream",
     "text": [
      "1\n",
      "2\n",
      "3\n",
      "4\n",
      "5\n",
      "6\n",
      "7\n",
      "8\n",
      "9\n"
     ]
    }
   ],
   "source": [
    "list_of_list = [\n",
    "    [1,2,3],\n",
    "    [4,5,6,7],\n",
    "    [8,9],\n",
    "]\n",
    "arr = list_of_list[0] + list_of_list[1]+list_of_list[2]\n",
    "\n",
    "for i in range(1,len(arr)+1,1):\n",
    "    print(i)"
   ]
  },
  {
   "cell_type": "code",
   "execution_count": 57,
   "id": "aa8cac59",
   "metadata": {},
   "outputs": [
    {
     "name": "stdout",
     "output_type": "stream",
     "text": [
      "[[1, 4, 7], [2, 5, 8], [3, 6, 9]]\n"
     ]
    }
   ],
   "source": [
    "numbers = [1,2,3,4,5,6,7,8,9]\n",
    "output = [[],[],[]]\n",
    "\n",
    "for number in numbers:\n",
    "    output[(number%3)-1].append(number)\n",
    "    \n",
    "print(output)"
   ]
  },
  {
   "cell_type": "code",
   "execution_count": 80,
   "id": "69b1fc2f",
   "metadata": {},
   "outputs": [
    {
     "name": "stdout",
     "output_type": "stream",
     "text": [
      "{'name': '7D 건조 망고', 'type': '당절임'}\n",
      "7D 건조 망고\n",
      "{'name': '7D 건조 망고', 'type': '당절임', 'ingredient': ['망고', '설탕', '나트륨']}\n",
      "{'name': '8D 건조 망고', 'type': '당절임', 'ingredient': ['망고', '설탕', '나트륨']}\n",
      "{'name': '8D 건조 망고', 'type': '당절임', 'ingredient': ['망고', '설탕', '나트륨', '콩']}\n",
      "type key 존재함\n",
      "name 8D 건조 망고\n",
      "type 당절임\n",
      "ingredient ['망고', '설탕', '나트륨', '콩']\n",
      "<class 'list'> <class 'dict'> <class 'str'>\n",
      "name 8D 건조 망고\n",
      "type 당절임\n",
      "ingredient ['망고', '설탕', '나트륨', '콩']\n"
     ]
    }
   ],
   "source": [
    "dict_a = {\n",
    "    \"name\":\"7D 건조 망고\",\n",
    "    \"type\":\"당절임\"\n",
    "}\n",
    "print(dict_a)\n",
    "print(dict_a[\"name\"])\n",
    "\n",
    "dict_a[\"ingredient\"] = [\"망고\",\"설탕\",\"나트륨\"]\n",
    "print(dict_a)\n",
    "\n",
    "dict_a[\"name\"] = \"8D 건조 망고\"\n",
    "print(dict_a)\n",
    "\n",
    "dict_a[\"ingredient\"].append(\"콩\")\n",
    "print(dict_a)\n",
    "\n",
    "#del dict_a[\"type\"]\n",
    "#print(dict_a)\n",
    "\n",
    "if \"type\" in dict_a:\n",
    "    print(\"type key 존재함\")\n",
    "else:\n",
    "    print(\"type key 존재 안함\")\n",
    "    \n",
    "for key in dict_a:\n",
    "    print(key,dict_a[key])\n",
    "    \n",
    "print(type(list_a),type(dict_a),type(dict_a[\"name\"]))\n",
    "\n",
    "for key, value in dict_a.items():\n",
    "    print(key, value)"
   ]
  },
  {
   "cell_type": "code",
   "execution_count": 103,
   "id": "c02355ec",
   "metadata": {},
   "outputs": [
    {
     "name": "stdout",
     "output_type": "stream",
     "text": [
      "input number data > 1\n",
      "input number data > 2\n",
      "input number data > 3\n",
      "input number data > 4\n",
      "input number data > 5\n",
      "[1, 2, 3, 4, 5]\n",
      "15\n"
     ]
    }
   ],
   "source": [
    "list_a = []\n",
    "\n",
    "sum_num = 0\n",
    "for i in range(5):\n",
    "    num = int(input(\"input number data > \"))\n",
    "    list_a.append(num)\n",
    "\n",
    "for i in range(len(list_a)):\n",
    "    sum_num += list_a[i]\n",
    "print(list_a)\n",
    "print(sum_num)"
   ]
  },
  {
   "cell_type": "code",
   "execution_count": 121,
   "id": "ea82255f",
   "metadata": {},
   "outputs": [
    {
     "name": "stdout",
     "output_type": "stream",
     "text": [
      "input 이름 > 김남우\n",
      "input 국어 > 10\n",
      "input 영어 > 20\n",
      "input 수학 > 30\n",
      "[60]\n",
      "{'이름': ['김남우'], '국어': [10], '영어': [20], '수학': [30], '합계': [60]}\n",
      "input 이름 > 조용희\n",
      "input 국어 > 20\n",
      "input 영어 > 30\n",
      "input 수학 > 40\n",
      "[60, 90]\n",
      "{'이름': ['김남우', '조용희'], '국어': [10, 20], '영어': [20, 30], '수학': [30, 40], '합계': [60, 90]}\n",
      "input 이름 > 신계호\n",
      "input 국어 > 30\n",
      "input 영어 > 40\n",
      "input 수학 > 50\n",
      "[60, 90, 120]\n",
      "{'이름': ['김남우', '조용희', '신계호'], '국어': [10, 20, 30], '영어': [20, 30, 40], '수학': [30, 40, 50], '합계': [60, 90, 120]}\n",
      "input 이름 > 송정훈\n",
      "input 국어 > 50\n",
      "input 영어 > 60\n",
      "input 수학 > 70\n",
      "[60, 90, 120, 180]\n",
      "{'이름': ['김남우', '조용희', '신계호', '송정훈'], '국어': [10, 20, 30, 50], '영어': [20, 30, 40, 60], '수학': [30, 40, 50, 70], '합계': [60, 90, 120, 180]}\n",
      "input 이름 > quit\n",
      "quit!!\n",
      "input name > 신계호\n",
      "이름: 신계호, 국어: 30, 영어: 40, 수학: 50, 합계: 120\n"
     ]
    }
   ],
   "source": [
    "dict_a = {\"이름\":[], \"국어\":[], \"영어\":[], \"수학\":[],\"합계\":[]}\n",
    "\n",
    "while(1):\n",
    "    data_a = input(\"input 이름 > \")\n",
    "    if(data_a==\"quit\"):\n",
    "        print(\"quit!!\")\n",
    "        break\n",
    "    else:\n",
    "        dict_a[\"이름\"].append(data_a)\n",
    "    \n",
    "    data_b = int(input(\"input 국어 > \"))\n",
    "    dict_a[\"국어\"].append(data_b)\n",
    "    \n",
    "    data_c = int(input(\"input 영어 > \"))\n",
    "    dict_a[\"영어\"].append(data_c)\n",
    "    \n",
    "    data_d = int(input(\"input 수학 > \"))\n",
    "    dict_a[\"수학\"].append(data_d)\n",
    "    \n",
    "    dict_a[\"합계\"].append(data_b + data_c + data_d)\n",
    "    print(dict_a[\"합계\"])\n",
    "    print(dict_a)\n",
    "    \n",
    "    \n",
    "name = input(\"input name > \")\n",
    "for idx,value in enumerate(dict_a[\"이름\"]):\n",
    "    #print(idx,value)\n",
    "    if(name == dict_a[\"이름\"][idx]):\n",
    "        print(\"이름: {}, 국어: {}, 영어: {}, 수학: {}, 합계: {}\".format(dict_a[\"이름\"][idx],dict_a[\"국어\"][idx],dict_a[\"영어\"][idx],dict_a[\"수학\"][idx],dict_a[\"합계\"][idx]))\n",
    "        break\n",
    "    "
   ]
  },
  {
   "cell_type": "code",
   "execution_count": 123,
   "id": "6f150360",
   "metadata": {},
   "outputs": [
    {
     "name": "stdout",
     "output_type": "stream",
     "text": [
      "{1: 3, 2: 4, 6: 1, 8: 2, 4: 3, 3: 3, 9: 3, 5: 2, 7: 2}\n"
     ]
    }
   ],
   "source": [
    "numbers = [1,2,6,8,4,3,2,1,9,5,4,9,7,2,1,3,5,4,8,9,7,2,3]\n",
    "counter = {}\n",
    "\n",
    "for number in numbers:\n",
    "    if(number in counter):\n",
    "        counter[number] += 1\n",
    "    else:\n",
    "        counter[number] = 1\n",
    "print(counter)"
   ]
  },
  {
   "cell_type": "code",
   "execution_count": 136,
   "id": "483d4bbc",
   "metadata": {},
   "outputs": [
    {
     "name": "stdout",
     "output_type": "stream",
     "text": [
      "name : 기사\n",
      "level : 12\n",
      "sword : 불꽃의 검\n",
      "armor : 풀플레이트\n",
      "skill : 베기\n",
      "skill : 세게 베기\n",
      "skill : 아주 세게 베기\n"
     ]
    }
   ],
   "source": [
    "character={\n",
    "    \"name\":\"기사\",\n",
    "    \"level\":12,\n",
    "    \"items\":{\n",
    "        \"sword\":\"불꽃의 검\",\n",
    "        \"armor\":\"풀플레이트\",\n",
    "    },\n",
    "    \"skill\":[\"베기\",\"세게 베기\",\"아주 세게 베기\"]\n",
    "}\n",
    "\n",
    "for key in character:\n",
    "    if(type(character[key]) == list):\n",
    "        for value in character[key]:\n",
    "            print(\"{} : {}\".format(key,value))\n",
    "    elif(type(character[key]) == dict):\n",
    "        for key1, value1 in character[key].items():\n",
    "            print(\"{} : {}\".format(key1,value1))\n",
    "    else:\n",
    "        print(\"{} : {}\".format(key,character[key]))\n",
    "\n"
   ]
  }
 ],
 "metadata": {
  "celltoolbar": "Raw Cell Format",
  "kernelspec": {
   "display_name": "Python 3 (ipykernel)",
   "language": "python",
   "name": "python3"
  },
  "language_info": {
   "codemirror_mode": {
    "name": "ipython",
    "version": 3
   },
   "file_extension": ".py",
   "mimetype": "text/x-python",
   "name": "python",
   "nbconvert_exporter": "python",
   "pygments_lexer": "ipython3",
   "version": "3.9.7"
  }
 },
 "nbformat": 4,
 "nbformat_minor": 5
}
