{
 "cells": [
  {
   "cell_type": "markdown",
   "id": "97626cab",
   "metadata": {},
   "source": [
    "# python\n",
    "### 기본 문법 1일차"
   ]
  },
  {
   "cell_type": "code",
   "execution_count": 9,
   "id": "6b8ca8d5",
   "metadata": {},
   "outputs": [
    {
     "name": "stdout",
     "output_type": "stream",
     "text": [
      "hello\n",
      "200\n"
     ]
    },
    {
     "data": {
      "text/plain": [
       "30"
      ]
     },
     "execution_count": 9,
     "metadata": {},
     "output_type": "execute_result"
    }
   ],
   "source": [
    "print('hello')\n",
    "print(10 * 20) \n",
    "10 + 20"
   ]
  },
  {
   "cell_type": "code",
   "execution_count": 10,
   "id": "e25bccd5",
   "metadata": {},
   "outputs": [
    {
     "data": {
      "text/plain": [
       "['False',\n",
       " 'None',\n",
       " 'True',\n",
       " '__peg_parser__',\n",
       " 'and',\n",
       " 'as',\n",
       " 'assert',\n",
       " 'async',\n",
       " 'await',\n",
       " 'break',\n",
       " 'class',\n",
       " 'continue',\n",
       " 'def',\n",
       " 'del',\n",
       " 'elif',\n",
       " 'else',\n",
       " 'except',\n",
       " 'finally',\n",
       " 'for',\n",
       " 'from',\n",
       " 'global',\n",
       " 'if',\n",
       " 'import',\n",
       " 'in',\n",
       " 'is',\n",
       " 'lambda',\n",
       " 'nonlocal',\n",
       " 'not',\n",
       " 'or',\n",
       " 'pass',\n",
       " 'raise',\n",
       " 'return',\n",
       " 'try',\n",
       " 'while',\n",
       " 'with',\n",
       " 'yield']"
      ]
     },
     "execution_count": 10,
     "metadata": {},
     "output_type": "execute_result"
    }
   ],
   "source": [
    "import keyword\n",
    "keyword.kwlist"
   ]
  },
  {
   "cell_type": "code",
   "execution_count": 11,
   "id": "dac6742e",
   "metadata": {},
   "outputs": [
    {
     "name": "stdout",
     "output_type": "stream",
     "text": [
      "test#123\n"
     ]
    }
   ],
   "source": [
    "print(\"test\",\"123\",sep='#')"
   ]
  },
  {
   "cell_type": "code",
   "execution_count": 15,
   "id": "83e9efa8",
   "metadata": {},
   "outputs": [
    {
     "name": "stdout",
     "output_type": "stream",
     "text": [
      "동해물과\n",
      "백두산이\n",
      "마\n",
      "르고 닳도록\n"
     ]
    }
   ],
   "source": [
    "print(\"\"\"동해물과\n",
    "백두산이\n",
    "마\n",
    "르고 닳\\\n",
    "도록\"\"\")"
   ]
  },
  {
   "cell_type": "code",
   "execution_count": 25,
   "id": "bf5297ef",
   "metadata": {},
   "outputs": [
    {
     "name": "stdout",
     "output_type": "stream",
     "text": [
      "hello test str\n",
      "in\n",
      "17\n",
      "1000\n",
      "12\n"
     ]
    }
   ],
   "source": [
    "print(\"hello test string\"[:-3]) # hello test str\n",
    "print(\"hello test string\"[-3:-1]) # in\n",
    "print(len(\"hello test string\")) \n",
    "print(10**3)\n",
    "print(10^6) # 1010 0110"
   ]
  },
  {
   "cell_type": "code",
   "execution_count": 28,
   "id": "a0052973",
   "metadata": {},
   "outputs": [
    {
     "name": "stdout",
     "output_type": "stream",
     "text": [
      " input data a > 10\n",
      " input data b > 20\n"
     ]
    },
    {
     "data": {
      "text/plain": [
       "30"
      ]
     },
     "execution_count": 28,
     "metadata": {},
     "output_type": "execute_result"
    }
   ],
   "source": [
    "a = input(\" input data a > \")\n",
    "b = input(\" input data b > \")\n",
    "int(a) + int(b)"
   ]
  },
  {
   "cell_type": "code",
   "execution_count": 38,
   "id": "a22b54e0",
   "metadata": {},
   "outputs": [
    {
     "name": "stdout",
     "output_type": "stream",
     "text": [
      "10 test add\n",
      "10 10.000000 10.000\n"
     ]
    }
   ],
   "source": [
    "a_str = \"{} test {}\".format(10,'add')\n",
    "print(a_str)\n",
    "print(\"{:d} {:f} {:.3f}\".format(10,10.0,10.0)) # {:d} {:5d} {:05d}"
   ]
  },
  {
   "cell_type": "code",
   "execution_count": 43,
   "id": "a4a05c2d",
   "metadata": {},
   "outputs": [
    {
     "name": "stdout",
     "output_type": "stream",
     "text": [
      "['kim', 'nam', 'woo'] kim\n"
     ]
    },
    {
     "data": {
      "text/plain": [
       "'k'"
      ]
     },
     "execution_count": 43,
     "metadata": {},
     "output_type": "execute_result"
    }
   ],
   "source": [
    "a_str = \"kim nam woo\"\n",
    "a_list = a_str.split()\n",
    "print(a_list, a_list[0])\n",
    "\n",
    "a_list[0][0]"
   ]
  },
  {
   "cell_type": "code",
   "execution_count": 52,
   "id": "180c488e",
   "metadata": {},
   "outputs": [
    {
     "name": "stdout",
     "output_type": "stream",
     "text": [
      "input data a b > 20 13\n",
      "20 + 13 = 33\n",
      "20 - 13 = 7\n",
      "33\n",
      "7\n"
     ]
    }
   ],
   "source": [
    "num_str = input(\"input data a b > \")\n",
    "num_list = num_str.split()\n",
    "num_a = int(num_list[0])\n",
    "num_b = int(num_list[1])\n",
    "print(\"{} + {} = {}\".format(num_a,num_b,num_a+num_b))\n",
    "print(\"{} - {} = {}\".format(num_a,num_b,num_a-num_b))\n",
    "print(int(num_list[0]) + int(num_list[1]))\n",
    "print(int(num_list[0]) - int(num_list[1]))"
   ]
  },
  {
   "cell_type": "code",
   "execution_count": 58,
   "id": "04b44514",
   "metadata": {},
   "outputs": [
    {
     "name": "stdout",
     "output_type": "stream",
     "text": [
      "input data string > namwoo\n",
      "NAMWOO\n",
      "namwoo\n",
      "True\n",
      "input data num > 345345\n",
      "True\n",
      "input data > kim nam woo test sun\n",
      "w\n",
      "n\n",
      "20\n",
      "True\n",
      "input data a b c > 3 0 9\n",
      "3 + 9 = 12\n",
      "0 * 9 = 0\n"
     ]
    }
   ],
   "source": [
    "# 문자를 대문자 소문자 출력, 문자로 구성됐는지 확인\n",
    "alp_str = input(\"input data string > \")\n",
    "print(alp_str.upper())\n",
    "print(alp_str.lower())\n",
    "print(alp_str.isalpha())\n",
    "\n",
    "# 숫자를 입력받아 숫자로 구성됐는지 확인\n",
    "num_str = input(\"input data num > \")\n",
    "print(num_str.isdigit())\n",
    "\n",
    "# 문자 5개 입력 받아 3번째 문자의 첫글자, 5번째 문자의 끝글자, 문자열 길이, test가 포함됐는지 확인\n",
    "input_str = input(\"input data > \")\n",
    "split_data = input_str.split()\n",
    "print(split_data[2][0])\n",
    "print(split_data[4][-1])\n",
    "print(len(input_str))\n",
    "print('test' in input_str)\n",
    "\n",
    "# 숫자 3개 입력 받아 첫번째 두번째 합, 두번째 세번째 곱\n",
    "num_str_2 = input(\"input data a b c > \")\n",
    "num_split = num_str_2.split()\n",
    "num_a = int(num_split[0])\n",
    "num_b = int(num_split[1])\n",
    "num_c = int(num_split[2])\n",
    "print(\"{} + {} = {}\".format(num_a,num_c,num_a+num_c))\n",
    "print(\"{} * {} = {}\".format(num_b,num_c,num_b*num_c))\n"
   ]
  }
 ],
 "metadata": {
  "kernelspec": {
   "display_name": "Python 3 (ipykernel)",
   "language": "python",
   "name": "python3"
  },
  "language_info": {
   "codemirror_mode": {
    "name": "ipython",
    "version": 3
   },
   "file_extension": ".py",
   "mimetype": "text/x-python",
   "name": "python",
   "nbconvert_exporter": "python",
   "pygments_lexer": "ipython3",
   "version": "3.9.7"
  }
 },
 "nbformat": 4,
 "nbformat_minor": 5
}
