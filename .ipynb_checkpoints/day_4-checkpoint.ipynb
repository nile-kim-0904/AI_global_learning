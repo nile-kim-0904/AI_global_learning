{
 "cells": [
  {
   "cell_type": "code",
   "execution_count": 4,
   "id": "1204d494",
   "metadata": {},
   "outputs": [
    {
     "data": {
      "text/plain": [
       "720"
      ]
     },
     "execution_count": 4,
     "metadata": {},
     "output_type": "execute_result"
    }
   ],
   "source": [
    "def factorial(n):\n",
    "    output = 1\n",
    "    for i in range(1,n+1):\n",
    "        output *= i\n",
    "    return output\n",
    "\n",
    "factorial(6) # factorial 실행"
   ]
  },
  {
   "cell_type": "code",
   "execution_count": 6,
   "id": "6f4ac400",
   "metadata": {},
   "outputs": [
    {
     "data": {
      "text/plain": [
       "120"
      ]
     },
     "execution_count": 6,
     "metadata": {},
     "output_type": "execute_result"
    }
   ],
   "source": [
    "def factorial1(n):\n",
    "    # n이 0이면 1을 return 아니면 n * f(n-1)\n",
    "    if(n==0):\n",
    "        return 1\n",
    "    else:\n",
    "        return n*factorial1(n-1)\n",
    "    \n",
    "factorial1(5)"
   ]
  },
  {
   "cell_type": "code",
   "execution_count": 12,
   "id": "1f9e2f85",
   "metadata": {},
   "outputs": [],
   "source": [
    "# 피보나치 수열 -> f(n) = f(n-1) + f(n-2)\n",
    "\n",
    "def fibo(n):\n",
    "    global count\n",
    "    count += 1\n",
    "    \n",
    "    if n==1 or n==2:\n",
    "        return 1\n",
    "    else:\n",
    "        return fibo(n-1)+fibo(n-2)"
   ]
  },
  {
   "cell_type": "code",
   "execution_count": 19,
   "id": "3acc3e47",
   "metadata": {},
   "outputs": [
    {
     "name": "stdout",
     "output_type": "stream",
     "text": [
      "fibo:  75025\n",
      "count:  150049\n"
     ]
    }
   ],
   "source": [
    "count = 0\n",
    "print(\"fibo: \", fibo(25))\n",
    "print(\"count: \",count)"
   ]
  },
  {
   "cell_type": "code",
   "execution_count": 23,
   "id": "bef6d4ff",
   "metadata": {},
   "outputs": [
    {
     "name": "stdout",
     "output_type": "stream",
     "text": [
      "count:  1219\n",
      "count:  197\n",
      "{1: 1, 2: 1, 3: 2, 4: 3, 5: 5, 6: 8, 7: 13, 8: 21, 9: 34, 10: 55, 11: 89, 12: 144, 13: 233, 14: 377, 15: 610, 16: 987, 17: 1597, 18: 2584, 19: 4181, 20: 6765, 21: 10946, 22: 17711, 23: 28657, 24: 46368, 25: 75025, 26: 121393, 27: 196418, 28: 317811, 29: 514229, 30: 832040, 31: 1346269, 32: 2178309, 33: 3524578, 34: 5702887, 35: 9227465, 36: 14930352, 37: 24157817, 38: 39088169, 39: 63245986, 40: 102334155, 41: 165580141, 42: 267914296, 43: 433494437, 44: 701408733, 45: 1134903170, 46: 1836311903, 47: 2971215073, 48: 4807526976, 49: 7778742049, 50: 12586269025, 51: 20365011074, 52: 32951280099, 53: 53316291173, 54: 86267571272, 55: 139583862445, 56: 225851433717, 57: 365435296162, 58: 591286729879, 59: 956722026041, 60: 1548008755920, 61: 2504730781961, 62: 4052739537881, 63: 6557470319842, 64: 10610209857723, 65: 17167680177565, 66: 27777890035288, 67: 44945570212853, 68: 72723460248141, 69: 117669030460994, 70: 190392490709135, 71: 308061521170129, 72: 498454011879264, 73: 806515533049393, 74: 1304969544928657, 75: 2111485077978050, 76: 3416454622906707, 77: 5527939700884757, 78: 8944394323791464, 79: 14472334024676221, 80: 23416728348467685, 81: 37889062373143906, 82: 61305790721611591, 83: 99194853094755497, 84: 160500643816367088, 85: 259695496911122585, 86: 420196140727489673, 87: 679891637638612258, 88: 1100087778366101931, 89: 1779979416004714189, 90: 2880067194370816120, 91: 4660046610375530309, 92: 7540113804746346429, 93: 12200160415121876738, 94: 19740274219868223167, 95: 31940434634990099905, 96: 51680708854858323072, 97: 83621143489848422977, 98: 135301852344706746049, 99: 218922995834555169026, 100: 354224848179261915075}\n"
     ]
    }
   ],
   "source": [
    "dictionary = {1:1,2:1}\n",
    "def fibo_m(n):\n",
    "    global count\n",
    "    count += 1\n",
    "    \n",
    "    if n in dictionary: # 메모화 되어 있으면 메모된 값을 사용\n",
    "        return dictionary[n]\n",
    "    else:\n",
    "        output = fibo_m(n-1) + fibo_m(n-2)\n",
    "        dictionary[n] = output\n",
    "        return output\n",
    "count = 0\n",
    "fibo(15)\n",
    "print(\"count: \", count)\n",
    "count = 0\n",
    "fibo_m(100)\n",
    "print(\"count: \",count)\n",
    "print(dictionary)"
   ]
  },
  {
   "cell_type": "code",
   "execution_count": 25,
   "id": "1ed4f22f",
   "metadata": {},
   "outputs": [
    {
     "name": "stdout",
     "output_type": "stream",
     "text": [
      "10\n",
      "20\n",
      "30\n",
      "40\n",
      "10\n",
      "a:10, b:20, c:30\n",
      "before => a:10, b20\n",
      "after => a:20, b10\n"
     ]
    }
   ],
   "source": [
    "tuple_test = (10,20,30,40)\n",
    "for value in tuple_test:\n",
    "    print(value)\n",
    "print(tuple_test[0])\n",
    "a,b,c = 10,20,30\n",
    "print(\"a:{}, b:{}, c:{}\".format(a,b,c))\n",
    "\n",
    "a,b = 10, 20\n",
    "\n",
    "print(\"before => a:{}, b{}\".format(a,b))\n",
    "a,b = b,a # a와 b의 값이 바뀜\n",
    "print(\"after => a:{}, b{}\".format(a,b))"
   ]
  },
  {
   "cell_type": "code",
   "execution_count": 28,
   "id": "ce92e185",
   "metadata": {},
   "outputs": [
    {
     "name": "stdout",
     "output_type": "stream",
     "text": [
      "0번째 값: 1\n",
      "1번째 값: 2\n",
      "2번째 값: 3\n",
      "3번째 값: 4\n",
      "4번째 값: 5\n",
      "29 1\n"
     ]
    }
   ],
   "source": [
    "for (idx, value) in enumerate([1,2,3,4,5]):\n",
    "    print(\"{}번째 값: {}\".format(idx,value))\n",
    "\n",
    "a, b = divmod(88,3)\n",
    "print(a,b)"
   ]
  },
  {
   "cell_type": "code",
   "execution_count": 31,
   "id": "aa66cd81",
   "metadata": {},
   "outputs": [
    {
     "name": "stdout",
     "output_type": "stream",
     "text": [
      "<map object at 0x000002A25FDE7310>\n",
      "\n",
      " [1, 2]\n"
     ]
    }
   ],
   "source": [
    "# map과 filter 함수 => map(함수, 리스트), filter(함수, 리스트)\n",
    "\n",
    "def power(x):\n",
    "    return x*x\n",
    "\n",
    "def under_3(x):\n",
    "    if n < 3:\n",
    "        return x\n",
    "\n",
    "# lambda 함수로 변경 -> lambda 매개변수 : 리턴값\n",
    "power = lambda x: x*x\n",
    "under_3 = lambda x: x<3\n",
    "    \n",
    "a_list = [1,2,3,4,5]\n",
    "b_list = map(power,a_list)\n",
    "print(b_list)\n",
    "c_list = list(filter(under_3,a_list))\n",
    "print(\"\\n\",c_list)"
   ]
  },
  {
   "cell_type": "code",
   "execution_count": 34,
   "id": "ede3b981",
   "metadata": {},
   "outputs": [
    {
     "name": "stdout",
     "output_type": "stream",
     "text": [
      "[1, 4, 9, 16, 25]\n",
      "[1, 2]\n"
     ]
    }
   ],
   "source": [
    "b_list = list(map(lambda x: x*x, a_list))\n",
    "print(b_list)\n",
    "\n",
    "c_list = list(filter(lambda x: x<3, a_list))\n",
    "print(c_list)"
   ]
  },
  {
   "cell_type": "code",
   "execution_count": 37,
   "id": "3926ff22",
   "metadata": {},
   "outputs": [],
   "source": [
    "file = open(\"a.txt\",\"w\")\n",
    "file.write(\"Hello Python file write !!\")\n",
    "file.close()"
   ]
  },
  {
   "cell_type": "code",
   "execution_count": 39,
   "id": "2b83633a",
   "metadata": {},
   "outputs": [
    {
     "name": "stdout",
     "output_type": "stream",
     "text": [
      "Hello Python file write !!\n"
     ]
    }
   ],
   "source": [
    "file = open(\"a.txt\",\"r\")\n",
    "file_data = file.read()\n",
    "print(file_data)\n",
    "file.close()"
   ]
  },
  {
   "cell_type": "code",
   "execution_count": 48,
   "id": "3057cb65",
   "metadata": {},
   "outputs": [
    {
     "name": "stdout",
     "output_type": "stream",
     "text": [
      "with python file open\n",
      "\n",
      "with python file open\n",
      "\n",
      "with python file open\n",
      "\n"
     ]
    }
   ],
   "source": [
    "with open(\"a.txt\",\"w\") as file:\n",
    "    file.write(\"with python file open\\n\")\n",
    "    file.write(\"with python file open\\n\")\n",
    "    file.write(\"with python file open\\n\")\n",
    "\n",
    "with open(\"a.txt\",\"r\") as file:\n",
    "    for line in file:\n",
    "        print(line)\n",
    "#file_data = file.read()"
   ]
  },
  {
   "cell_type": "code",
   "execution_count": 49,
   "id": "321b6bcc",
   "metadata": {},
   "outputs": [
    {
     "name": "stdout",
     "output_type": "stream",
     "text": [
      "이름 성적 입력 > 홍길동 90\n",
      "홍길동 :  90\n"
     ]
    }
   ],
   "source": [
    "with open(\"score.txt\",\"w\") as file:\n",
    "    name, score = input(\"이름 성적 입력 > \").split()\n",
    "    file.write(name + ',' + score)\n",
    "    \n",
    "with open(\"score.txt\",\"r\") as file:\n",
    "    for line in file:\n",
    "        name,score = line.split(',')\n",
    "        print(name,': ',score)"
   ]
  },
  {
   "cell_type": "code",
   "execution_count": 59,
   "id": "1a1e8ed2",
   "metadata": {},
   "outputs": [
    {
     "name": "stdout",
     "output_type": "stream",
     "text": [
      "이름 성적 입력 > 조용희 90\n",
      "김남우 :  80\n",
      "\n",
      "홍길동 :  20\n",
      "\n",
      "신계호 :  50\n",
      "\n",
      "조용희 :  90\n",
      "\n"
     ]
    }
   ],
   "source": [
    "file = open(\"score.txt\",\"a+\")\n",
    "name, score = input(\"이름 성적 입력 > \").split()\n",
    "file.write(name + ',' + score + '\\n') # 파일의 마지막 위치를 가리킴\n",
    "\n",
    "file.seek(0,0)\n",
    "for line in file:\n",
    "    name, score = line.split(',')\n",
    "    print(name, ': ', score)\n",
    "file.close()"
   ]
  },
  {
   "cell_type": "code",
   "execution_count": 73,
   "id": "fe0f7fe1",
   "metadata": {},
   "outputs": [
    {
     "name": "stdout",
     "output_type": "stream",
     "text": [
      "이름 국어 영어 수학 입력 > 김남우 10 20 30\n",
      "이름 국어 영어 수학 입력 > 조용희 20 30 40\n",
      "이름 국어 영어 수학 입력 > 신계호 40 50 60\n",
      "이름 국어 영어 수학 입력 > q 1 1 1\n",
      "검색할 이름 > 조용희\n",
      "조용희 : 20 30 40\n",
      "\n",
      "총원: 3, 국어 평균: 23.333333333333332, 영어 평균: 33.333333333333336, 수학 평균: 43.333333333333336\n"
     ]
    }
   ],
   "source": [
    "###### 이름, 국어, 영어, 수학 성적을 입력받아 파일에 저장 file_write()\n",
    "# 검색할 이름을 입력받아 파일에서 데이터 검색 file_search()\n",
    "# 검색한 이름과 성적 출력 \n",
    "# 전체 학생의 인원수와 총점 평균을 구함 file_total()\n",
    "# 다 함수로 작성\n",
    "def file_write(filename):\n",
    "    file = open(filename,\"w+\")\n",
    "#     file.close()\n",
    "    \n",
    "#     file = open(filename,\"a+\")\n",
    "    while(True):\n",
    "        name, kor, eng, math = input(\"이름 국어 영어 수학 입력 > \").split()\n",
    "        if(name=='q'):\n",
    "            break\n",
    "        file.write(name + ',' + kor + ',' + eng + ',' + math + '\\n')\n",
    "        \n",
    "    file.close()\n",
    "\n",
    "def file_search(filename):\n",
    "    search_name = input(\"검색할 이름 > \")\n",
    "    file = open(filename,\"r\")\n",
    "    for line in file:\n",
    "        name, kor, eng, math = line.split(',')\n",
    "        if(name==search_name):\n",
    "            print(name,':',kor,eng,math)\n",
    "\n",
    "def file_total(filename):\n",
    "    count = 0\n",
    "    tot_kor = 0 ; kor_avg = 0\n",
    "    tot_eng = 0 ; eng_avg = 0\n",
    "    tot_math = 0 ; math_avg = 0\n",
    "    \n",
    "    file = open(filename,\"r\")\n",
    "    for line in file:\n",
    "        name, kor, eng, math = line.split(',')\n",
    "        count = count + 1\n",
    "        tot_kor += int(kor)\n",
    "        tot_eng += int(eng)\n",
    "        tot_math += int(math)\n",
    "    #tot = tot_kor + tot_eng + tot_math\n",
    "    kor_avg = tot_kor/count\n",
    "    eng_avg = tot_eng/count\n",
    "    math_avg = tot_math/count\n",
    "    #tot_avg = tot/count\n",
    "    return count, kor_avg, eng_avg, math_avg\n",
    "    \n",
    "file_write(\"score.txt\")\n",
    "file_search(\"score.txt\")\n",
    "count, kor_avg, eng_avg, math_avg = file_total(\"score.txt\")\n",
    "print(\"총원: {}, 국어 평균: {}, 영어 평균: {}, 수학 평균: {}\".format(count, kor_avg, eng_avg, math_avg))"
   ]
  },
  {
   "cell_type": "code",
   "execution_count": 83,
   "id": "34a73088",
   "metadata": {},
   "outputs": [
    {
     "name": "stdout",
     "output_type": "stream",
     "text": [
      "first call function\n",
      "second call function\n",
      "함수 호출 !!\n",
      "test\n",
      "next ---\n",
      "함수 호출 2 !!\n",
      "test 2\n"
     ]
    }
   ],
   "source": [
    "# 제너레이터 함수 실행: next(함수명),, 함수 내부에 return 대신 yield 사용\n",
    "\n",
    "def test():\n",
    "    print(\"함수 호출 !!\")\n",
    "    yield \"test\"\n",
    "    \n",
    "    print(\"함수 호출 2 !!\")\n",
    "    yield \"test 2\"\n",
    "    \n",
    "#함수 호출\n",
    "print(\"first call function\")\n",
    "test() # 제너레이터 함수는 일반적인 호출로 실행이 안됨\n",
    "\n",
    "print(\"second call function\")\n",
    "test()\n",
    "\n",
    "file_name = test()\n",
    "a = next(file_name)\n",
    "print(a)\n",
    "print(\"next ---\")\n",
    "b = next(file_name)\n",
    "print(b)"
   ]
  },
  {
   "cell_type": "code",
   "execution_count": 86,
   "id": "f040acb1",
   "metadata": {},
   "outputs": [
    {
     "name": "stdout",
     "output_type": "stream",
     "text": [
      "홀수만 출력\n",
      "[1, 3, 5, 7, 9]\n",
      "3이상 7미만 자료만 출력\n",
      "[3, 4, 5, 6]\n",
      "제곱해서 50미만 자료만 출력\n",
      "[1, 2, 3, 4, 5, 6, 7]\n"
     ]
    }
   ],
   "source": [
    "numbers = list(range(1,10+1))\n",
    "\n",
    "print(\"홀수만 출력\")\n",
    "print(list(filter(lambda x:x%2==1,numbers)))\n",
    "\n",
    "print(\"3이상 7미만 자료만 출력\")\n",
    "print(list(filter(lambda x:3<=x<7,numbers)))\n",
    "\n",
    "print(\"제곱해서 50미만 자료만 출력\")\n",
    "print(list(filter(lambda x:x**2<50,numbers)))"
   ]
  },
  {
   "cell_type": "code",
   "execution_count": 89,
   "id": "dafb86a7",
   "metadata": {},
   "outputs": [
    {
     "name": "stdout",
     "output_type": "stream",
     "text": [
      "정수 입력 >a\n"
     ]
    }
   ],
   "source": [
    "# try ~ except 예외상황 발생 시 처리\n",
    "try:\n",
    "    input_number = int(input(\"정수 입력 >\"))\n",
    "    \n",
    "    print(\"원의 반지름: \", input_number)\n",
    "    print(\"원의 둘레: \",input_number)\n",
    "    print(\"원의 넓이: \", input_number * input_number * 3.14)\n",
    "except:\n",
    "    #print(\"입력 오류 !!\")\n",
    "    pass"
   ]
  },
  {
   "cell_type": "code",
   "execution_count": 95,
   "id": "449da3a0",
   "metadata": {},
   "outputs": [
    {
     "name": "stdout",
     "output_type": "stream",
     "text": [
      "could not convert string to float: 'test'\n",
      "['52', '345', '123', '44']\n"
     ]
    }
   ],
   "source": [
    "list_data = ['52','345','test','123','44']\n",
    "\n",
    "list_number = []\n",
    "for item in list_data:\n",
    "    try:\n",
    "        float(item) # 숫자는 float으로 변환\n",
    "        list_number.append(item)\n",
    "    except Exception as e:\n",
    "    # except:\n",
    "        #print(\"숫자 아님\")\n",
    "        print(e)\n",
    "        #pass\n",
    "    \n",
    "print(list_number)"
   ]
  },
  {
   "cell_type": "code",
   "execution_count": 96,
   "id": "232c1b9f",
   "metadata": {},
   "outputs": [
    {
     "name": "stdout",
     "output_type": "stream",
     "text": [
      "무조건 실행 !!\n",
      "무조건 실행 !!\n",
      "무조건 실행 !!\n",
      "무조건 실행 !!\n",
      "무조건 실행 !!\n",
      "['52', '345', '123', '44']\n"
     ]
    }
   ],
   "source": [
    "list_data = ['52','345','test','123','44']\n",
    "\n",
    "list_number = []\n",
    "for item in list_data:\n",
    "    try: # 에러 발생 코드\n",
    "        float(item) # 숫자는 float으로 변환\n",
    "    except: # 에러 발생 시\n",
    "        #print(\"숫자 아님\")\n",
    "        pass\n",
    "    else: # 에러 발생 안할 시\n",
    "        list_number.append(item)\n",
    "    finally: # 무조건 실행\n",
    "        print(\"무조건 실행 !!\")\n",
    "print(list_number)"
   ]
  },
  {
   "cell_type": "code",
   "execution_count": 99,
   "id": "2b5a936e",
   "metadata": {},
   "outputs": [
    {
     "name": "stdout",
     "output_type": "stream",
     "text": [
      "test 함수 시작\n",
      "test try start\n",
      "finally 구문\n"
     ]
    }
   ],
   "source": [
    "def test():\n",
    "    print(\"test 함수 시작\")\n",
    "    try:\n",
    "        print(\"test try start\")\n",
    "        return\n",
    "        print(\" try 구문 return 다음 문장\")\n",
    "    except:\n",
    "        print(\"except 구문\")\n",
    "    finally:\n",
    "        print(\"finally 구문\")\n",
    "    print(\"test 함수 end\")\n",
    "    \n",
    "test()"
   ]
  },
  {
   "cell_type": "code",
   "execution_count": 102,
   "id": "b4866772",
   "metadata": {},
   "outputs": [
    {
     "name": "stdout",
     "output_type": "stream",
     "text": [
      "정수 입력 > 10\n"
     ]
    },
    {
     "ename": "TypeError",
     "evalue": "'>' not supported between instances of 'str' and 'int'",
     "output_type": "error",
     "traceback": [
      "\u001b[1;31m---------------------------------------------------------------------------\u001b[0m",
      "\u001b[1;31mTypeError\u001b[0m                                 Traceback (most recent call last)",
      "\u001b[1;32m~\\AppData\\Local\\Temp/ipykernel_21176/828561880.py\u001b[0m in \u001b[0;36m<module>\u001b[1;34m\u001b[0m\n\u001b[0;32m      3\u001b[0m \u001b[0mnumber\u001b[0m \u001b[1;33m=\u001b[0m \u001b[0minput\u001b[0m\u001b[1;33m(\u001b[0m\u001b[1;34m\"정수 입력 > \"\u001b[0m\u001b[1;33m)\u001b[0m\u001b[1;33m\u001b[0m\u001b[1;33m\u001b[0m\u001b[0m\n\u001b[0;32m      4\u001b[0m \u001b[1;33m\u001b[0m\u001b[0m\n\u001b[1;32m----> 5\u001b[1;33m \u001b[1;32mif\u001b[0m \u001b[0mnumber\u001b[0m \u001b[1;33m>\u001b[0m \u001b[1;36m0\u001b[0m\u001b[1;33m:\u001b[0m\u001b[1;33m\u001b[0m\u001b[1;33m\u001b[0m\u001b[0m\n\u001b[0m\u001b[0;32m      6\u001b[0m     \u001b[1;31m# 양수일 때 아직 미구현 상태\u001b[0m\u001b[1;33m\u001b[0m\u001b[1;33m\u001b[0m\u001b[0m\n\u001b[0;32m      7\u001b[0m     \u001b[1;32mraise\u001b[0m \u001b[0mNotImplementedError\u001b[0m\u001b[1;33m\u001b[0m\u001b[1;33m\u001b[0m\u001b[0m\n",
      "\u001b[1;31mTypeError\u001b[0m: '>' not supported between instances of 'str' and 'int'"
     ]
    }
   ],
   "source": [
    "# raise 객체: 강제로 에러 발생 시킴\n",
    "\n",
    "number = input(\"정수 입력 > \")\n",
    "\n",
    "if number > 0:\n",
    "    # 양수일 때 아직 미구현 상태\n",
    "    raise NotImplementedError\n",
    "else:\n",
    "    raise NotImplementedError\n",
    "    "
   ]
  },
  {
   "cell_type": "code",
   "execution_count": 122,
   "id": "55ee0f03",
   "metadata": {},
   "outputs": [
    {
     "name": "stdout",
     "output_type": "stream",
     "text": [
      "이름 입력 > 김남우\n",
      "전화번호 입력 > 123 123 123\n",
      "123-123-123\n",
      "이름 입력 > 조용희\n",
      "전화번호 입력 > 234 234 234\n",
      "234-234-234\n",
      "이름 입력 > 신계호\n",
      "전화번호 입력 > 345 345 345\n",
      "345-345-345\n",
      "이름 입력 > q\n",
      "전화번호 추가 정지 !!\n",
      "김남우 123-123-123\n",
      "\n",
      "조용희 234-234-234\n",
      "\n",
      "신계호 345-345-345\n",
      "\n"
     ]
    }
   ],
   "source": [
    "## 이름 전화번호를 파일에 저장하는 프로그램 작성\n",
    "# 파일 이름은 \"dataset/telno.txt\", 기존에 파일이 존재하면 데이터 추가\n",
    "# 전화번호 입력은 숫자 3개를 입력 받아 123-456-789 형식으로 저장\n",
    "# 이름과 전화번호는 ' '로 분리해서 저장\n",
    "# 저장이 끝나면 파일을 닫고 다시 파일을 open -> 'r' 모드로\n",
    "# 파일의 내용을 화면에 출력 ex) 홍길동 123-456-7897\n",
    "# try ~ except ~ finally를 사용해서 작성\n",
    "\n",
    "def input_telno(filename):\n",
    "    file = open(filename,'w+')\n",
    "    while True:\n",
    "        name = input(\"이름 입력 > \")\n",
    "        if(name == 'q'):\n",
    "            print(\"전화번호 추가 정지 !!\")\n",
    "            break\n",
    "        telno = input(\"전화번호 입력 > \").split()\n",
    "        if(len(telno)!=3):\n",
    "            print(\"전화번호 입력 오류 !!\")\n",
    "            break\n",
    "            \n",
    "        telno = '-'.join(telno)\n",
    "        \n",
    "        file.write(name + ' ' + telno + '\\n')\n",
    "    file.close()\n",
    "    \n",
    "def read_telno(filename):\n",
    "    file = open(filename,'r')\n",
    "    for line in file:\n",
    "        print(line)\n",
    "        \n",
    "input_telno(\"dataset/telno.txt\")\n",
    "read_telno(\"dataset/telno.txt\")"
   ]
  },
  {
   "cell_type": "code",
   "execution_count": null,
   "id": "4d1094fe",
   "metadata": {},
   "outputs": [],
   "source": []
  }
 ],
 "metadata": {
  "kernelspec": {
   "display_name": "Python 3 (ipykernel)",
   "language": "python",
   "name": "python3"
  },
  "language_info": {
   "codemirror_mode": {
    "name": "ipython",
    "version": 3
   },
   "file_extension": ".py",
   "mimetype": "text/x-python",
   "name": "python",
   "nbconvert_exporter": "python",
   "pygments_lexer": "ipython3",
   "version": "3.9.7"
  }
 },
 "nbformat": 4,
 "nbformat_minor": 5
}
