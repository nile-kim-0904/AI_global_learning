{
 "cells": [
  {
   "cell_type": "code",
   "execution_count": 5,
   "id": "8e4a25ea",
   "metadata": {},
   "outputs": [],
   "source": [
    "import math\n",
    "math.cos(10)\n",
    "math.ceil(5.6) \n",
    "math.floor(5.6)\n",
    "\n",
    "# from 모듈명 import 필요한 변수 또는 함수\n",
    "from math import cos,ceil,floor"
   ]
  },
  {
   "cell_type": "code",
   "execution_count": 9,
   "id": "c2580cb6",
   "metadata": {},
   "outputs": [
    {
     "name": "stdout",
     "output_type": "stream",
     "text": [
      "random 모듈: \n",
      "random():  0.47968604931345205\n",
      "uniform():  11.737258441483329\n",
      "randrange():  18\n",
      "choice():  7\n",
      "shuffle():  None [2, 5, 1, 7, 0, 8, 9, 3, 6, 4]\n",
      "sample():  [5, 3, 7]\n"
     ]
    }
   ],
   "source": [
    "# random 모듈: 임의의 수를 발생시키는 함수들을 ㅈ;모듈\n",
    "import random as rnd\n",
    "\n",
    "print(\"random 모듈: \")\n",
    "\n",
    "# random(): 0.0 < x < 1.0 사이의 float 리턴\n",
    "print(\"random(): \",rnd.random())\n",
    "\n",
    "# uniform(min,max): min < x < max 사이의 float 리턴\n",
    "print(\"uniform(): \",rnd.uniform(10,20))\n",
    "\n",
    "# randrange([min,max]): min < x < max 사이의 int 리턴, 0부터 max\n",
    "print(\"randrange(): \",rnd.randrange(10,20))\n",
    "\n",
    "# choice(list): 리스트 내부의 임의의 요소를 리턴\n",
    "print(\"choice(): \", rnd.choice(list(range(10))))\n",
    "\n",
    "# shuffle(list): 리스트 요소를 랜덤하게 섞음\n",
    "a = list(range(10))\n",
    "print(\"shuffle(): \",rnd.shuffle(a),a)\n",
    "\n",
    "# sample(list,k=숫자): 리스트에서 숫자의 갯수 요소를 랜덤하게 리턴\n",
    "print(\"sample(): \",rnd.sample(a,k=3))"
   ]
  },
  {
   "cell_type": "code",
   "execution_count": 11,
   "id": "05fc706f",
   "metadata": {},
   "outputs": [
    {
     "name": "stdout",
     "output_type": "stream",
     "text": [
      "copyright:  Copyright (c) 2001-2021 Python Software Foundation.\n",
      "All Rights Reserved.\n",
      "\n",
      "Copyright (c) 2000 BeOpen.com.\n",
      "All Rights Reserved.\n",
      "\n",
      "Copyright (c) 1995-2001 Corporation for National Research Initiatives.\n",
      "All Rights Reserved.\n",
      "\n",
      "Copyright (c) 1991-1995 Stichting Mathematisch Centrum, Amsterdam.\n",
      "All Rights Reserved.\n",
      "version:  3.9.7 (default, Sep 16 2021, 16:59:28) [MSC v.1916 64 bit (AMD64)]\n"
     ]
    }
   ],
   "source": [
    "# sys 모듈: 시스템 관련 정보를 가져 옴\n",
    "import sys\n",
    "\n",
    "print(\"copyright: \",sys.copyright)\n",
    "print(\"version: \",sys.version)\n",
    "# sys.exit()"
   ]
  },
  {
   "cell_type": "code",
   "execution_count": 15,
   "id": "bb6b6421",
   "metadata": {},
   "outputs": [
    {
     "name": "stdout",
     "output_type": "stream",
     "text": [
      "현재 운영체제:  nt\n",
      "현재 작업 경로:  C:\\Users\\nile\\Documents\\python_basic\n",
      "현재 폴더 리스트:  ['.git', '.ipynb_checkpoints', 'a.txt', 'dataset', 'day_1.ipynb', 'day_1.py', 'day_2.ipynb', 'day_2.py', 'day_3.ipynb', 'day_3.py', 'day_4.ipynb', 'day_4.py', 'day_5.ipynb', 'score.txt', 'solution']\n"
     ]
    }
   ],
   "source": [
    "# os 모듈: 운영체제와 관련된 명령어\n",
    "import os\n",
    "\n",
    "print(\"현재 운영체제: \",os.name)\n",
    "print(\"현재 작업 경로: \",os.getcwd())\n",
    "print(\"현재 폴더 리스트: \",os.listdir())"
   ]
  },
  {
   "cell_type": "code",
   "execution_count": 22,
   "id": "c02b3e65",
   "metadata": {},
   "outputs": [
    {
     "name": "stdout",
     "output_type": "stream",
     "text": [
      " C 드라이브의 볼륨에는 이름이 없습니다.\n",
      " 볼륨 일련 번호: DAA9-DFAD\n",
      "\n",
      " C:\\Users\\nile\\Documents\\python_basic 디렉터리\n",
      "\n",
      "2021-12-29  오전 10:16    <DIR>          .\n",
      "2021-12-23  오전 10:12    <DIR>          ..\n",
      "2021-12-29  오전 09:12    <DIR>          .ipynb_checkpoints\n",
      "2021-12-28  오전 11:18                69 a.txt\n",
      "2021-12-28  오후 04:39    <DIR>          dataset\n",
      "2021-12-23  오후 04:43             7,420 day_1.ipynb\n",
      "2021-12-23  오전 11:01               188 day_1.py\n",
      "2021-12-24  오후 05:09            15,820 day_2.ipynb\n",
      "2021-12-24  오후 05:10             5,353 day_2.py\n",
      "2021-12-27  오후 10:29            12,070 day_3.ipynb\n",
      "2021-12-28  오전 09:08             4,603 day_3.py\n",
      "2021-12-28  오후 05:06            22,233 day_4.ipynb\n",
      "2021-12-29  오전 09:11             8,244 day_4.py\n",
      "2021-12-29  오전 10:16             5,926 day_5.ipynb\n",
      "2021-12-28  오후 04:17                68 score.txt\n",
      "2021-12-29  오전 09:10    <DIR>          solution\n",
      "              11개 파일              81,994 바이트\n",
      "               5개 디렉터리  103,520,628,736 바이트 남음\n"
     ]
    }
   ],
   "source": [
    "# 디렉토리 생성\n",
    "# os.mkdir(\"test_dir\")\n",
    "os.listdir()\n",
    "\n",
    "# os.rmdir(\"test_dir\")\n",
    "os.listdir()\n",
    "\n",
    "# file 이름 변경: rename(old_name,new_name)\n",
    "\n",
    "#file 삭제: remove(파일명)\n",
    "\n",
    "!dir"
   ]
  },
  {
   "cell_type": "code",
   "execution_count": 24,
   "id": "4752925c",
   "metadata": {},
   "outputs": [
    {
     "data": {
      "text/plain": [
       "datetime.datetime(2021, 12, 29, 10, 24, 3, 301537)"
      ]
     },
     "execution_count": 24,
     "metadata": {},
     "output_type": "execute_result"
    }
   ],
   "source": [
    "# datetime 모듈: 날짜를 형식에 맞게 편집 가능\n",
    "import datetime as dt\n",
    "dt.datetime.now()"
   ]
  },
  {
   "cell_type": "code",
   "execution_count": 27,
   "id": "48105dd3",
   "metadata": {},
   "outputs": [
    {
     "name": "stdout",
     "output_type": "stream",
     "text": [
      "time start\n",
      "time finish\n"
     ]
    }
   ],
   "source": [
    "# time 모듈: 일정 시간 멈춤\n",
    "import time\n",
    "print(\"time start\")\n",
    "time.sleep(5)\n",
    "print(\"time finish\")"
   ]
  },
  {
   "cell_type": "code",
   "execution_count": 38,
   "id": "915b111d",
   "metadata": {},
   "outputs": [],
   "source": [
    "# urllib 모듈: url 라이브러리\n",
    "# 인터넷 검색 1. url open, 2. 해당 데이터 읽어 옴\n",
    "from urllib import request\n",
    "\n",
    "# urlopen() 구글의 메인 페이지\n",
    "target = request.urlopen(\"https://www.google.com\")\n",
    "# output = target.read()\n",
    "\n",
    "# print(output)"
   ]
  },
  {
   "cell_type": "code",
   "execution_count": 40,
   "id": "0cf13f25",
   "metadata": {},
   "outputs": [
    {
     "data": {
      "text/plain": []
     },
     "execution_count": 40,
     "metadata": {},
     "output_type": "execute_result"
    }
   ],
   "source": [
    "# <html> ~ </html> tag 형식으로 변환해 주는 모듈: BeautifulSoup\n",
    "#import BeautifulSoup\n",
    "#!pip install beautifulsoup4\n",
    "from bs4 import BeautifulSoup\n",
    "\n",
    "soup = BeautifulSoup(target)\n",
    "soup"
   ]
  },
  {
   "cell_type": "code",
   "execution_count": 3,
   "id": "ef32ad7e",
   "metadata": {},
   "outputs": [
    {
     "name": "stdout",
     "output_type": "stream",
     "text": [
      "도시명: 서울, 최저기온: -9, 최대기온: 0\n",
      "도시명: 인천, 최저기온: -8, 최대기온: 0\n",
      "도시명: 수원, 최저기온: -10, 최대기온: 1\n",
      "도시명: 파주, 최저기온: -15, 최대기온: 0\n",
      "도시명: 이천, 최저기온: -12, 최대기온: 0\n",
      "도시명: 평택, 최저기온: -11, 최대기온: 1\n",
      "도시명: 춘천, 최저기온: -14, 최대기온: 0\n",
      "도시명: 원주, 최저기온: -12, 최대기온: 0\n",
      "도시명: 강릉, 최저기온: -6, 최대기온: 5\n",
      "도시명: 대전, 최저기온: -9, 최대기온: 2\n",
      "도시명: 세종, 최저기온: -10, 최대기온: 1\n",
      "도시명: 홍성, 최저기온: -10, 최대기온: 2\n",
      "도시명: 청주, 최저기온: -9, 최대기온: 1\n",
      "도시명: 충주, 최저기온: -12, 최대기온: 0\n",
      "도시명: 영동, 최저기온: -12, 최대기온: 2\n",
      "도시명: 광주, 최저기온: -5, 최대기온: 5\n",
      "도시명: 목포, 최저기온: -3, 최대기온: 4\n",
      "도시명: 여수, 최저기온: -3, 최대기온: 5\n",
      "도시명: 순천, 최저기온: -4, 최대기온: 6\n",
      "도시명: 광양, 최저기온: -4, 최대기온: 6\n",
      "도시명: 나주, 최저기온: -7, 최대기온: 4\n",
      "도시명: 전주, 최저기온: -7, 최대기온: 3\n",
      "도시명: 군산, 최저기온: -7, 최대기온: 3\n",
      "도시명: 정읍, 최저기온: -8, 최대기온: 2\n",
      "도시명: 남원, 최저기온: -8, 최대기온: 4\n",
      "도시명: 고창, 최저기온: -6, 최대기온: 3\n",
      "도시명: 무주, 최저기온: -12, 최대기온: 2\n",
      "도시명: 부산, 최저기온: -4, 최대기온: 6\n",
      "도시명: 울산, 최저기온: -5, 최대기온: 5\n",
      "도시명: 창원, 최저기온: -5, 최대기온: 4\n",
      "도시명: 진주, 최저기온: -8, 최대기온: 5\n",
      "도시명: 거창, 최저기온: -10, 최대기온: 5\n",
      "도시명: 통영, 최저기온: -4, 최대기온: 5\n",
      "도시명: 대구, 최저기온: -7, 최대기온: 4\n",
      "도시명: 안동, 최저기온: -12, 최대기온: 2\n",
      "도시명: 포항, 최저기온: -5, 최대기온: 6\n",
      "도시명: 경주, 최저기온: -8, 최대기온: 5\n",
      "도시명: 울진, 최저기온: -6, 최대기온: 6\n",
      "도시명: 울릉도, 최저기온: -1, 최대기온: 4\n",
      "도시명: 제주, 최저기온: 3, 최대기온: 8\n",
      "도시명: 서귀포, 최저기온: 3, 최대기온: 10\n"
     ]
    }
   ],
   "source": [
    "from urllib import request\n",
    "from bs4 import BeautifulSoup\n",
    "\n",
    "url = \"https://www.weather.go.kr/w/weather/forecast/mid-term.do\"\n",
    "target = request.urlopen(url)\n",
    "\n",
    "soup = BeautifulSoup(target)\n",
    "\n",
    "for location in soup.find_all('tr'):\n",
    "    if location.find('td',class_='midterm-city'):\n",
    "        print(\"도시명: {}, 최저기온: {}, 최대기온: {}\".format(location.find('td',class_='midterm-city').text,location.find('span',class_='tmn').text,location.find('span',class_='tmx').text))"
   ]
  },
  {
   "cell_type": "code",
   "execution_count": 11,
   "id": "e7fdbcf7",
   "metadata": {},
   "outputs": [
    {
     "name": "stdout",
     "output_type": "stream",
     "text": [
      "[<span>날씨누리</span>, <span>기상특보<i aria-hidden=\"true\" class=\"icon\"></i></span>, <span>예보<i aria-hidden=\"true\" class=\"icon\"></i></span>, <span>장기전망<i aria-hidden=\"true\" class=\"icon\"></i></span>, <span>날씨해설<i aria-hidden=\"true\" class=\"icon\"></i></span>, <span>해상특보<i aria-hidden=\"true\" class=\"icon\"></i></span>, <span>바다예보<i aria-hidden=\"true\" class=\"icon\"></i></span>, <span>바다예측<i aria-hidden=\"true\" class=\"icon\"></i></span>, <span>해양일기도<i aria-hidden=\"true\" class=\"icon\"></i></span>, <span>날씨지도<i aria-hidden=\"true\" class=\"icon\"></i></span>, <span>종합영상<i aria-hidden=\"true\" class=\"icon\"></i></span>, <span>초단기예측<i aria-hidden=\"true\" class=\"icon\"></i></span>, <span>레이더<i aria-hidden=\"true\" class=\"icon\"></i></span>, <span>위성<i aria-hidden=\"true\" class=\"icon\"></i></span>, <span>낙뢰<i aria-hidden=\"true\" class=\"icon\"></i></span>, <span>일기도<i aria-hidden=\"true\" class=\"icon\"></i></span>, <span>어는비<i aria-hidden=\"true\" class=\"icon\"></i></span>, <span>통보문<i aria-hidden=\"true\" class=\"icon\"></i></span>, <span>상세정보<i aria-hidden=\"true\" class=\"icon\"></i></span>, <span>위험시점정보<i aria-hidden=\"true\" class=\"icon\"></i></span>, <span>모델예측<i aria-hidden=\"true\" class=\"icon\"></i></span>, <span>태풍감시<i aria-hidden=\"true\" class=\"icon\"></i></span>, <span>과거태풍<i aria-hidden=\"true\" class=\"icon\"></i></span>, <span>태풍발생통계<i aria-hidden=\"true\" class=\"icon\"></i></span>, <span>기본지식<i aria-hidden=\"true\" class=\"icon\"></i></span>, <span>실시간 지진감시<i aria-hidden=\"true\" class=\"icon\"></i></span>, <span>최근지진<i aria-hidden=\"true\" class=\"icon\"></i></span>, <span>지진조회<i aria-hidden=\"true\" class=\"icon\"></i></span>, <span>과거지진<i aria-hidden=\"true\" class=\"icon\"></i></span>, <span>지진해일<i aria-hidden=\"true\" class=\"icon\"></i></span>, <span>화산<i aria-hidden=\"true\" class=\"icon\"></i></span>, <span>행동요령/진도등급별현상<i aria-hidden=\"true\" class=\"icon\"></i></span>, <span>온라인 지진 과학관<i aria-hidden=\"true\" class=\"icon\"></i></span>, <span>생활기상정보<i aria-hidden=\"true\" class=\"icon\"></i></span>, <span>산악날씨<i aria-hidden=\"true\" class=\"icon\"></i></span>, <span>공항예보<i aria-hidden=\"true\" class=\"icon\"></i></span>, <span>해수욕장예보<i aria-hidden=\"true\" class=\"icon\"></i></span>, <span>계절관측<i aria-hidden=\"true\" class=\"icon\"></i></span>, <span>세계날씨<i aria-hidden=\"true\" class=\"icon\"></i></span>, <span>황사영상<i aria-hidden=\"true\" class=\"icon\"></i></span>, <span>황사모델예측<i aria-hidden=\"true\" class=\"icon\"></i></span>, <span>황사관측현황<i aria-hidden=\"true\" class=\"icon\"></i></span>, <span>황사관측일수<i aria-hidden=\"true\" class=\"icon\"></i></span>, <span>육상<i aria-hidden=\"true\" class=\"icon\"></i></span>, <span>바다<i aria-hidden=\"true\" class=\"icon\"></i></span>, <span>기후<i aria-hidden=\"true\" class=\"icon\"></i></span>, <span>기상플러스</span>, <span>행정</span>, <span>전국</span>, <span>서울 ·경기도</span>, <span>강원도</span>, <span>충청남·북도</span>, <span>전라남·북도</span>, <span>경상남·북도</span>, <span>제주특별자치도</span>, <span class=\"lbl\">발표시각</span>, <span class=\"txt\"> <span>2021년 12월 29일 (수)요일 06:00</span> 발표 예보관(박경희)</span>, <span>2021년 12월 29일 (수)요일 06:00</span>, <span>30%</span>, <span>40%</span>, <span>90%</span>, <span>0%</span>, <span>10%</span>, <span>10%</span>, <span>10%</span>, <span>0%</span>, <span>10%</span>, <span>10%</span>, <span>10%</span>, <span>30%</span>, <span>30%</span>, <span>20%</span>, <span>40%</span>, <span>90%</span>, <span>0%</span>, <span>20%</span>, <span>20%</span>, <span>10%</span>, <span>0%</span>, <span>10%</span>, <span>10%</span>, <span>20%</span>, <span>30%</span>, <span>30%</span>, <span>20%</span>, <span>30%</span>, <span>40%</span>, <span>0%</span>, <span>0%</span>, <span>0%</span>, <span>0%</span>, <span>0%</span>, <span>0%</span>, <span>20%</span>, <span>10%</span>, <span>10%</span>, <span>20%</span>, <span>30%</span>, <span>30%</span>, <span>90%</span>, <span>10%</span>, <span>20%</span>, <span>10%</span>, <span>10%</span>, <span>0%</span>, <span>30%</span>, <span>30%</span>, <span>10%</span>, <span>30%</span>, <span>30%</span>, <span>30%</span>, <span>30%</span>, <span>90%</span>, <span>10%</span>, <span>20%</span>, <span>10%</span>, <span>10%</span>, <span>0%</span>, <span>30%</span>, <span>30%</span>, <span>10%</span>, <span>30%</span>, <span>30%</span>, <span>30%</span>, <span>30%</span>, <span>70%</span>, <span>10%</span>, <span>0%</span>, <span>0%</span>, <span>10%</span>, <span>20%</span>, <span>30%</span>, <span>30%</span>, <span>30%</span>, <span>30%</span>, <span>30%</span>, <span>30%</span>, <span>30%</span>, <span>90%</span>, <span>10%</span>, <span>20%</span>, <span>10%</span>, <span>10%</span>, <span>20%</span>, <span>30%</span>, <span>30%</span>, <span>30%</span>, <span>30%</span>, <span>30%</span>, <span>20%</span>, <span>30%</span>, <span>10%</span>, <span>0%</span>, <span>0%</span>, <span>0%</span>, <span>0%</span>, <span>20%</span>, <span>30%</span>, <span>30%</span>, <span>10%</span>, <span>10%</span>, <span>10%</span>, <span>30%</span>, <span>30%</span>, <span>30%</span>, <span>0%</span>, <span>0%</span>, <span>0%</span>, <span>0%</span>, <span>20%</span>, <span>30%</span>, <span>30%</span>, <span>20%</span>, <span>10%</span>, <span>20%</span>, <span>30%</span>, <span>30%</span>, <span>40%</span>, <span>20%</span>, <span>0%</span>, <span>0%</span>, <span>20%</span>, <span>30%</span>, <span>30%</span>, <span>40%</span>, <span>40%</span>, <span>30%</span>, <span>30%</span>, <span class=\"tmn\">-9</span>, <span class=\"tmx\">0</span>, <span class=\"tmn\">-3</span>, <span class=\"tmx\">-1</span>, <span class=\"tmn\">-6</span>, <span class=\"tmx\">2</span>, <span class=\"tmn\">-7</span>, <span class=\"tmx\">1</span>, <span class=\"tmn\">-6</span>, <span class=\"tmx\">2</span>, <span class=\"tmn\">-4</span>, <span class=\"tmx\">3</span>, <span class=\"tmn\">-4</span>, <span class=\"tmx\">4</span>, <span class=\"tmn\">-3</span>, <span class=\"tmx\">3</span>, <span class=\"tmn\">-8</span>, <span class=\"tmx\">0</span>, <span class=\"tmn\">-2</span>, <span class=\"tmx\">-1</span>, <span class=\"tmn\">-6</span>, <span class=\"tmx\">2</span>, <span class=\"tmn\">-5</span>, <span class=\"tmx\">1</span>, <span class=\"tmn\">-4</span>, <span class=\"tmx\">2</span>, <span class=\"tmn\">-3</span>, <span class=\"tmx\">3</span>, <span class=\"tmn\">-3</span>, <span class=\"tmx\">4</span>, <span class=\"tmn\">-2</span>, <span class=\"tmx\">3</span>, <span class=\"tmn\">-10</span>, <span class=\"tmx\">1</span>, <span class=\"tmn\">-3</span>, <span class=\"tmx\">2</span>, <span class=\"tmn\">-8</span>, <span class=\"tmx\">4</span>, <span class=\"tmn\">-6</span>, <span class=\"tmx\">3</span>, <span class=\"tmn\">-6</span>, <span class=\"tmx\">3</span>, <span class=\"tmn\">-5</span>, <span class=\"tmx\">4</span>, <span class=\"tmn\">-5</span>, <span class=\"tmx\">4</span>, <span class=\"tmn\">-4</span>, <span class=\"tmx\">3</span>, <span class=\"tmn\">-15</span>, <span class=\"tmx\">0</span>, <span class=\"tmn\">-4</span>, <span class=\"tmx\">-1</span>, <span class=\"tmn\">-12</span>, <span class=\"tmx\">3</span>, <span class=\"tmn\">-10</span>, <span class=\"tmx\">1</span>, <span class=\"tmn\">-11</span>, <span class=\"tmx\">1</span>, <span class=\"tmn\">-10</span>, <span class=\"tmx\">3</span>, <span class=\"tmn\">-8</span>, <span class=\"tmx\">3</span>, <span class=\"tmn\">-7</span>, <span class=\"tmx\">2</span>, <span class=\"tmn\">-12</span>, <span class=\"tmx\">0</span>, <span class=\"tmn\">-5</span>, <span class=\"tmx\">3</span>, <span class=\"tmn\">-10</span>, <span class=\"tmx\">3</span>, <span class=\"tmn\">-7</span>, <span class=\"tmx\">3</span>, <span class=\"tmn\">-8</span>, <span class=\"tmx\">2</span>, <span class=\"tmn\">-8</span>, <span class=\"tmx\">3</span>, <span class=\"tmn\">-7</span>, <span class=\"tmx\">3</span>, <span class=\"tmn\">-7</span>, <span class=\"tmx\">2</span>, <span class=\"tmn\">-11</span>, <span class=\"tmx\">1</span>, <span class=\"tmn\">-2</span>, <span class=\"tmx\">3</span>, <span class=\"tmn\">-7</span>, <span class=\"tmx\">4</span>, <span class=\"tmn\">-5</span>, <span class=\"tmx\">3</span>, <span class=\"tmn\">-7</span>, <span class=\"tmx\">3</span>, <span class=\"tmn\">-7</span>, <span class=\"tmx\">3</span>, <span class=\"tmn\">-5</span>, <span class=\"tmx\">4</span>, <span class=\"tmn\">-4</span>, <span class=\"tmx\">2</span>, <span class=\"tmn\">-14</span>, <span class=\"tmx\">0</span>, <span class=\"tmn\">-6</span>, <span class=\"tmx\">2</span>, <span class=\"tmn\">-13</span>, <span class=\"tmx\">2</span>, <span class=\"tmn\">-9</span>, <span class=\"tmx\">1</span>, <span class=\"tmn\">-11</span>, <span class=\"tmx\">1</span>, <span class=\"tmn\">-10</span>, <span class=\"tmx\">2</span>, <span class=\"tmn\">-7</span>, <span class=\"tmx\">2</span>, <span class=\"tmn\">-7</span>, <span class=\"tmx\">1</span>, <span class=\"tmn\">-12</span>, <span class=\"tmx\">0</span>, <span class=\"tmn\">-4</span>, <span class=\"tmx\">2</span>, <span class=\"tmn\">-10</span>, <span class=\"tmx\">2</span>, <span class=\"tmn\">-8</span>, <span class=\"tmx\">2</span>, <span class=\"tmn\">-9</span>, <span class=\"tmx\">1</span>, <span class=\"tmn\">-7</span>, <span class=\"tmx\">3</span>, <span class=\"tmn\">-6</span>, <span class=\"tmx\">3</span>, <span class=\"tmn\">-6</span>, <span class=\"tmx\">3</span>, <span class=\"tmn\">-6</span>, <span class=\"tmx\">5</span>, <span class=\"tmn\">1</span>, <span class=\"tmx\">6</span>, <span class=\"tmn\">-4</span>, <span class=\"tmx\">5</span>, <span class=\"tmn\">-2</span>, <span class=\"tmx\">6</span>, <span class=\"tmn\">-3</span>, <span class=\"tmx\">6</span>, <span class=\"tmn\">-2</span>, <span class=\"tmx\">6</span>, <span class=\"tmn\">-1</span>, <span class=\"tmx\">7</span>, <span class=\"tmn\">-1</span>, <span class=\"tmx\">7</span>, <span class=\"tmn\">-9</span>, <span class=\"tmx\">2</span>, <span class=\"tmn\">-3</span>, <span class=\"tmx\">4</span>, <span class=\"tmn\">-7</span>, <span class=\"tmx\">6</span>, <span class=\"tmn\">-4</span>, <span class=\"tmx\">5</span>, <span class=\"tmn\">-6</span>, <span class=\"tmx\">4</span>, <span class=\"tmn\">-5</span>, <span class=\"tmx\">5</span>, <span class=\"tmn\">-4</span>, <span class=\"tmx\">6</span>, <span class=\"tmn\">-4</span>, <span class=\"tmx\">4</span>, <span class=\"tmn\">-10</span>, <span class=\"tmx\">1</span>, <span class=\"tmn\">-4</span>, <span class=\"tmx\">4</span>, <span class=\"tmn\">-8</span>, <span class=\"tmx\">5</span>, <span class=\"tmn\">-5</span>, <span class=\"tmx\">4</span>, <span class=\"tmn\">-7</span>, <span class=\"tmx\">3</span>, <span class=\"tmn\">-6</span>, <span class=\"tmx\">4</span>, <span class=\"tmn\">-5</span>, <span class=\"tmx\">5</span>, <span class=\"tmn\">-5</span>, <span class=\"tmx\">2</span>, <span class=\"tmn\">-10</span>, <span class=\"tmx\">2</span>, <span class=\"tmn\">-2</span>, <span class=\"tmx\">2</span>, <span class=\"tmn\">-7</span>, <span class=\"tmx\">6</span>, <span class=\"tmn\">-4</span>, <span class=\"tmx\">4</span>, <span class=\"tmn\">-7</span>, <span class=\"tmx\">2</span>, <span class=\"tmn\">-6</span>, <span class=\"tmx\">4</span>, <span class=\"tmn\">-6</span>, <span class=\"tmx\">5</span>, <span class=\"tmn\">-5</span>, <span class=\"tmx\">3</span>, <span class=\"tmn\">-9</span>, <span class=\"tmx\">1</span>, <span class=\"tmn\">-3</span>, <span class=\"tmx\">3</span>, <span class=\"tmn\">-7</span>, <span class=\"tmx\">5</span>, <span class=\"tmn\">-4</span>, <span class=\"tmx\">4</span>, <span class=\"tmn\">-6</span>, <span class=\"tmx\">3</span>, <span class=\"tmn\">-5</span>, <span class=\"tmx\">4</span>, <span class=\"tmn\">-4</span>, <span class=\"tmx\">5</span>, <span class=\"tmn\">-4</span>, <span class=\"tmx\">4</span>, <span class=\"tmn\">-12</span>, <span class=\"tmx\">0</span>, <span class=\"tmn\">-6</span>, <span class=\"tmx\">2</span>, <span class=\"tmn\">-10</span>, <span class=\"tmx\">3</span>, <span class=\"tmn\">-6</span>, <span class=\"tmx\">3</span>, <span class=\"tmn\">-9</span>, <span class=\"tmx\">2</span>, <span class=\"tmn\">-7</span>, <span class=\"tmx\">3</span>, <span class=\"tmn\">-6</span>, <span class=\"tmx\">4</span>, <span class=\"tmn\">-6</span>, <span class=\"tmx\">2</span>, <span class=\"tmn\">-12</span>, <span class=\"tmx\">2</span>, <span class=\"tmn\">-5</span>, <span class=\"tmx\">4</span>, <span class=\"tmn\">-9</span>, <span class=\"tmx\">5</span>, <span class=\"tmn\">-6</span>, <span class=\"tmx\">5</span>, <span class=\"tmn\">-7</span>, <span class=\"tmx\">3</span>, <span class=\"tmn\">-7</span>, <span class=\"tmx\">4</span>, <span class=\"tmn\">-7</span>, <span class=\"tmx\">5</span>, <span class=\"tmn\">-5</span>, <span class=\"tmx\">4</span>, <span class=\"tmn\">-5</span>, <span class=\"tmx\">5</span>, <span class=\"tmn\">-2</span>, <span class=\"tmx\">6</span>, <span class=\"tmn\">-4</span>, <span class=\"tmx\">7</span>, <span class=\"tmn\">-2</span>, <span class=\"tmx\">7</span>, <span class=\"tmn\">-2</span>, <span class=\"tmx\">5</span>, <span class=\"tmn\">-2</span>, <span class=\"tmx\">7</span>, <span class=\"tmn\">-3</span>, <span class=\"tmx\">8</span>, <span class=\"tmn\">-1</span>, <span class=\"tmx\">7</span>, <span class=\"tmn\">-3</span>, <span class=\"tmx\">4</span>, <span class=\"tmn\">2</span>, <span class=\"tmx\">6</span>, <span class=\"tmn\">-2</span>, <span class=\"tmx\">7</span>, <span class=\"tmn\">1</span>, <span class=\"tmx\">7</span>, <span class=\"tmn\">0</span>, <span class=\"tmx\">4</span>, <span class=\"tmn\">0</span>, <span class=\"tmx\">6</span>, <span class=\"tmn\">0</span>, <span class=\"tmx\">7</span>, <span class=\"tmn\">1</span>, <span class=\"tmx\">7</span>, <span class=\"tmn\">-3</span>, <span class=\"tmx\">5</span>, <span class=\"tmn\">2</span>, <span class=\"tmx\">8</span>, <span class=\"tmn\">-2</span>, <span class=\"tmx\">7</span>, <span class=\"tmn\">1</span>, <span class=\"tmx\">8</span>, <span class=\"tmn\">0</span>, <span class=\"tmx\">6</span>, <span class=\"tmn\">1</span>, <span class=\"tmx\">7</span>, <span class=\"tmn\">1</span>, <span class=\"tmx\">8</span>, <span class=\"tmn\">2</span>, <span class=\"tmx\">8</span>, <span class=\"tmn\">-4</span>, <span class=\"tmx\">6</span>, <span class=\"tmn\">-2</span>, <span class=\"tmx\">8</span>, <span class=\"tmn\">-4</span>, <span class=\"tmx\">7</span>, <span class=\"tmn\">-2</span>, <span class=\"tmx\">8</span>, <span class=\"tmn\">-1</span>, <span class=\"tmx\">6</span>, <span class=\"tmn\">-2</span>, <span class=\"tmx\">7</span>, <span class=\"tmn\">-2</span>, <span class=\"tmx\">8</span>, <span class=\"tmn\">-1</span>, <span class=\"tmx\">8</span>, <span class=\"tmn\">-4</span>, <span class=\"tmx\">6</span>, <span class=\"tmn\">-1</span>, <span class=\"tmx\">8</span>, <span class=\"tmn\">-3</span>, <span class=\"tmx\">8</span>, <span class=\"tmn\">-1</span>, <span class=\"tmx\">10</span>, <span class=\"tmn\">-1</span>, <span class=\"tmx\">7</span>, <span class=\"tmn\">0</span>, <span class=\"tmx\">8</span>, <span class=\"tmn\">-1</span>, <span class=\"tmx\">9</span>, <span class=\"tmn\">0</span>, <span class=\"tmx\">9</span>, <span class=\"tmn\">-7</span>, <span class=\"tmx\">4</span>, <span class=\"tmn\">-3</span>, <span class=\"tmx\">7</span>, <span class=\"tmn\">-7</span>, <span class=\"tmx\">6</span>, <span class=\"tmn\">-3</span>, <span class=\"tmx\">7</span>, <span class=\"tmn\">-4</span>, <span class=\"tmx\">4</span>, <span class=\"tmn\">-5</span>, <span class=\"tmx\">6</span>, <span class=\"tmn\">-6</span>, <span class=\"tmx\">8</span>, <span class=\"tmn\">-4</span>, <span class=\"tmx\">6</span>, <span class=\"tmn\">-7</span>, <span class=\"tmx\">3</span>, <span class=\"tmn\">-1</span>, <span class=\"tmx\">5</span>, <span class=\"tmn\">-5</span>, <span class=\"tmx\">6</span>, <span class=\"tmn\">-3</span>, <span class=\"tmx\">5</span>, <span class=\"tmn\">-4</span>, <span class=\"tmx\">4</span>, <span class=\"tmn\">-3</span>, <span class=\"tmx\">6</span>, <span class=\"tmn\">-3</span>, <span class=\"tmx\">6</span>, <span class=\"tmn\">-2</span>, <span class=\"tmx\">5</span>, <span class=\"tmn\">-7</span>, <span class=\"tmx\">3</span>, <span class=\"tmn\">-2</span>, <span class=\"tmx\">4</span>, <span class=\"tmn\">-6</span>, <span class=\"tmx\">5</span>, <span class=\"tmn\">-2</span>, <span class=\"tmx\">5</span>, <span class=\"tmn\">-4</span>, <span class=\"tmx\">4</span>, <span class=\"tmn\">-4</span>, <span class=\"tmx\">5</span>, <span class=\"tmn\">-4</span>, <span class=\"tmx\">6</span>, <span class=\"tmn\">-3</span>, <span class=\"tmx\">5</span>, <span class=\"tmn\">-8</span>, <span class=\"tmx\">2</span>, <span class=\"tmn\">-2</span>, <span class=\"tmx\">4</span>, <span class=\"tmn\">-5</span>, <span class=\"tmx\">5</span>, <span class=\"tmn\">-2</span>, <span class=\"tmx\">5</span>, <span class=\"tmn\">-4</span>, <span class=\"tmx\">3</span>, <span class=\"tmn\">-4</span>, <span class=\"tmx\">5</span>, <span class=\"tmn\">-4</span>, <span class=\"tmx\">6</span>, <span class=\"tmn\">-3</span>, <span class=\"tmx\">6</span>, <span class=\"tmn\">-8</span>, <span class=\"tmx\">4</span>, <span class=\"tmn\">-4</span>, <span class=\"tmx\">5</span>, <span class=\"tmn\">-7</span>, <span class=\"tmx\">5</span>, <span class=\"tmn\">-4</span>, <span class=\"tmx\">6</span>, <span class=\"tmn\">-5</span>, <span class=\"tmx\">4</span>, <span class=\"tmn\">-5</span>, <span class=\"tmx\">6</span>, <span class=\"tmn\">-5</span>, <span class=\"tmx\">7</span>, <span class=\"tmn\">-4</span>, <span class=\"tmx\">6</span>, <span class=\"tmn\">-6</span>, <span class=\"tmx\">3</span>, <span class=\"tmn\">-2</span>, <span class=\"tmx\">6</span>, <span class=\"tmn\">-5</span>, <span class=\"tmx\">6</span>, <span class=\"tmn\">-1</span>, <span class=\"tmx\">6</span>, <span class=\"tmn\">-3</span>, <span class=\"tmx\">3</span>, <span class=\"tmn\">-3</span>, <span class=\"tmx\">6</span>, <span class=\"tmn\">-3</span>, <span class=\"tmx\">7</span>, <span class=\"tmn\">-2</span>, <span class=\"tmx\">6</span>, <span class=\"tmn\">-12</span>, <span class=\"tmx\">2</span>, <span class=\"tmn\">-4</span>, <span class=\"tmx\">4</span>, <span class=\"tmn\">-9</span>, <span class=\"tmx\">4</span>, <span class=\"tmn\">-5</span>, <span class=\"tmx\">4</span>, <span class=\"tmn\">-7</span>, <span class=\"tmx\">3</span>, <span class=\"tmn\">-7</span>, <span class=\"tmx\">4</span>, <span class=\"tmn\">-6</span>, <span class=\"tmx\">5</span>, <span class=\"tmn\">-5</span>, <span class=\"tmx\">4</span>, <span class=\"tmn\">-4</span>, <span class=\"tmx\">6</span>, <span class=\"tmn\">2</span>, <span class=\"tmx\">10</span>, <span class=\"tmn\">-2</span>, <span class=\"tmx\">7</span>, <span class=\"tmn\">1</span>, <span class=\"tmx\">9</span>, <span class=\"tmn\">1</span>, <span class=\"tmx\">8</span>, <span class=\"tmn\">1</span>, <span class=\"tmx\">9</span>, <span class=\"tmn\">1</span>, <span class=\"tmx\">9</span>, <span class=\"tmn\">2</span>, <span class=\"tmx\">9</span>, <span class=\"tmn\">-5</span>, <span class=\"tmx\">5</span>, <span class=\"tmn\">-1</span>, <span class=\"tmx\">8</span>, <span class=\"tmn\">-3</span>, <span class=\"tmx\">7</span>, <span class=\"tmn\">-2</span>, <span class=\"tmx\">8</span>, <span class=\"tmn\">-1</span>, <span class=\"tmx\">7</span>, <span class=\"tmn\">-1</span>, <span class=\"tmx\">8</span>, <span class=\"tmn\">-1</span>, <span class=\"tmx\">8</span>, <span class=\"tmn\">-2</span>, <span class=\"tmx\">7</span>, <span class=\"tmn\">-5</span>, <span class=\"tmx\">4</span>, <span class=\"tmn\">-2</span>, <span class=\"tmx\">8</span>, <span class=\"tmn\">-4</span>, <span class=\"tmx\">6</span>, <span class=\"tmn\">-1</span>, <span class=\"tmx\">7</span>, <span class=\"tmn\">-1</span>, <span class=\"tmx\">5</span>, <span class=\"tmn\">-1</span>, <span class=\"tmx\">7</span>, <span class=\"tmn\">-1</span>, <span class=\"tmx\">8</span>, <span class=\"tmn\">-1</span>, <span class=\"tmx\">7</span>, <span class=\"tmn\">-8</span>, <span class=\"tmx\">5</span>, <span class=\"tmn\">-5</span>, <span class=\"tmx\">9</span>, <span class=\"tmn\">-7</span>, <span class=\"tmx\">8</span>, <span class=\"tmn\">-5</span>, <span class=\"tmx\">8</span>, <span class=\"tmn\">-4</span>, <span class=\"tmx\">7</span>, <span class=\"tmn\">-5</span>, <span class=\"tmx\">8</span>, <span class=\"tmn\">-5</span>, <span class=\"tmx\">9</span>, <span class=\"tmn\">-4</span>, <span class=\"tmx\">8</span>, <span class=\"tmn\">-10</span>, <span class=\"tmx\">5</span>, <span class=\"tmn\">-6</span>, <span class=\"tmx\">6</span>, <span class=\"tmn\">-8</span>, <span class=\"tmx\">6</span>, <span class=\"tmn\">-5</span>, <span class=\"tmx\">6</span>, <span class=\"tmn\">-7</span>, <span class=\"tmx\">5</span>, <span class=\"tmn\">-7</span>, <span class=\"tmx\">6</span>, <span class=\"tmn\">-6</span>, <span class=\"tmx\">7</span>, <span class=\"tmn\">-5</span>, <span class=\"tmx\">6</span>, <span class=\"tmn\">-4</span>, <span class=\"tmx\">5</span>, <span class=\"tmn\">1</span>, <span class=\"tmx\">9</span>, <span class=\"tmn\">-3</span>, <span class=\"tmx\">7</span>, <span class=\"tmn\">1</span>, <span class=\"tmx\">8</span>, <span class=\"tmn\">0</span>, <span class=\"tmx\">7</span>, <span class=\"tmn\">0</span>, <span class=\"tmx\">9</span>, <span class=\"tmn\">0</span>, <span class=\"tmx\">9</span>, <span class=\"tmn\">1</span>, <span class=\"tmx\">8</span>, <span class=\"tmn\">-7</span>, <span class=\"tmx\">4</span>, <span class=\"tmn\">-3</span>, <span class=\"tmx\">7</span>, <span class=\"tmn\">-5</span>, <span class=\"tmx\">6</span>, <span class=\"tmn\">-3</span>, <span class=\"tmx\">7</span>, <span class=\"tmn\">-4</span>, <span class=\"tmx\">5</span>, <span class=\"tmn\">-3</span>, <span class=\"tmx\">6</span>, <span class=\"tmn\">-2</span>, <span class=\"tmx\">7</span>, <span class=\"tmn\">-3</span>, <span class=\"tmx\">6</span>, <span class=\"tmn\">-12</span>, <span class=\"tmx\">2</span>, <span class=\"tmn\">-6</span>, <span class=\"tmx\">5</span>, <span class=\"tmn\">-7</span>, <span class=\"tmx\">5</span>, <span class=\"tmn\">-5</span>, <span class=\"tmx\">5</span>, <span class=\"tmn\">-7</span>, <span class=\"tmx\">4</span>, <span class=\"tmn\">-7</span>, <span class=\"tmx\">5</span>, <span class=\"tmn\">-6</span>, <span class=\"tmx\">6</span>, <span class=\"tmn\">-6</span>, <span class=\"tmx\">5</span>, <span class=\"tmn\">-5</span>, <span class=\"tmx\">6</span>, <span class=\"tmn\">-1</span>, <span class=\"tmx\">8</span>, <span class=\"tmn\">-3</span>, <span class=\"tmx\">7</span>, <span class=\"tmn\">-1</span>, <span class=\"tmx\">7</span>, <span class=\"tmn\">-2</span>, <span class=\"tmx\">6</span>, <span class=\"tmn\">-1</span>, <span class=\"tmx\">8</span>, <span class=\"tmn\">-1</span>, <span class=\"tmx\">8</span>, <span class=\"tmn\">-1</span>, <span class=\"tmx\">7</span>, <span class=\"tmn\">-8</span>, <span class=\"tmx\">5</span>, <span class=\"tmn\">-4</span>, <span class=\"tmx\">7</span>, <span class=\"tmn\">-5</span>, <span class=\"tmx\">6</span>, <span class=\"tmn\">-4</span>, <span class=\"tmx\">8</span>, <span class=\"tmn\">-4</span>, <span class=\"tmx\">5</span>, <span class=\"tmn\">-4</span>, <span class=\"tmx\">7</span>, <span class=\"tmn\">-4</span>, <span class=\"tmx\">7</span>, <span class=\"tmn\">-3</span>, <span class=\"tmx\">6</span>, <span class=\"tmn\">-6</span>, <span class=\"tmx\">6</span>, <span class=\"tmn\">-1</span>, <span class=\"tmx\">8</span>, <span class=\"tmn\">-4</span>, <span class=\"tmx\">7</span>, <span class=\"tmn\">-2</span>, <span class=\"tmx\">7</span>, <span class=\"tmn\">-2</span>, <span class=\"tmx\">7</span>, <span class=\"tmn\">-2</span>, <span class=\"tmx\">7</span>, <span class=\"tmn\">-1</span>, <span class=\"tmx\">8</span>, <span class=\"tmn\">-1</span>, <span class=\"tmx\">7</span>, <span class=\"tmn\">-1</span>, <span class=\"tmx\">4</span>, <span class=\"tmn\">3</span>, <span class=\"tmx\">6</span>, <span class=\"tmn\">0</span>, <span class=\"tmx\">4</span>, <span class=\"tmn\">1</span>, <span class=\"tmx\">4</span>, <span class=\"tmn\">1</span>, <span class=\"tmx\">5</span>, <span class=\"tmn\">2</span>, <span class=\"tmx\">6</span>, <span class=\"tmn\">2</span>, <span class=\"tmx\">6</span>, <span class=\"tmn\">3</span>, <span class=\"tmx\">6</span>, <span class=\"tmn\">3</span>, <span class=\"tmx\">8</span>, <span class=\"tmn\">6</span>, <span class=\"tmx\">10</span>, <span class=\"tmn\">4</span>, <span class=\"tmx\">10</span>, <span class=\"tmn\">5</span>, <span class=\"tmx\">10</span>, <span class=\"tmn\">5</span>, <span class=\"tmx\">8</span>, <span class=\"tmn\">5</span>, <span class=\"tmx\">9</span>, <span class=\"tmn\">5</span>, <span class=\"tmx\">10</span>, <span class=\"tmn\">6</span>, <span class=\"tmx\">10</span>, <span class=\"tmn\">3</span>, <span class=\"tmx\">10</span>, <span class=\"tmn\">6</span>, <span class=\"tmx\">12</span>, <span class=\"tmn\">3</span>, <span class=\"tmx\">11</span>, <span class=\"tmn\">5</span>, <span class=\"tmx\">12</span>, <span class=\"tmn\">6</span>, <span class=\"tmx\">10</span>, <span class=\"tmn\">6</span>, <span class=\"tmx\">11</span>, <span class=\"tmn\">6</span>, <span class=\"tmx\">12</span>, <span class=\"tmn\">6</span>, <span class=\"tmx\">12</span>, <span class=\"hid\">도로명 주소 검색</span>, <span>|</span>, <span>|</span>]\n"
     ]
    }
   ],
   "source": [
    "from urllib import request\n",
    "from bs4 import BeautifulSoup\n",
    "\n",
    "url = \"https://www.weather.go.kr/w/weather/forecast/mid-term.do\"\n",
    "target = request.urlopen(url)\n",
    "\n",
    "soup = BeautifulSoup(target)\n",
    "print(soup.find_all('span'))\n",
    "\n",
    "# for location in soup.find_all('tr'):\n",
    "#     if location.find('td',class_='midterm-city'):\n",
    "#         print(\"도시명: {}, 최저기온: {}, 최대기온: {}\".format(location.find('td',class_='midterm-city').text,location.find('span',class_='tmn').text,location.find('span',class_='tmx').text))"
   ]
  },
  {
   "cell_type": "code",
   "execution_count": 14,
   "id": "cfa566c1",
   "metadata": {},
   "outputs": [],
   "source": [
    "# !pip install flask\n",
    "from flask import Flask\n",
    "\n",
    "app = Flask(__name__)\n",
    "\n",
    "@app.route(\"/\")\n",
    "def hello():\n",
    "    return \"<h1>Hello World!!</h1>\""
   ]
  },
  {
   "cell_type": "code",
   "execution_count": null,
   "id": "31c00879",
   "metadata": {},
   "outputs": [],
   "source": []
  },
  {
   "cell_type": "code",
   "execution_count": 16,
   "id": "2d9ab169",
   "metadata": {},
   "outputs": [
    {
     "name": "stdout",
     "output_type": "stream",
     "text": [
      "Hello Start !!\n",
      "Hello\n",
      "Hello End !!\n"
     ]
    }
   ],
   "source": [
    "def test(function):\n",
    "    def wrapper():\n",
    "        print(\"Hello Start !!\")\n",
    "        function()\n",
    "        print(\"Hello End !!\")\n",
    "    return wrapper\n",
    "\n",
    "@test # 데코레이션 함수\n",
    "def hello():\n",
    "    print(\"Hello\")\n",
    "\n",
    "hello()"
   ]
  },
  {
   "cell_type": "code",
   "execution_count": 18,
   "id": "a46f4a11",
   "metadata": {},
   "outputs": [],
   "source": [
    "# 모듈 만들기\n",
    "import os\n",
    "#os.mkdir(\"module_basic\")"
   ]
  },
  {
   "cell_type": "code",
   "execution_count": 22,
   "id": "5f7bdbc6",
   "metadata": {},
   "outputs": [
    {
     "name": "stdout",
     "output_type": "stream",
     "text": [
      "module_a:  a 모듈의 변수\n",
      "module_b:  b 모듈의 변수\n"
     ]
    }
   ],
   "source": [
    "import test_package.module_a as a\n",
    "import test_package.module_b as b\n",
    "\n",
    "print(\"module_a: \",a.variable_a)\n",
    "print(\"module_b: \",b.variable_b)"
   ]
  },
  {
   "cell_type": "code",
   "execution_count": 1,
   "id": "5bd63e6f",
   "metadata": {},
   "outputs": [
    {
     "name": "stdout",
     "output_type": "stream",
     "text": [
      "init 실행\n",
      "module_a:  a 모듈의 변수\n",
      "module_b:  b 모듈의 변수\n"
     ]
    }
   ],
   "source": [
    "from test_package import *\n",
    "\n",
    "print(\"module_a: \",module_a.variable_a)\n",
    "print(\"module_b: \",module_b.variable_b)"
   ]
  }
 ],
 "metadata": {
  "kernelspec": {
   "display_name": "Python 3 (ipykernel)",
   "language": "python",
   "name": "python3"
  },
  "language_info": {
   "codemirror_mode": {
    "name": "ipython",
    "version": 3
   },
   "file_extension": ".py",
   "mimetype": "text/x-python",
   "name": "python",
   "nbconvert_exporter": "python",
   "pygments_lexer": "ipython3",
   "version": "3.9.7"
  }
 },
 "nbformat": 4,
 "nbformat_minor": 5
}
