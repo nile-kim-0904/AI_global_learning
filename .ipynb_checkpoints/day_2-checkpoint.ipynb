{
 "cells": [
  {
   "cell_type": "code",
   "execution_count": 3,
   "id": "4339a549",
   "metadata": {},
   "outputs": [
    {
     "name": "stdout",
     "output_type": "stream",
     "text": [
      "False\n",
      "True\n",
      "True\n"
     ]
    }
   ],
   "source": [
    "print(10 == 100)\n",
    "print(10 < 100)\n",
    "x = 20\n",
    "print(10 < x < 25)"
   ]
  },
  {
   "cell_type": "code",
   "execution_count": 5,
   "id": "0d8f9186",
   "metadata": {},
   "outputs": [
    {
     "name": "stdout",
     "output_type": "stream",
     "text": [
      "True!!\n",
      "-------\n"
     ]
    }
   ],
   "source": [
    "if True:\n",
    "    print(\"True!!\")\n",
    "print(\"-------\")\n",
    "if False:\n",
    "    print(\"False!!\")"
   ]
  },
  {
   "cell_type": "code",
   "execution_count": 11,
   "id": "a6d78a28",
   "metadata": {},
   "outputs": [
    {
     "name": "stdout",
     "output_type": "stream",
     "text": [
      "input number > -5\n",
      "음수입니다\n"
     ]
    }
   ],
   "source": [
    "num = int(input(\"input number > \"))\n",
    "if(num > 0):\n",
    "    print(\"양수입니다\")\n",
    "elif(num < 0):\n",
    "    print(\"음수입니다\")\n",
    "else:\n",
    "    print(\"0입니다\")"
   ]
  },
  {
   "cell_type": "code",
   "execution_count": 16,
   "id": "00675c63",
   "metadata": {},
   "outputs": [
    {
     "name": "stdout",
     "output_type": "stream",
     "text": [
      "input number > 6\n",
      "짝수입니다\n"
     ]
    }
   ],
   "source": [
    "num = int(input(\"input number > \"))\n",
    "if(num%2==0):\n",
    "    print(\"짝수입니다\")\n",
    "else:\n",
    "    print(\"홀수입니다\")"
   ]
  },
  {
   "cell_type": "code",
   "execution_count": 1,
   "id": "a70723ca",
   "metadata": {},
   "outputs": [
    {
     "name": "stdout",
     "output_type": "stream",
     "text": [
      "input number > 6\n",
      "짝수입니다\n"
     ]
    }
   ],
   "source": [
    "num = input(\"input number > \")\n",
    "if num[-1] in '13579':\n",
    "    print(\"홀수입니다\")\n",
    "else:\n",
    "    print(\"짝수입니다\")"
   ]
  },
  {
   "cell_type": "code",
   "execution_count": 11,
   "id": "632f3773",
   "metadata": {},
   "outputs": [
    {
     "name": "stdout",
     "output_type": "stream",
     "text": [
      "2021-12-24 10:08:25.543655\n",
      "2021년 12월 24일 10시 8분 25초\n"
     ]
    }
   ],
   "source": [
    "import datetime\n",
    "\n",
    "now = datetime.datetime.now()\n",
    "print(now)\n",
    "print(\"{}년 {}월 {}일 {}시 {}분 {}초\".format(now.year,now.month,now.day,now.hour,now.minute,now.second))"
   ]
  },
  {
   "cell_type": "code",
   "execution_count": 13,
   "id": "bfde10ca",
   "metadata": {},
   "outputs": [
    {
     "name": "stdout",
     "output_type": "stream",
     "text": [
      "오전입니다\n",
      "겨울입니다\n"
     ]
    }
   ],
   "source": [
    "import datetime\n",
    "\n",
    "now = datetime.datetime.now()\n",
    "\n",
    "if(0 <= now.hour < 12):\n",
    "    print(\"오전입니다\")\n",
    "else:\n",
    "    print(\"오후입니다\")\n",
    "    \n",
    "if(3<=now.month<=5):\n",
    "    print(\"봄입니다\")\n",
    "elif(6<=now.month<=8):\n",
    "    print(\"여름입니다\")\n",
    "elif(9<=now.month<=11):\n",
    "    print(\"가을입니다\")\n",
    "else:\n",
    "    print(\"겨울입니다\")"
   ]
  },
  {
   "cell_type": "code",
   "execution_count": 24,
   "id": "f8b2844d",
   "metadata": {},
   "outputs": [
    {
     "name": "stdout",
     "output_type": "stream",
     "text": [
      "input > 2 * 8\n",
      "5\n",
      "3\n",
      "16\n"
     ]
    }
   ],
   "source": [
    "num = input(\"input > \")\n",
    "print(len(num))\n",
    "num_arr = num.split()\n",
    "print(len(num_arr))\n",
    "\n",
    "if (num_arr[0].isdigit()==False or num_arr[2].isdigit()==False):\n",
    "    print(\"계산불가\")\n",
    "elif(num_arr[1] in \"+-*/\"):\n",
    "    if(num_arr[1]=='+'):\n",
    "        print(int(num_arr[0])+int(num_arr[2]))\n",
    "    elif(num_arr[1]=='-'):\n",
    "        print(int(num_arr[0])-int(num_arr[2]))\n",
    "    elif(num_arr[1]=='*'):\n",
    "        print(int(num_arr[0])*int(num_arr[2]))\n",
    "    else:\n",
    "        print(int(num_arr[0])/int(num_arr[2]))\n",
    "else:\n",
    "    print(\"오류\")\n"
   ]
  }
 ],
 "metadata": {
  "kernelspec": {
   "display_name": "Python 3 (ipykernel)",
   "language": "python",
   "name": "python3"
  },
  "language_info": {
   "codemirror_mode": {
    "name": "ipython",
    "version": 3
   },
   "file_extension": ".py",
   "mimetype": "text/x-python",
   "name": "python",
   "nbconvert_exporter": "python",
   "pygments_lexer": "ipython3",
   "version": "3.9.7"
  }
 },
 "nbformat": 4,
 "nbformat_minor": 5
}
