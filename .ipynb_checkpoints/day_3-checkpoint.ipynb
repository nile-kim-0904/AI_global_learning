{
 "cells": [
  {
   "cell_type": "code",
   "execution_count": 8,
   "id": "c48f9c47",
   "metadata": {},
   "outputs": [
    {
     "name": "stdout",
     "output_type": "stream",
     "text": [
      "4번째 반복\n",
      "3번째 반복\n",
      "2번째 반복\n",
      "1번째 반복\n",
      "0번째 반복\n",
      "\n",
      "0번째 반복: 1\n",
      "1번째 반복: 2\n",
      "2번째 반복: 3\n",
      "3번째 반복: 4\n",
      "4번째 반복: 5\n"
     ]
    }
   ],
   "source": [
    "list_a = [1,2,3,4,5]\n",
    "\n",
    "for i in reversed(range(len(list_a))):\n",
    "    print(\"{}번째 반복\".format(i))\n",
    "print()\n",
    "\n",
    "for idx,value in enumerate(list_a):\n",
    "    print(\"{}번째 반복: {}\".format(idx,value))"
   ]
  },
  {
   "cell_type": "code",
   "execution_count": 18,
   "id": "54081417",
   "metadata": {},
   "outputs": [
    {
     "name": "stdout",
     "output_type": "stream",
     "text": [
      "input name > 김남우\n",
      "input score > 10\n",
      "input search name > 조용희\n",
      "자료 없음\n",
      "input name > 신계호\n",
      "input score > 50\n",
      "input search name > 조용희\n",
      "자료 없음\n",
      "input name > 송정훈\n",
      "input score > 90\n",
      "input search name > 조용희\n",
      "자료 없음\n",
      "input name > 조용희\n",
      "input score > 20\n",
      "input search name > 신계호\n",
      "신계호: 50\n",
      "input name > 이성찬\n",
      "input score > 10\n",
      "input search name > 송정훈\n",
      "송정훈: 90\n",
      "input name > q\n"
     ]
    }
   ],
   "source": [
    "dict_ = {}\n",
    "\n",
    "while(True):\n",
    "    name = input(\"input name > \")\n",
    "    if (name == 'q'):\n",
    "        break\n",
    "    score = int(input(\"input score > \"))\n",
    "    dict_[name] = score\n",
    "        \n",
    "    search = input(\"input search name > \")\n",
    "    for idx, value in enumerate(dict_):\n",
    "        #print(idx)\n",
    "        #print(value)\n",
    "        if (search == value):\n",
    "            print(\"{}: {}\".format(search,dict_[search]))\n",
    "            break\n",
    "        if idx == len(dict_)-1:\n",
    "            print(\"자료 없음\")"
   ]
  },
  {
   "cell_type": "code",
   "execution_count": 29,
   "id": "61259c8d",
   "metadata": {},
   "outputs": [
    {
     "name": "stdout",
     "output_type": "stream",
     "text": [
      "input expression > q\n"
     ]
    }
   ],
   "source": [
    "input_arr = []\n",
    "\n",
    "while(True):\n",
    "    input_arr = input(\"input expression > \").split()\n",
    "    if(input_arr[0]=='q'):\n",
    "        break\n",
    "    input_arr[0] = int(input_arr[0])\n",
    "    input_arr[2] = int(input_arr[2])\n",
    "    if (len(input_arr) != 3 or not input_arr[1] in \n",
    "        \"+-*/%//\"):\n",
    "        print(\"error!!\")\n",
    "        continue\n",
    "    elif(input_arr[1]=='+'):\n",
    "        print(input_arr[0]+input_arr[2])\n",
    "    elif(input_arr[1]=='-'):\n",
    "        print(input_arr[0]-input_arr[2])\n",
    "    elif(input_arr[1]=='*'):\n",
    "        print(input_arr[0]*input_arr[2])\n",
    "    elif(input_arr[1]=='/'):\n",
    "        print(input_arr[0]/input_arr[2])\n",
    "    elif(input_arr[1]=='%'):\n",
    "        print(input_arr[0]%input_arr[2])\n",
    "    elif(input_arr[1]=='//'):\n",
    "        print(input_arr[0]//input_arr[2])"
   ]
  },
  {
   "cell_type": "code",
   "execution_count": 31,
   "id": "b52fc96e",
   "metadata": {},
   "outputs": [
    {
     "name": "stdout",
     "output_type": "stream",
     "text": [
      "5초동안 21319417번 반복 실행\n"
     ]
    }
   ],
   "source": [
    "import time\n",
    "\n",
    "number = 0\n",
    "target_time = time.time() + 5\n",
    "\n",
    "while (time.time() < target_time):\n",
    "    number += 1\n",
    "\n",
    "print(\"5초동안 {}번 반복 실행\".format(number))"
   ]
  },
  {
   "cell_type": "code",
   "execution_count": 33,
   "id": "54118258",
   "metadata": {},
   "outputs": [
    {
     "name": "stdout",
     "output_type": "stream",
     "text": [
      "[0, 2, 4, 6, 8]\n"
     ]
    }
   ],
   "source": [
    "# 리스트 내포: [i for i in 반복 조건식]\n",
    "array = [i for i in range(10) if i % 2 == 0]\n",
    "print(array)"
   ]
  },
  {
   "cell_type": "code",
   "execution_count": 40,
   "id": "b64700f1",
   "metadata": {},
   "outputs": [
    {
     "name": "stdout",
     "output_type": "stream",
     "text": [
      "2500\n",
      "2550\n"
     ]
    }
   ],
   "source": [
    "odd_sum = sum([i for i in range(101) if i%2==1])\n",
    "print(odd_sum)\n",
    "\n",
    "even_sum = sum([i for i in range(101) if i %2==0])\n",
    "print(even_sum)"
   ]
  },
  {
   "cell_type": "code",
   "execution_count": 42,
   "id": "ad928ff2",
   "metadata": {},
   "outputs": [
    {
     "data": {
      "text/plain": [
       "2"
      ]
     },
     "execution_count": 42,
     "metadata": {},
     "output_type": "execute_result"
    }
   ],
   "source": [
    "a = (1,2,3,4)\n",
    "a[1]"
   ]
  },
  {
   "cell_type": "code",
   "execution_count": 47,
   "id": "41eaf597",
   "metadata": {},
   "outputs": [
    {
     "name": "stdout",
     "output_type": "stream",
     "text": [
      "1-2-3-4-5\n",
      "1::2::3::4::5\n"
     ]
    },
    {
     "data": {
      "text/plain": [
       "['1', '2', '3', '4', '5']"
      ]
     },
     "execution_count": 47,
     "metadata": {},
     "output_type": "execute_result"
    }
   ],
   "source": [
    "list_a = ['1','2','3','4','5']\n",
    "print(\"-\".join(list_a))\n",
    "\n",
    "join_list = \"::\".join(list_a)\n",
    "print(join_list)\n",
    "join_list.split(sep=\"::\")"
   ]
  },
  {
   "cell_type": "code",
   "execution_count": 50,
   "id": "140372b6",
   "metadata": {
    "scrolled": true
   },
   "outputs": [
    {
     "name": "stdout",
     "output_type": "stream",
     "text": [
      "reversed_numbers:  <list_reverseiterator object at 0x0000028C90A88EE0>\n",
      "5\n",
      "4\n",
      "3\n",
      "2\n",
      "1\n"
     ]
    }
   ],
   "source": [
    "numbers = [1,2,3,4,5]\n",
    "r_num = reversed(numbers)\n",
    "\n",
    "print(\"reversed_numbers: \",r_num)\n",
    "print(next(r_num))\n",
    "print(next(r_num))\n",
    "print(next(r_num))\n",
    "print(next(r_num))\n",
    "print(next(r_num))\n",
    "#print(next(r_num))"
   ]
  },
  {
   "cell_type": "code",
   "execution_count": 64,
   "id": "427e94a9",
   "metadata": {},
   "outputs": [
    {
     "name": "stdout",
     "output_type": "stream",
     "text": [
      "input name & number > 김남우 123 345 7567\n",
      "search name > 신계호\n",
      "자료 없음\n",
      "input name & number > 신계호 123 345 3566\n",
      "search name > 조용희\n",
      "자료 없음\n",
      "input name & number > 조용희 124 348 3457\n",
      "search name > 신계호\n",
      "123-345-3566\n",
      "input name & number > q\n"
     ]
    }
   ],
   "source": [
    "list_ = []\n",
    "dict_ = {}\n",
    "\n",
    "while(True):\n",
    "    list_ = input(\"input name & number > \").split()\n",
    "    \n",
    "    if(list_[0]=='q'):\n",
    "        break\n",
    "    dict_[list_[0]] = '-'.join(list_[1:])\n",
    "    \n",
    "    search = input(\"search name > \")\n",
    "    if (search in dict_):\n",
    "        print(dict_[search])\n",
    "    else:\n",
    "        print(\"자료 없음\")"
   ]
  },
  {
   "cell_type": "code",
   "execution_count": 68,
   "id": "7eb296d6",
   "metadata": {},
   "outputs": [
    {
     "name": "stdout",
     "output_type": "stream",
     "text": [
      "안녕하세요\n",
      "\n",
      "안녕하세요\n",
      "\n"
     ]
    }
   ],
   "source": [
    "def print_n_times(n,*values):\n",
    "    for i in range(n):\n",
    "        for value in values:\n",
    "            print(value)   \n",
    "        print()\n",
    "        \n",
    "print_n_times(2,\"안녕하세요\")"
   ]
  },
  {
   "cell_type": "code",
   "execution_count": null,
   "id": "686bccfa",
   "metadata": {},
   "outputs": [],
   "source": []
  },
  {
   "cell_type": "code",
   "execution_count": 72,
   "id": "dead3a83",
   "metadata": {},
   "outputs": [
    {
     "name": "stdout",
     "output_type": "stream",
     "text": [
      "-1\n"
     ]
    }
   ],
   "source": [
    "def calculator(a,b,sign):\n",
    "    if sign in '+-*/%//':\n",
    "        if(sign == '+'):\n",
    "            return a + b\n",
    "        elif(sign == '-'):\n",
    "            return a - b\n",
    "        elif(sign == '*'):\n",
    "            return a * b\n",
    "        elif(sign == '/'):\n",
    "            return a / b\n",
    "        elif(sign == '%'):\n",
    "            return a % b\n",
    "        elif(sign == '//'):\n",
    "            return a // b\n",
    "    else:\n",
    "        print(\"오류!!\")\n",
    "        \n",
    "print(calculator(2,3,'-'))"
   ]
  },
  {
   "cell_type": "code",
   "execution_count": null,
   "id": "954cbd0d",
   "metadata": {},
   "outputs": [],
   "source": []
  },
  {
   "cell_type": "code",
   "execution_count": null,
   "id": "23e12f23",
   "metadata": {},
   "outputs": [
    {
     "name": "stdout",
     "output_type": "stream",
     "text": [
      "input data > 김남우 10 20 30\n",
      "{'김남우': [10, 20, 30]}\n",
      "[10, 20, 30, 60, 20.0]\n",
      "김남우 60\n",
      "김남우 60\n"
     ]
    }
   ],
   "source": [
    "dict_ = {}\n",
    "\n",
    "def input_tot_avg(dict_):\n",
    "    for name, score in dict_.items():\n",
    "        score.append(sum(score))\n",
    "        dict_[name].append(score[3]/len(score[:-1]))\n",
    "        print(score)\n",
    "        \n",
    "def find_min_max(dict_):\n",
    "    max_score = -1\n",
    "    max_name = \"\"\n",
    "    min_score = 1000\n",
    "    min_name = \"\"\n",
    "    for name,score in dict_.items():\n",
    "        if (score[3] > max_score):\n",
    "            max_score = score[3]\n",
    "            max_name = name\n",
    "        else:\n",
    "            pass\n",
    "    print(max_name, max_score)\n",
    "    \n",
    "    for name,score in dict_.items():\n",
    "        if (score[3] < min_score):\n",
    "            min_score = score[3]\n",
    "            min_name = name\n",
    "        else:\n",
    "            pass\n",
    "    print(min_name, min_score)\n",
    "\n",
    "# def find_tot_avg(dict_):\n",
    "#     tot_sum = 0\n",
    "#     tot_avg = 0\n",
    "#     for idx, score in enumerate(dict_):\n",
    "#         tot_sum += score[3]\n",
    "#     tot_avg = tot_sum/len(dict_[name])\n",
    "#     print(tot_avg)\n",
    "    \n",
    "def input_data():\n",
    "\n",
    "    while(True):\n",
    "        data = input(\"input data > \").split()\n",
    "        if (data[0]=='q'):\n",
    "            break\n",
    "        data[1] = int(data[1])\n",
    "        data[2] = int(data[2])\n",
    "        data[3] = int(data[3])\n",
    "        dict_[data[0]] = data[1:]\n",
    "        print(dict_)\n",
    "        \n",
    "        input_tot_avg(dict_)\n",
    "        find_min_max(dict_)\n",
    "#         find_tot_avg(dict_)\n",
    "        \n",
    "input_data()"
   ]
  },
  {
   "cell_type": "raw",
   "id": "5ae0ab8a",
   "metadata": {},
   "source": []
  },
  {
   "cell_type": "code",
   "execution_count": null,
   "id": "42196213",
   "metadata": {},
   "outputs": [],
   "source": []
  }
 ],
 "metadata": {
  "kernelspec": {
   "display_name": "Python 3 (ipykernel)",
   "language": "python",
   "name": "python3"
  },
  "language_info": {
   "codemirror_mode": {
    "name": "ipython",
    "version": 3
   },
   "file_extension": ".py",
   "mimetype": "text/x-python",
   "name": "python",
   "nbconvert_exporter": "python",
   "pygments_lexer": "ipython3",
   "version": "3.9.7"
  }
 },
 "nbformat": 4,
 "nbformat_minor": 5
}
