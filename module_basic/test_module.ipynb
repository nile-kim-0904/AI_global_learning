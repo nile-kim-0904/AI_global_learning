{
 "cells": [
  {
   "cell_type": "code",
   "execution_count": null,
   "id": "043ddf88",
   "metadata": {},
   "outputs": [],
   "source": [
    "#test 모듈 생성\n",
    "PI = 3.141592\n",
    "\n",
    "def number_input():\n",
    "    output = input(\"숫자 입력 > \")\n",
    "    return float(output)\n",
    "    \n",
    "def get_circum(radius):\n",
    "    return radius*PI*2\n",
    "\n",
    "def get_circle_area(radius):\n",
    "    return radius*radius*PI\n",
    "\n",
    "#활용 예\n",
    "if __name__ == \"__main__\":\n",
    "    print(\"get_circum(10): \",get_circum(10))\n",
    "    print(\"get_circle_area(10): \",get_circle_area(10))"
   ]
  }
 ],
 "metadata": {
  "kernelspec": {
   "display_name": "Python 3 (ipykernel)",
   "language": "python",
   "name": "python3"
  },
  "language_info": {
   "codemirror_mode": {
    "name": "ipython",
    "version": 3
   },
   "file_extension": ".py",
   "mimetype": "text/x-python",
   "name": "python",
   "nbconvert_exporter": "python",
   "pygments_lexer": "ipython3",
   "version": "3.9.7"
  }
 },
 "nbformat": 4,
 "nbformat_minor": 5
}
