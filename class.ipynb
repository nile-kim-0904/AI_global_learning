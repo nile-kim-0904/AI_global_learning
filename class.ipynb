{
 "cells": [
  {
   "cell_type": "code",
   "execution_count": 4,
   "id": "7dde389a",
   "metadata": {},
   "outputs": [
    {
     "name": "stdout",
     "output_type": "stream",
     "text": [
      "홍길동 90 100\n"
     ]
    }
   ],
   "source": [
    "# class 정의 class 클래스명: ~~~\n",
    "class Student:\n",
    "    def __init__(self,name,kor,eng):\n",
    "        self.name = name\n",
    "        self.kor = kor\n",
    "        self.eng = eng\n",
    "    def get_sum(self):\n",
    "        return self.kor + self.eng\n",
    "    def get_avg(self):\n",
    "        return self.sum() / 2\n",
    "\n",
    "student = Student('홍길동',90,100)\n",
    "print(student.name, student.kor, student.eng)"
   ]
  },
  {
   "cell_type": "code",
   "execution_count": 35,
   "id": "5b40c530",
   "metadata": {},
   "outputs": [],
   "source": [
    "class Circle:\n",
    "    def __init__(self,radius):\n",
    "        self.__radius = radius # private 변수\n",
    "        #self.radius1 = radius # 일반 변수\n",
    "    def get_area(self):\n",
    "        return self.__radius * self.__radius\n",
    "    def get_radius(self):\n",
    "        return self.__radius\n",
    "    @property\n",
    "    def radius(self):\n",
    "        return self.__radius\n",
    "    @radius.setter\n",
    "    def radius(self,value):\n",
    "        self.__radius = value"
   ]
  },
  {
   "cell_type": "code",
   "execution_count": 37,
   "id": "cddf4416",
   "metadata": {},
   "outputs": [
    {
     "name": "stdout",
     "output_type": "stream",
     "text": [
      "circle.radius:  10\n",
      "circle.radius:  10\n"
     ]
    }
   ],
   "source": [
    "circle = Circle(10)\n",
    "print(\"circle.radius: \",circle.radius)\n",
    "circle.radius\n",
    "print(\"circle.radius: \",circle.radius)"
   ]
  },
  {
   "cell_type": "code",
   "execution_count": 51,
   "id": "2ddb7e97",
   "metadata": {},
   "outputs": [],
   "source": [
    "# 상속: 부모의 속성을 상속\n",
    "class Parent:\n",
    "    def __init__(self):\n",
    "        self.value = \"테스트\"\n",
    "        print(\"Parent class init\")\n",
    "    def test(self):\n",
    "        print(\"Parent test 함수: \")\n",
    "class Child(Parent): # 상속 클래스 정의: class 클래스명(상속받을 클래스명)\n",
    "    def __init__(self):\n",
    "        Parent.__init__(self)\n",
    "        print(\"Child class init\")\n",
    "    def child_test(self):\n",
    "        print(\"Child test 함수: \")\n",
    "    def test(self):\n",
    "        print(\"child test() 재정의 \") # override"
   ]
  },
  {
   "cell_type": "code",
   "execution_count": 52,
   "id": "9072f130",
   "metadata": {},
   "outputs": [
    {
     "name": "stdout",
     "output_type": "stream",
     "text": [
      "Parent class init\n",
      "Parent test 함수: \n",
      "테스트 None\n",
      "\n",
      "Parent class init\n",
      "Child class init\n",
      "Parent test 함수: \n"
     ]
    }
   ],
   "source": [
    "parent = Parent()\n",
    "print(parent.value, parent.test())\n",
    "print()\n",
    "child = Child()\n",
    "child.value\n",
    "child.test()\n"
   ]
  },
  {
   "cell_type": "code",
   "execution_count": null,
   "id": "f0a6ee0e",
   "metadata": {},
   "outputs": [],
   "source": []
  }
 ],
 "metadata": {
  "kernelspec": {
   "display_name": "Python 3 (ipykernel)",
   "language": "python",
   "name": "python3"
  },
  "language_info": {
   "codemirror_mode": {
    "name": "ipython",
    "version": 3
   },
   "file_extension": ".py",
   "mimetype": "text/x-python",
   "name": "python",
   "nbconvert_exporter": "python",
   "pygments_lexer": "ipython3",
   "version": "3.9.7"
  }
 },
 "nbformat": 4,
 "nbformat_minor": 5
}
