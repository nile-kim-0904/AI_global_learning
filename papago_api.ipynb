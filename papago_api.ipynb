{
 "cells": [
  {
   "cell_type": "code",
   "execution_count": 5,
   "id": "5f5f9206",
   "metadata": {},
   "outputs": [],
   "source": [
    "# papago api를 활용한 번역 프로그램 작성\n",
    "text = '''\n",
    "Maybe it's all down to the thought of her\n",
    "Maybe it's all down to the loss we learned\n",
    "Knew for a long time, for all it's worth\n",
    "I wanted to run to you\n",
    "What if I'm caught up on it's me you're calling\n",
    "What if I'm lost now, plus if demons come in\n",
    "When she kissed me I felt a new freedom or something (well)\n",
    "Move on\n",
    "I found a moment to be brave, so I let her know\n",
    "And she said, \"how could I love you back, you who dropped your dreams in the gutter\"\n",
    "In my winter, she'll be burning slow\n",
    "Feels like December knows me well\n",
    "'''\n",
    "\n",
    "# 'Cause I loved ya\n",
    "# Does that mean nothing to you now?\n",
    "# I loved ya\n",
    "# Get me back on homely ground\n",
    "# She said, \"oh I know that love is all about the wind\n",
    "# How it can hold me up and kill me in the end\"\n",
    "# Still I loved it\n",
    "# Does that mean nothing to you now?\n",
    "\n",
    "# Days when we all watched 'till we lost the birds\n",
    "# Threw a rose in, 'till it caught the turn\n",
    "# Knew it felt right, we were bound to burn\n",
    "# I wanted to run to you\n",
    "# Maybe I've lost count of the rooms you're tall in\n",
    "# Maybe I've lost count of the nighttime all ins\n",
    "# So the trees and her were first to know\n",
    "# It'll all be good, just hold me well\n",
    "\n",
    "# 'Cause I loved ya\n",
    "# Does that mean nothing to you now?\n",
    "# I loved ya\n",
    "# Get me back on homely ground\n",
    "# She said, \"oh I know that love is all about the wind\n",
    "# How it can hold me up and kill me in the end\"\n",
    "# Still I loved it\n",
    "# Does that mean nothing to you now?\n",
    "\n",
    "# Wasn't easy to go, I know\n",
    "# You shouldn't have no seat in the front row\n",
    "# I know, I know\n",
    "# Wasn't easy to go, I know\n",
    "# And the sun came out, day late though\n",
    "# I know, I know\n",
    "# Wasn't easy to go, I know\n",
    "# He pulled up, flat tyres, ten spokes\n",
    "# I know I know\n",
    "# Wasn't easy to go, I know\n",
    "# He came all that way just to say hello\n",
    "# I know, I know\n",
    "\n",
    "# 'Cause I loved ya\n",
    "# Does that mean nothing to you now?\n",
    "# I loved ya\n",
    "# Get me back on homely ground\n",
    "# She said, \"oh I know that love is all about the wind\n",
    "# How it can hold me up and kill me in the end\"\n",
    "# Still I loved it\n",
    "# Does that mean nothing to you now? "
   ]
  },
  {
   "cell_type": "code",
   "execution_count": 6,
   "id": "9a31f0b4",
   "metadata": {},
   "outputs": [],
   "source": [
    "import requests"
   ]
  },
  {
   "cell_type": "code",
   "execution_count": 10,
   "id": "f6e67892",
   "metadata": {},
   "outputs": [],
   "source": [
    "requests_url = 'https://openapi.naver.com/v1/papago/n2mt'\n",
    "\n",
    "headers = {\"Content-Type\":\"application/x-www-form-urlencoded; charset=UTF-8\",\n",
    "           \"X-Naver-Client-Id\":\"ycMVmq2QIW6OBb6RzfYS\",\n",
    "           \"X-Naver-Client-Secret\":\"QCyvCrFmnP\"}\n",
    "\n",
    "# source=ko&target=en&text=만나서 반갑습니다.\n",
    "params = {\"source\":\"en\", \"target\":\"ko\",\"text\":text}"
   ]
  },
  {
   "cell_type": "code",
   "execution_count": 18,
   "id": "2c6fb1ce",
   "metadata": {},
   "outputs": [
    {
     "name": "stdout",
     "output_type": "stream",
     "text": [
      "<class 'str'>\n",
      "{\"message\":{\"@type\":\"response\",\"@service\":\"naverservice.nmt.proxy\",\"@version\":\"1.0.0\",\"result\":{\"srcLangType\":\"en\",\"tarLangType\":\"ko\",\"translatedText\":\"아마 모두 그녀 생각에 달려있을거야.\\n어쩌면 이 모든 것은 우리가 배운 상실감 때문일지도 모른다.\\n오래 전부터 알고 있었어, 가치있는 모든 걸\\n나는 너에게 달려가고 싶었다.\\n나 때문에 전화한 거면 어쩌지?\\n만약 내가 지금 길을 잃는다면, 그리고 만약 악마가 들어오면.\\n그녀가 나에게 키스했을 때 나는 새로운 자유 같은 것을 느꼈다.\\n다음으로.\\n용기를 낼 수 있는 순간이 떠올랐어 그래서 그녀에게 알려줬어\\n\\\"꿈을 저수지에 버린 당신, 내가 어떻게 당신을 사랑할 수 있겠어요\\\" 라고 말했어요.\\n내 겨울에는 천천히 타오를 거야\\n12월이 나를 잘 아는 것 같다.\",\"engineType\":\"UNDEF_MULTI_SENTENCE\",\"pivot\":null}}}\n",
      "<class 'dict'>\n",
      "{'message': {'@type': 'response', '@service': 'naverservice.nmt.proxy', '@version': '1.0.0', 'result': {'srcLangType': 'en', 'tarLangType': 'ko', 'translatedText': '아마 모두 그녀 생각에 달려있을거야.\\n어쩌면 이 모든 것은 우리가 배운 상실감 때문일지도 모른다.\\n오래 전부터 알고 있었어, 가치있는 모든 걸\\n나는 너에게 달려가고 싶었다.\\n나 때문에 전화한 거면 어쩌지?\\n만약 내가 지금 길을 잃는다면, 그리고 만약 악마가 들어오면.\\n그녀가 나에게 키스했을 때 나는 새로운 자유 같은 것을 느꼈다.\\n다음으로.\\n용기를 낼 수 있는 순간이 떠올랐어 그래서 그녀에게 알려줬어\\n\"꿈을 저수지에 버린 당신, 내가 어떻게 당신을 사랑할 수 있겠어요\" 라고 말했어요.\\n내 겨울에는 천천히 타오를 거야\\n12월이 나를 잘 아는 것 같다.', 'engineType': 'UNDEF_MULTI_SENTENCE', 'pivot': None}}}\n"
     ]
    }
   ],
   "source": [
    "response = requests.post(requests_url, headers=headers,data=params)\n",
    "print(type(response.text))\n",
    "print(response.text) # 문자열로 반환\n",
    "\n",
    "res = response.json() # dict 타입으로 데이터 변경\n",
    "print(type(res))\n",
    "print(res)"
   ]
  },
  {
   "cell_type": "code",
   "execution_count": 19,
   "id": "a5683e64",
   "metadata": {},
   "outputs": [
    {
     "name": "stdout",
     "output_type": "stream",
     "text": [
      "아마 모두 그녀 생각에 달려있을거야.\n",
      "어쩌면 이 모든 것은 우리가 배운 상실감 때문일지도 모른다.\n",
      "오래 전부터 알고 있었어, 가치있는 모든 걸\n",
      "나는 너에게 달려가고 싶었다.\n",
      "나 때문에 전화한 거면 어쩌지?\n",
      "만약 내가 지금 길을 잃는다면, 그리고 만약 악마가 들어오면.\n",
      "그녀가 나에게 키스했을 때 나는 새로운 자유 같은 것을 느꼈다.\n",
      "다음으로.\n",
      "용기를 낼 수 있는 순간이 떠올랐어 그래서 그녀에게 알려줬어\n",
      "\"꿈을 저수지에 버린 당신, 내가 어떻게 당신을 사랑할 수 있겠어요\" 라고 말했어요.\n",
      "내 겨울에는 천천히 타오를 거야\n",
      "12월이 나를 잘 아는 것 같다.\n"
     ]
    }
   ],
   "source": [
    "print(res[\"message\"][\"result\"][\"translatedText\"])"
   ]
  }
 ],
 "metadata": {
  "kernelspec": {
   "display_name": "Python 3 (ipykernel)",
   "language": "python",
   "name": "python3"
  },
  "language_info": {
   "codemirror_mode": {
    "name": "ipython",
    "version": 3
   },
   "file_extension": ".py",
   "mimetype": "text/x-python",
   "name": "python",
   "nbconvert_exporter": "python",
   "pygments_lexer": "ipython3",
   "version": "3.9.7"
  }
 },
 "nbformat": 4,
 "nbformat_minor": 5
}
